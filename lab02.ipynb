{
 "cells": [
  {
   "cell_type": "code",
   "execution_count": 7,
   "metadata": {
    "deletable": false,
    "editable": false
   },
   "outputs": [],
   "source": [
    "# Initialize Otter\n",
    "import otter\n",
    "grader = otter.Notebook(\"lab02.ipynb\")"
   ]
  },
  {
   "cell_type": "markdown",
   "metadata": {
    "nbgrader": {
     "grade": false,
     "grade_id": "intro",
     "locked": true,
     "schema_version": 2,
     "solution": false
    }
   },
   "source": [
    "# Lab 2: SQL\n",
    "\n",
    "In this lab, we are going to practice viewing, sorting, grouping, and merging tables with SQL. We will explore the money donated during the 2016 election using the [Federal Election Commission's public records](https://www.fec.gov/data/). You will be connecting to a `sqlite` database containing the data. The data we will be working with in this lab is quite small (16MB); however, it is a sample taken from a larger database that is more than a few GBs.\n",
    "\n",
    "\n",
    "### Due Date\n",
    "\n",
    "This assignment is due at **Thursday, February 4th** at 11:59 pm.\n",
    "\n",
    "### Collaboration Policy\n",
    "\n",
    "Data science is a collaborative activity. While you may talk with others about this assignment, we ask that you **write your solutions individually**. If you discuss the assignment with others, please **include their names** in the cell below."
   ]
  },
  {
   "cell_type": "markdown",
   "metadata": {},
   "source": [
    "**Collaborators:** *list names here*"
   ]
  },
  {
   "cell_type": "markdown",
   "metadata": {},
   "source": [
    "### Lab Walk-Through\n",
    "\n",
    "In addition to the lab notebook, we have also released a prerecorded walk-through video of the lab. We encourage you to reference this video as you work through the lab. Run the cell below to display the video."
   ]
  },
  {
   "cell_type": "code",
   "execution_count": 8,
   "metadata": {
    "scrolled": true
   },
   "outputs": [
    {
     "data": {
      "image/jpeg": "[encoded data removed]",
      "text/html": [
       "\n",
       "        <iframe\n",
       "            width=\"400\"\n",
       "            height=\"300\"\n",
       "            src=\"https://www.youtube.com/embed/bAP9dxCdyrc\"\n",
       "            frameborder=\"0\"\n",
       "            allowfullscreen\n",
       "        ></iframe>\n",
       "        "
      ],
      "text/plain": [
       "<IPython.lib.display.YouTubeVideo at 0x7fcfde1ec2e0>"
      ]
     },
     "execution_count": 8,
     "metadata": {},
     "output_type": "execute_result"
    }
   ],
   "source": [
    "from IPython.display import YouTubeVideo\n",
    "YouTubeVideo(\"bAP9dxCdyrc\")"
   ]
  },
  {
   "cell_type": "code",
   "execution_count": 9,
   "metadata": {
    "nbgrader": {
     "grade": false,
     "grade_id": "imports",
     "locked": true,
     "schema_version": 2,
     "solution": false
    }
   },
   "outputs": [],
   "source": [
    "import pandas as pd\n",
    "import sqlalchemy\n",
    "from ds100_utils import fetch_and_cache\n",
    "from pathlib import Path"
   ]
  },
  {
   "cell_type": "markdown",
   "metadata": {},
   "source": [
    "### Connecting to SQLite"
   ]
  },
  {
   "cell_type": "markdown",
   "metadata": {},
   "source": [
    "Download the database to local disk drive; this will take about a minute."
   ]
  },
  {
   "cell_type": "code",
   "execution_count": 10,
   "metadata": {
    "nbgrader": {
     "grade": false,
     "grade_id": "sql-setup1",
     "locked": true,
     "schema_version": 2,
     "solution": false
    }
   },
   "outputs": [
    {
     "name": "stdout",
     "output_type": "stream",
     "text": [
      "Downloading... Done!\n"
     ]
    }
   ],
   "source": [
    "db_url = 'https://s3.amazonaws.com/berkeley-ds100/fec_nyc.sqlite'\n",
    "db_filename = 'fec_nyc.db'\n",
    "data_dir = Path('data')\n",
    "fetch_and_cache(db_url, db_filename, data_dir = data_dir)\n",
    "db_path = data_dir / db_filename"
   ]
  },
  {
   "cell_type": "markdown",
   "metadata": {},
   "source": [
    "The following cell will connect to the above database using the SQL Alchemy library. This library is more general than the `sqlite3` module from the standard library because it can connect to several different database management systems, such as MySQL and PostgreSQL. It also supports an advanced feature for generating queries called an [object relational mapper](https://docs.sqlalchemy.org/en/latest/orm/tutorial.html) or ORM, which we won't discuss in this course but is quite useful for application development."
   ]
  },
  {
   "cell_type": "code",
   "execution_count": 11,
   "metadata": {},
   "outputs": [],
   "source": [
    "engine = sqlalchemy.create_engine(f\"sqlite:///{db_path}\")\n",
    "connection = engine.connect()"
   ]
  },
  {
   "cell_type": "markdown",
   "metadata": {},
   "source": [
    "To check that everything is working we will list the available tables."
   ]
  },
  {
   "cell_type": "code",
   "execution_count": 12,
   "metadata": {},
   "outputs": [
    {
     "data": {
      "text/plain": [
       "['cand', 'comm', 'indiv_sample_nyc']"
      ]
     },
     "execution_count": 12,
     "metadata": {},
     "output_type": "execute_result"
    }
   ],
   "source": [
    "engine.table_names()"
   ]
  },
  {
   "cell_type": "markdown",
   "metadata": {},
   "source": [
    "## Table Descriptions\n",
    "\n",
    "Here is a list of the tables in the database.  Each table links to the documentation on the [FEC page](https://www.fec.gov/data/browse-data/) for the dataset.\n",
    "\n",
    "If you'd like, you can consult the FEC page for the descriptions of the tables to find out what the correspondence is.\n",
    "\n",
    "- [`cand`](https://www.fec.gov/campaign-finance-data/candidate-summary-file-description/): Candidates table. Contains names and party affiliation.\n",
    "- [`comm`](https://www.fec.gov/campaign-finance-data/committee-summary-file-description/): Committees table. Contains committee names and types.\n",
    "- [`indiv_sample_nyc`](https://www.fec.gov/campaign-finance-data/contributions-individuals-file-description/): All individual contributions from New York City.\n",
    "\n",
    "We can see the schemas of these tables with the following code."
   ]
  },
  {
   "cell_type": "code",
   "execution_count": 13,
   "metadata": {},
   "outputs": [
    {
     "name": "stdout",
     "output_type": "stream",
     "text": [
      "CREATE TABLE \"cand\" (\n",
      "    cand_id character varying(9),\n",
      "    cand_name text,\n",
      "    cand_pty_affiliation character varying(3),\n",
      "    cand_election_yr integer,\n",
      "    cand_office_st character varying(2),\n",
      "    cand_office character(1),\n",
      "    cand_office_district integer,\n",
      "    cand_ici character(1),\n",
      "    cand_status character(1),\n",
      "    cand_pcc character varying(9),\n",
      "    cand_st1 text,\n",
      "    cand_st2 text,\n",
      "    cand_city text,\n",
      "    cand_st character varying(2),\n",
      "    cand_zip character varying(10)\n",
      ")\n",
      "CREATE TABLE \"comm\"(\n",
      "  \"cmte_id\" TEXT,\n",
      "  \"cmte_nm\" TEXT,\n",
      "  \"tres_nm\" TEXT,\n",
      "  \"cmte_st1\" TEXT,\n",
      "  \"cmte_st2\" TEXT,\n",
      "  \"cmte_city\" TEXT,\n",
      "  \"cmte_st\" TEXT,\n",
      "  \"cmte_zip\" TEXT,\n",
      "  \"cmte_dsgn\" TEXT,\n",
      "  \"cmte_tp\" TEXT,\n",
      "  \"cmte_pty_affiliation\" TEXT,\n",
      "  \"cmte_filing_freq\" TEXT,\n",
      "  \"org_tp\" TEXT,\n",
      "  \"connected_org_nm\" TEXT,\n",
      "  \"cand_id\" TEXT\n",
      ")\n",
      "CREATE TABLE indiv_sample_nyc (\n",
      "    cmte_id character varying(9),\n",
      "    amndt_ind character(1),\n",
      "    rpt_tp character varying(3),\n",
      "    transaction_pgi character(5),\n",
      "    image_num bigint,\n",
      "    transaction_tp character varying(3),\n",
      "    entity_tp character varying(3),\n",
      "    name text,\n",
      "    city text,\n",
      "    state character(2),\n",
      "    zip_code character varying(12),\n",
      "    employer text,\n",
      "    occupation text,\n",
      "    transaction_dt character varying(9),\n",
      "    transaction_amt integer,\n",
      "    other_id text,\n",
      "    tran_id text,\n",
      "    file_num bigint,\n",
      "    memo_cd text,\n",
      "    memo_text text,\n",
      "    sub_id bigint\n",
      ")\n"
     ]
    }
   ],
   "source": [
    "for exp in connection.execute('SELECT sql FROM sqlite_master;'):\n",
    "    print(exp[0])"
   ]
  },
  {
   "cell_type": "markdown",
   "metadata": {},
   "source": [
    "We can also look at the tables themselves.\n",
    "\n",
    "The individual donations made by NY residents are shown below.\n",
    "\n",
    "We use `LIMIT 5` to avoid loading a huge table. Although our tables shouldn't get too large to display, this is generally good practice when working in the notebook environment. Jupyter notebooks don't handle very large outputs well. Also note the `\"\"\"` to define our query. This allows us to have a query span multiple lines."
   ]
  },
  {
   "cell_type": "code",
   "execution_count": 14,
   "metadata": {},
   "outputs": [
    {
     "data": {
      "text/html": [
       "<div>\n",
       "<style scoped>\n",
       "    .dataframe tbody tr th:only-of-type {\n",
       "        vertical-align: middle;\n",
       "    }\n",
       "\n",
       "    .dataframe tbody tr th {\n",
       "        vertical-align: top;\n",
       "    }\n",
       "\n",
       "    .dataframe thead th {\n",
       "        text-align: right;\n",
       "    }\n",
       "</style>\n",
       "<table border=\"1\" class=\"dataframe\">\n",
       "  <thead>\n",
       "    <tr style=\"text-align: right;\">\n",
       "      <th></th>\n",
       "      <th>cmte_id</th>\n",
       "      <th>amndt_ind</th>\n",
       "      <th>rpt_tp</th>\n",
       "      <th>transaction_pgi</th>\n",
       "      <th>image_num</th>\n",
       "      <th>transaction_tp</th>\n",
       "      <th>entity_tp</th>\n",
       "      <th>name</th>\n",
       "      <th>city</th>\n",
       "      <th>state</th>\n",
       "      <th>...</th>\n",
       "      <th>employer</th>\n",
       "      <th>occupation</th>\n",
       "      <th>transaction_dt</th>\n",
       "      <th>transaction_amt</th>\n",
       "      <th>other_id</th>\n",
       "      <th>tran_id</th>\n",
       "      <th>file_num</th>\n",
       "      <th>memo_cd</th>\n",
       "      <th>memo_text</th>\n",
       "      <th>sub_id</th>\n",
       "    </tr>\n",
       "  </thead>\n",
       "  <tbody>\n",
       "    <tr>\n",
       "      <th>0</th>\n",
       "      <td>C00445015</td>\n",
       "      <td>N</td>\n",
       "      <td>Q1</td>\n",
       "      <td>P</td>\n",
       "      <td>15951128130</td>\n",
       "      <td>15</td>\n",
       "      <td>IND</td>\n",
       "      <td>SINGER, TRIPP MR.</td>\n",
       "      <td>NEW YORK</td>\n",
       "      <td>NY</td>\n",
       "      <td>...</td>\n",
       "      <td>ATLANTIC MAILBOXES, INC.</td>\n",
       "      <td>OWNER</td>\n",
       "      <td>01302015</td>\n",
       "      <td>1000</td>\n",
       "      <td></td>\n",
       "      <td>A-CF13736</td>\n",
       "      <td>1002485</td>\n",
       "      <td></td>\n",
       "      <td></td>\n",
       "      <td>4041420151241812398</td>\n",
       "    </tr>\n",
       "    <tr>\n",
       "      <th>1</th>\n",
       "      <td>C00510461</td>\n",
       "      <td>N</td>\n",
       "      <td>Q1</td>\n",
       "      <td>P</td>\n",
       "      <td>15951129284</td>\n",
       "      <td>15E</td>\n",
       "      <td>IND</td>\n",
       "      <td>SIMON, DANIEL A</td>\n",
       "      <td>NEW YORK</td>\n",
       "      <td>NY</td>\n",
       "      <td>...</td>\n",
       "      <td>N/A</td>\n",
       "      <td>RETIRED</td>\n",
       "      <td>03292015</td>\n",
       "      <td>400</td>\n",
       "      <td>C00401224</td>\n",
       "      <td>VN8JBDDJBA8</td>\n",
       "      <td>1002590</td>\n",
       "      <td></td>\n",
       "      <td>* EARMARKED CONTRIBUTION: SEE BELOW</td>\n",
       "      <td>4041420151241813640</td>\n",
       "    </tr>\n",
       "    <tr>\n",
       "      <th>2</th>\n",
       "      <td>C00422410</td>\n",
       "      <td>N</td>\n",
       "      <td>Q1</td>\n",
       "      <td>P</td>\n",
       "      <td>15970352211</td>\n",
       "      <td>15</td>\n",
       "      <td>IND</td>\n",
       "      <td>ABDUL RAUF, FEISAL</td>\n",
       "      <td>NEW YORK</td>\n",
       "      <td>NY</td>\n",
       "      <td>...</td>\n",
       "      <td>THE CORDOBA INITIATIVE</td>\n",
       "      <td>CHAIRMAN</td>\n",
       "      <td>03042015</td>\n",
       "      <td>250</td>\n",
       "      <td></td>\n",
       "      <td>VN8A3DBSYG6</td>\n",
       "      <td>1003643</td>\n",
       "      <td></td>\n",
       "      <td></td>\n",
       "      <td>4041620151241914560</td>\n",
       "    </tr>\n",
       "    <tr>\n",
       "      <th>3</th>\n",
       "      <td>C00510461</td>\n",
       "      <td>N</td>\n",
       "      <td>Q1</td>\n",
       "      <td>P</td>\n",
       "      <td>15951129280</td>\n",
       "      <td>15</td>\n",
       "      <td>IND</td>\n",
       "      <td>SCHWARZER, FRANK</td>\n",
       "      <td>NEW YORK</td>\n",
       "      <td>NY</td>\n",
       "      <td>...</td>\n",
       "      <td>METRO HYDRAULIC JACK CO</td>\n",
       "      <td>SALES</td>\n",
       "      <td>01162015</td>\n",
       "      <td>100</td>\n",
       "      <td></td>\n",
       "      <td>VN8JBDAP4C4</td>\n",
       "      <td>1002590</td>\n",
       "      <td></td>\n",
       "      <td>* EARMARKED CONTRIBUTION: SEE BELOW</td>\n",
       "      <td>4041420151241813630</td>\n",
       "    </tr>\n",
       "    <tr>\n",
       "      <th>4</th>\n",
       "      <td>C00510461</td>\n",
       "      <td>N</td>\n",
       "      <td>Q1</td>\n",
       "      <td>P</td>\n",
       "      <td>15951129281</td>\n",
       "      <td>15</td>\n",
       "      <td>IND</td>\n",
       "      <td>SCHWARZER, FRANK</td>\n",
       "      <td>NEW YORK</td>\n",
       "      <td>NY</td>\n",
       "      <td>...</td>\n",
       "      <td>METRO HYDRAULIC JACK CO</td>\n",
       "      <td>SALES</td>\n",
       "      <td>02162015</td>\n",
       "      <td>100</td>\n",
       "      <td></td>\n",
       "      <td>VN8JBDBRDG3</td>\n",
       "      <td>1002590</td>\n",
       "      <td></td>\n",
       "      <td>* EARMARKED CONTRIBUTION: SEE BELOW</td>\n",
       "      <td>4041420151241813632</td>\n",
       "    </tr>\n",
       "  </tbody>\n",
       "</table>\n",
       "<p>5 rows × 21 columns</p>\n",
       "</div>"
      ],
      "text/plain": [
       "     cmte_id amndt_ind rpt_tp transaction_pgi    image_num transaction_tp  \\\n",
       "0  C00445015         N     Q1           P      15951128130             15   \n",
       "1  C00510461         N     Q1           P      15951129284            15E   \n",
       "2  C00422410         N     Q1           P      15970352211             15   \n",
       "3  C00510461         N     Q1           P      15951129280             15   \n",
       "4  C00510461         N     Q1           P      15951129281             15   \n",
       "\n",
       "  entity_tp                name      city state  ...  \\\n",
       "0       IND   SINGER, TRIPP MR.  NEW YORK    NY  ...   \n",
       "1       IND     SIMON, DANIEL A  NEW YORK    NY  ...   \n",
       "2       IND  ABDUL RAUF, FEISAL  NEW YORK    NY  ...   \n",
       "3       IND    SCHWARZER, FRANK  NEW YORK    NY  ...   \n",
       "4       IND    SCHWARZER, FRANK  NEW YORK    NY  ...   \n",
       "\n",
       "                   employer occupation transaction_dt transaction_amt  \\\n",
       "0  ATLANTIC MAILBOXES, INC.      OWNER       01302015            1000   \n",
       "1                       N/A    RETIRED       03292015             400   \n",
       "2    THE CORDOBA INITIATIVE   CHAIRMAN       03042015             250   \n",
       "3   METRO HYDRAULIC JACK CO      SALES       01162015             100   \n",
       "4   METRO HYDRAULIC JACK CO      SALES       02162015             100   \n",
       "\n",
       "    other_id      tran_id file_num  memo_cd  \\\n",
       "0               A-CF13736  1002485            \n",
       "1  C00401224  VN8JBDDJBA8  1002590            \n",
       "2             VN8A3DBSYG6  1003643            \n",
       "3             VN8JBDAP4C4  1002590            \n",
       "4             VN8JBDBRDG3  1002590            \n",
       "\n",
       "                             memo_text               sub_id  \n",
       "0                                       4041420151241812398  \n",
       "1  * EARMARKED CONTRIBUTION: SEE BELOW  4041420151241813640  \n",
       "2                                       4041620151241914560  \n",
       "3  * EARMARKED CONTRIBUTION: SEE BELOW  4041420151241813630  \n",
       "4  * EARMARKED CONTRIBUTION: SEE BELOW  4041420151241813632  \n",
       "\n",
       "[5 rows x 21 columns]"
      ]
     },
     "execution_count": 14,
     "metadata": {},
     "output_type": "execute_result"
    }
   ],
   "source": [
    "query = \"\"\"\n",
    "SELECT *\n",
    "FROM indiv_sample_nyc\n",
    "LIMIT 5\n",
    "\"\"\"\n",
    "pd.read_sql(query, engine)"
   ]
  },
  {
   "cell_type": "markdown",
   "metadata": {},
   "source": [
    "Similarly, the database of candidates is given below."
   ]
  },
  {
   "cell_type": "code",
   "execution_count": 15,
   "metadata": {},
   "outputs": [
    {
     "data": {
      "text/html": [
       "<div>\n",
       "<style scoped>\n",
       "    .dataframe tbody tr th:only-of-type {\n",
       "        vertical-align: middle;\n",
       "    }\n",
       "\n",
       "    .dataframe tbody tr th {\n",
       "        vertical-align: top;\n",
       "    }\n",
       "\n",
       "    .dataframe thead th {\n",
       "        text-align: right;\n",
       "    }\n",
       "</style>\n",
       "<table border=\"1\" class=\"dataframe\">\n",
       "  <thead>\n",
       "    <tr style=\"text-align: right;\">\n",
       "      <th></th>\n",
       "      <th>cand_id</th>\n",
       "      <th>cand_name</th>\n",
       "      <th>cand_pty_affiliation</th>\n",
       "      <th>cand_election_yr</th>\n",
       "      <th>cand_office_st</th>\n",
       "      <th>cand_office</th>\n",
       "      <th>cand_office_district</th>\n",
       "      <th>cand_ici</th>\n",
       "      <th>cand_status</th>\n",
       "      <th>cand_pcc</th>\n",
       "      <th>cand_st1</th>\n",
       "      <th>cand_st2</th>\n",
       "      <th>cand_city</th>\n",
       "      <th>cand_st</th>\n",
       "      <th>cand_zip</th>\n",
       "    </tr>\n",
       "  </thead>\n",
       "  <tbody>\n",
       "    <tr>\n",
       "      <th>0</th>\n",
       "      <td>H0AK00097</td>\n",
       "      <td>COX, JOHN R.</td>\n",
       "      <td>REP</td>\n",
       "      <td>2014</td>\n",
       "      <td>AK</td>\n",
       "      <td>H</td>\n",
       "      <td>0</td>\n",
       "      <td>C</td>\n",
       "      <td>N</td>\n",
       "      <td>C00525261</td>\n",
       "      <td>P.O. BOX 1092</td>\n",
       "      <td></td>\n",
       "      <td>ANCHOR POINT</td>\n",
       "      <td>AK</td>\n",
       "      <td>99556</td>\n",
       "    </tr>\n",
       "    <tr>\n",
       "      <th>1</th>\n",
       "      <td>H0AL02087</td>\n",
       "      <td>ROBY, MARTHA</td>\n",
       "      <td>REP</td>\n",
       "      <td>2016</td>\n",
       "      <td>AL</td>\n",
       "      <td>H</td>\n",
       "      <td>2</td>\n",
       "      <td>I</td>\n",
       "      <td>C</td>\n",
       "      <td>C00462143</td>\n",
       "      <td>PO BOX 195</td>\n",
       "      <td></td>\n",
       "      <td>MONTGOMERY</td>\n",
       "      <td>AL</td>\n",
       "      <td>36101</td>\n",
       "    </tr>\n",
       "    <tr>\n",
       "      <th>2</th>\n",
       "      <td>H0AL02095</td>\n",
       "      <td>JOHN, ROBERT E JR</td>\n",
       "      <td>IND</td>\n",
       "      <td>2016</td>\n",
       "      <td>AL</td>\n",
       "      <td>H</td>\n",
       "      <td>2</td>\n",
       "      <td>C</td>\n",
       "      <td>N</td>\n",
       "      <td></td>\n",
       "      <td>1465 W OVERBROOK RD</td>\n",
       "      <td></td>\n",
       "      <td>MILLBROOK</td>\n",
       "      <td>AL</td>\n",
       "      <td>36054</td>\n",
       "    </tr>\n",
       "    <tr>\n",
       "      <th>3</th>\n",
       "      <td>H0AL05049</td>\n",
       "      <td>CRAMER, ROBERT E \"BUD\" JR</td>\n",
       "      <td>DEM</td>\n",
       "      <td>2008</td>\n",
       "      <td>AL</td>\n",
       "      <td>H</td>\n",
       "      <td>5</td>\n",
       "      <td></td>\n",
       "      <td>P</td>\n",
       "      <td>C00239038</td>\n",
       "      <td>PO BOX 2621</td>\n",
       "      <td></td>\n",
       "      <td>HUNTSVILLE</td>\n",
       "      <td>AL</td>\n",
       "      <td>35804</td>\n",
       "    </tr>\n",
       "    <tr>\n",
       "      <th>4</th>\n",
       "      <td>H0AL05163</td>\n",
       "      <td>BROOKS, MO</td>\n",
       "      <td>REP</td>\n",
       "      <td>2016</td>\n",
       "      <td>AL</td>\n",
       "      <td>H</td>\n",
       "      <td>5</td>\n",
       "      <td>I</td>\n",
       "      <td>C</td>\n",
       "      <td>C00464149</td>\n",
       "      <td>7610 FOXFIRE DRIVE</td>\n",
       "      <td></td>\n",
       "      <td>HUNTSVILLE</td>\n",
       "      <td>AL</td>\n",
       "      <td>35802</td>\n",
       "    </tr>\n",
       "  </tbody>\n",
       "</table>\n",
       "</div>"
      ],
      "text/plain": [
       "     cand_id                  cand_name cand_pty_affiliation  \\\n",
       "0  H0AK00097               COX, JOHN R.                  REP   \n",
       "1  H0AL02087               ROBY, MARTHA                  REP   \n",
       "2  H0AL02095          JOHN, ROBERT E JR                  IND   \n",
       "3  H0AL05049  CRAMER, ROBERT E \"BUD\" JR                  DEM   \n",
       "4  H0AL05163                 BROOKS, MO                  REP   \n",
       "\n",
       "   cand_election_yr cand_office_st cand_office  cand_office_district cand_ici  \\\n",
       "0              2014             AK           H                     0        C   \n",
       "1              2016             AL           H                     2        I   \n",
       "2              2016             AL           H                     2        C   \n",
       "3              2008             AL           H                     5            \n",
       "4              2016             AL           H                     5        I   \n",
       "\n",
       "  cand_status   cand_pcc             cand_st1 cand_st2     cand_city cand_st  \\\n",
       "0           N  C00525261       P.O. BOX 1092            ANCHOR POINT      AK   \n",
       "1           C  C00462143           PO BOX 195             MONTGOMERY      AL   \n",
       "2           N             1465 W OVERBROOK RD              MILLBROOK      AL   \n",
       "3           P  C00239038          PO BOX 2621             HUNTSVILLE      AL   \n",
       "4           C  C00464149   7610 FOXFIRE DRIVE             HUNTSVILLE      AL   \n",
       "\n",
       "  cand_zip  \n",
       "0    99556  \n",
       "1    36101  \n",
       "2    36054  \n",
       "3    35804  \n",
       "4    35802  "
      ]
     },
     "execution_count": 15,
     "metadata": {},
     "output_type": "execute_result"
    }
   ],
   "source": [
    "query = \"\"\"\n",
    "SELECT *\n",
    "FROM cand\n",
    "LIMIT 5\n",
    "\"\"\"\n",
    "pd.read_sql(query, engine)"
   ]
  },
  {
   "cell_type": "markdown",
   "metadata": {},
   "source": [
    "And finally, the table of committees is given below."
   ]
  },
  {
   "cell_type": "code",
   "execution_count": 16,
   "metadata": {},
   "outputs": [
    {
     "data": {
      "text/html": [
       "<div>\n",
       "<style scoped>\n",
       "    .dataframe tbody tr th:only-of-type {\n",
       "        vertical-align: middle;\n",
       "    }\n",
       "\n",
       "    .dataframe tbody tr th {\n",
       "        vertical-align: top;\n",
       "    }\n",
       "\n",
       "    .dataframe thead th {\n",
       "        text-align: right;\n",
       "    }\n",
       "</style>\n",
       "<table border=\"1\" class=\"dataframe\">\n",
       "  <thead>\n",
       "    <tr style=\"text-align: right;\">\n",
       "      <th></th>\n",
       "      <th>cmte_id</th>\n",
       "      <th>cmte_nm</th>\n",
       "      <th>tres_nm</th>\n",
       "      <th>cmte_st1</th>\n",
       "      <th>cmte_st2</th>\n",
       "      <th>cmte_city</th>\n",
       "      <th>cmte_st</th>\n",
       "      <th>cmte_zip</th>\n",
       "      <th>cmte_dsgn</th>\n",
       "      <th>cmte_tp</th>\n",
       "      <th>cmte_pty_affiliation</th>\n",
       "      <th>cmte_filing_freq</th>\n",
       "      <th>org_tp</th>\n",
       "      <th>connected_org_nm</th>\n",
       "      <th>cand_id</th>\n",
       "    </tr>\n",
       "  </thead>\n",
       "  <tbody>\n",
       "    <tr>\n",
       "      <th>0</th>\n",
       "      <td>C00000059</td>\n",
       "      <td>HALLMARK CARDS PAC</td>\n",
       "      <td>ERIN BROWER</td>\n",
       "      <td>2501 MCGEE</td>\n",
       "      <td>MD#288</td>\n",
       "      <td>KANSAS CITY</td>\n",
       "      <td>MO</td>\n",
       "      <td>64108</td>\n",
       "      <td>U</td>\n",
       "      <td>Q</td>\n",
       "      <td>UNK</td>\n",
       "      <td>M</td>\n",
       "      <td>C</td>\n",
       "      <td></td>\n",
       "      <td></td>\n",
       "    </tr>\n",
       "    <tr>\n",
       "      <th>1</th>\n",
       "      <td>C00000422</td>\n",
       "      <td>AMERICAN MEDICAL ASSOCIATION POLITICAL ACTION ...</td>\n",
       "      <td>WALKER, KEVIN</td>\n",
       "      <td>25 MASSACHUSETTS AVE, NW</td>\n",
       "      <td>SUITE 600</td>\n",
       "      <td>WASHINGTON</td>\n",
       "      <td>DC</td>\n",
       "      <td>20001</td>\n",
       "      <td>B</td>\n",
       "      <td>Q</td>\n",
       "      <td></td>\n",
       "      <td>M</td>\n",
       "      <td>M</td>\n",
       "      <td>AMERICAN MEDICAL ASSOCIATION</td>\n",
       "      <td></td>\n",
       "    </tr>\n",
       "    <tr>\n",
       "      <th>2</th>\n",
       "      <td>C00000489</td>\n",
       "      <td>D R I V E POLITICAL FUND CHAPTER 886</td>\n",
       "      <td>TOM RITTER</td>\n",
       "      <td>3528 W RENO</td>\n",
       "      <td></td>\n",
       "      <td>OKLAHOMA CITY</td>\n",
       "      <td>OK</td>\n",
       "      <td>73107</td>\n",
       "      <td>U</td>\n",
       "      <td>N</td>\n",
       "      <td></td>\n",
       "      <td>Q</td>\n",
       "      <td>L</td>\n",
       "      <td>TEAMSTERS LOCAL UNION 886</td>\n",
       "      <td></td>\n",
       "    </tr>\n",
       "    <tr>\n",
       "      <th>3</th>\n",
       "      <td>C00000547</td>\n",
       "      <td>KANSAS MEDICAL SOCIETY POLITICAL ACTION COMMITTEE</td>\n",
       "      <td>C. RICHARD BONEBRAKE, M.D.</td>\n",
       "      <td>623 SW 10TH AVE</td>\n",
       "      <td></td>\n",
       "      <td>TOPEKA</td>\n",
       "      <td>KS</td>\n",
       "      <td>66612</td>\n",
       "      <td>U</td>\n",
       "      <td>Q</td>\n",
       "      <td>UNK</td>\n",
       "      <td>Q</td>\n",
       "      <td>T</td>\n",
       "      <td></td>\n",
       "      <td></td>\n",
       "    </tr>\n",
       "    <tr>\n",
       "      <th>4</th>\n",
       "      <td>C00000638</td>\n",
       "      <td>INDIANA STATE MEDICAL ASSOCIATION POLITICAL AC...</td>\n",
       "      <td>VIDYA KORA, M.D.</td>\n",
       "      <td>322 CANAL WALK, CANAL LEVEL</td>\n",
       "      <td></td>\n",
       "      <td>INDIANAPOLIS</td>\n",
       "      <td>IN</td>\n",
       "      <td>46202</td>\n",
       "      <td>U</td>\n",
       "      <td>Q</td>\n",
       "      <td></td>\n",
       "      <td>Q</td>\n",
       "      <td>M</td>\n",
       "      <td></td>\n",
       "      <td></td>\n",
       "    </tr>\n",
       "  </tbody>\n",
       "</table>\n",
       "</div>"
      ],
      "text/plain": [
       "     cmte_id                                            cmte_nm  \\\n",
       "0  C00000059                                 HALLMARK CARDS PAC   \n",
       "1  C00000422  AMERICAN MEDICAL ASSOCIATION POLITICAL ACTION ...   \n",
       "2  C00000489               D R I V E POLITICAL FUND CHAPTER 886   \n",
       "3  C00000547  KANSAS MEDICAL SOCIETY POLITICAL ACTION COMMITTEE   \n",
       "4  C00000638  INDIANA STATE MEDICAL ASSOCIATION POLITICAL AC...   \n",
       "\n",
       "                      tres_nm                     cmte_st1   cmte_st2  \\\n",
       "0                 ERIN BROWER                   2501 MCGEE     MD#288   \n",
       "1               WALKER, KEVIN     25 MASSACHUSETTS AVE, NW  SUITE 600   \n",
       "2                  TOM RITTER                  3528 W RENO              \n",
       "3  C. RICHARD BONEBRAKE, M.D.              623 SW 10TH AVE              \n",
       "4            VIDYA KORA, M.D.  322 CANAL WALK, CANAL LEVEL              \n",
       "\n",
       "       cmte_city cmte_st cmte_zip cmte_dsgn cmte_tp cmte_pty_affiliation  \\\n",
       "0    KANSAS CITY      MO    64108         U       Q                  UNK   \n",
       "1     WASHINGTON      DC    20001         B       Q                        \n",
       "2  OKLAHOMA CITY      OK    73107         U       N                        \n",
       "3         TOPEKA      KS    66612         U       Q                  UNK   \n",
       "4   INDIANAPOLIS      IN    46202         U       Q                        \n",
       "\n",
       "  cmte_filing_freq org_tp              connected_org_nm cand_id  \n",
       "0                M      C                                        \n",
       "1                M      M  AMERICAN MEDICAL ASSOCIATION          \n",
       "2                Q      L     TEAMSTERS LOCAL UNION 886          \n",
       "3                Q      T                                        \n",
       "4                Q      M                                        "
      ]
     },
     "execution_count": 16,
     "metadata": {},
     "output_type": "execute_result"
    }
   ],
   "source": [
    "query = \"\"\"\n",
    "SELECT *\n",
    "FROM comm\n",
    "LIMIT 5\n",
    "\"\"\"\n",
    "pd.read_sql(query, engine)"
   ]
  },
  {
   "cell_type": "markdown",
   "metadata": {},
   "source": [
    "In CS61A or CS88, we saw basic queries similar to what we see below, which gives only the id and name of candidates from the Democratic party."
   ]
  },
  {
   "cell_type": "code",
   "execution_count": 17,
   "metadata": {},
   "outputs": [
    {
     "data": {
      "text/html": [
       "<div>\n",
       "<style scoped>\n",
       "    .dataframe tbody tr th:only-of-type {\n",
       "        vertical-align: middle;\n",
       "    }\n",
       "\n",
       "    .dataframe tbody tr th {\n",
       "        vertical-align: top;\n",
       "    }\n",
       "\n",
       "    .dataframe thead th {\n",
       "        text-align: right;\n",
       "    }\n",
       "</style>\n",
       "<table border=\"1\" class=\"dataframe\">\n",
       "  <thead>\n",
       "    <tr style=\"text-align: right;\">\n",
       "      <th></th>\n",
       "      <th>cand_id</th>\n",
       "      <th>cand_name</th>\n",
       "    </tr>\n",
       "  </thead>\n",
       "  <tbody>\n",
       "    <tr>\n",
       "      <th>0</th>\n",
       "      <td>H0AL05049</td>\n",
       "      <td>CRAMER, ROBERT E \"BUD\" JR</td>\n",
       "    </tr>\n",
       "    <tr>\n",
       "      <th>1</th>\n",
       "      <td>H0AL07086</td>\n",
       "      <td>SEWELL, TERRYCINA ANDREA</td>\n",
       "    </tr>\n",
       "    <tr>\n",
       "      <th>2</th>\n",
       "      <td>H0AL07094</td>\n",
       "      <td>HILLIARD, EARL FREDERICK JR</td>\n",
       "    </tr>\n",
       "    <tr>\n",
       "      <th>3</th>\n",
       "      <td>H0AR01091</td>\n",
       "      <td>GREGORY, JAMES CHRISTOPHER</td>\n",
       "    </tr>\n",
       "    <tr>\n",
       "      <th>4</th>\n",
       "      <td>H0AR01109</td>\n",
       "      <td>CAUSEY, CHAD</td>\n",
       "    </tr>\n",
       "  </tbody>\n",
       "</table>\n",
       "</div>"
      ],
      "text/plain": [
       "     cand_id                    cand_name\n",
       "0  H0AL05049    CRAMER, ROBERT E \"BUD\" JR\n",
       "1  H0AL07086     SEWELL, TERRYCINA ANDREA\n",
       "2  H0AL07094  HILLIARD, EARL FREDERICK JR\n",
       "3  H0AR01091   GREGORY, JAMES CHRISTOPHER\n",
       "4  H0AR01109                 CAUSEY, CHAD"
      ]
     },
     "execution_count": 17,
     "metadata": {},
     "output_type": "execute_result"
    }
   ],
   "source": [
    "query = \"\"\"\n",
    "SELECT cand_id, cand_name\n",
    "FROM cand\n",
    "WHERE cand_pty_affiliation = 'DEM'\n",
    "LIMIT 5\n",
    "\"\"\"\n",
    "pd.read_sql(query,engine)"
   ]
  },
  {
   "cell_type": "markdown",
   "metadata": {
    "nbgrader": {
     "grade": false,
     "grade_id": "q3",
     "locked": true,
     "schema_version": 2,
     "solution": false
    }
   },
   "source": [
    "---\n",
    "## Question 1\n",
    "\n",
    "For this question we will use SQL to extract data out of the `indiv_sample_nyc` table. The schema for this table is given below."
   ]
  },
  {
   "cell_type": "code",
   "execution_count": 10,
   "metadata": {},
   "outputs": [],
   "source": [
    "for exp in connection.execute('SELECT sql FROM sqlite_master WHERE name=\"indiv_sample_nyc\";'):\n",
    "    print(exp[0])"
   ]
  },
  {
   "cell_type": "markdown",
   "metadata": {},
   "source": [
    "Let's start by looking at 2016 election contributions made by Donald Trump, who was a NY resident during that year. The following SQL statement returns the `cmte_id`, `transaction_amt`, and `name` for every contribution made by any donor with \"DONALD\" and \"TRUMP\" in their name.\n",
    "\n",
    "Notice the `WHERE name LIKE '%TRUMP%' AND name LIKE '%DONALD%'` clause."
   ]
  },
  {
   "cell_type": "code",
   "execution_count": 19,
   "metadata": {},
   "outputs": [
    {
     "data": {
      "text/html": [
       "<div>\n",
       "<style scoped>\n",
       "    .dataframe tbody tr th:only-of-type {\n",
       "        vertical-align: middle;\n",
       "    }\n",
       "\n",
       "    .dataframe tbody tr th {\n",
       "        vertical-align: top;\n",
       "    }\n",
       "\n",
       "    .dataframe thead th {\n",
       "        text-align: right;\n",
       "    }\n",
       "</style>\n",
       "<table border=\"1\" class=\"dataframe\">\n",
       "  <thead>\n",
       "    <tr style=\"text-align: right;\">\n",
       "      <th></th>\n",
       "      <th>cmte_id</th>\n",
       "      <th>transaction_amt</th>\n",
       "      <th>name</th>\n",
       "    </tr>\n",
       "  </thead>\n",
       "  <tbody>\n",
       "    <tr>\n",
       "      <th>0</th>\n",
       "      <td>C00230482</td>\n",
       "      <td>2600</td>\n",
       "      <td>DONALD, TRUMP</td>\n",
       "    </tr>\n",
       "    <tr>\n",
       "      <th>1</th>\n",
       "      <td>C00230482</td>\n",
       "      <td>2600</td>\n",
       "      <td>DONALD, TRUMP</td>\n",
       "    </tr>\n",
       "    <tr>\n",
       "      <th>2</th>\n",
       "      <td>C00014498</td>\n",
       "      <td>9000</td>\n",
       "      <td>TRUMP, DONALD</td>\n",
       "    </tr>\n",
       "    <tr>\n",
       "      <th>3</th>\n",
       "      <td>C00494229</td>\n",
       "      <td>2000</td>\n",
       "      <td>TRUMP, DONALD MR</td>\n",
       "    </tr>\n",
       "    <tr>\n",
       "      <th>4</th>\n",
       "      <td>C00571869</td>\n",
       "      <td>2700</td>\n",
       "      <td>TRUMP, DONALD J.</td>\n",
       "    </tr>\n",
       "    <tr>\n",
       "      <th>...</th>\n",
       "      <td>...</td>\n",
       "      <td>...</td>\n",
       "      <td>...</td>\n",
       "    </tr>\n",
       "    <tr>\n",
       "      <th>152</th>\n",
       "      <td>C00608489</td>\n",
       "      <td>5</td>\n",
       "      <td>DONALD J TRUMP FOR PRESIDENT INC</td>\n",
       "    </tr>\n",
       "    <tr>\n",
       "      <th>153</th>\n",
       "      <td>C00608489</td>\n",
       "      <td>5</td>\n",
       "      <td>DONALD J TRUMP FOR PRESIDENT INC</td>\n",
       "    </tr>\n",
       "    <tr>\n",
       "      <th>154</th>\n",
       "      <td>C00608489</td>\n",
       "      <td>5</td>\n",
       "      <td>DONALD J TRUMP FOR PRESIDENT INC</td>\n",
       "    </tr>\n",
       "    <tr>\n",
       "      <th>155</th>\n",
       "      <td>C00608489</td>\n",
       "      <td>5</td>\n",
       "      <td>DONALD J TRUMP FOR PRESIDENT INC</td>\n",
       "    </tr>\n",
       "    <tr>\n",
       "      <th>156</th>\n",
       "      <td>C00608489</td>\n",
       "      <td>5</td>\n",
       "      <td>DONALD J TRUMP FOR PRESIDENT INC</td>\n",
       "    </tr>\n",
       "  </tbody>\n",
       "</table>\n",
       "<p>157 rows × 3 columns</p>\n",
       "</div>"
      ],
      "text/plain": [
       "       cmte_id  transaction_amt                              name\n",
       "0    C00230482             2600                     DONALD, TRUMP\n",
       "1    C00230482             2600                     DONALD, TRUMP\n",
       "2    C00014498             9000                     TRUMP, DONALD\n",
       "3    C00494229             2000                  TRUMP, DONALD MR\n",
       "4    C00571869             2700                  TRUMP, DONALD J.\n",
       "..         ...              ...                               ...\n",
       "152  C00608489                5  DONALD J TRUMP FOR PRESIDENT INC\n",
       "153  C00608489                5  DONALD J TRUMP FOR PRESIDENT INC\n",
       "154  C00608489                5  DONALD J TRUMP FOR PRESIDENT INC\n",
       "155  C00608489                5  DONALD J TRUMP FOR PRESIDENT INC\n",
       "156  C00608489                5  DONALD J TRUMP FOR PRESIDENT INC\n",
       "\n",
       "[157 rows x 3 columns]"
      ]
     },
     "execution_count": 19,
     "metadata": {},
     "output_type": "execute_result"
    }
   ],
   "source": [
    "query1 = \"\"\"\n",
    "SELECT \n",
    "    cmte_id,\n",
    "    transaction_amt,\n",
    "    name\n",
    "FROM indiv_sample_nyc\n",
    "WHERE name LIKE '%TRUMP%' AND name LIKE '%DONALD%'\n",
    "\"\"\"\n",
    "\n",
    "res_q1 = pd.read_sql(query1, engine)\n",
    "res_q1"
   ]
  },
  {
   "cell_type": "markdown",
   "metadata": {},
   "source": [
    "### Question 1a"
   ]
  },
  {
   "cell_type": "markdown",
   "metadata": {},
   "source": [
    "If we look at the list above, it appears that some donations were not by Donald Trump himself, but instead by an entity called \"DONALD J TRUMP FOR PRESIDENT INC\". Fortunately, we see that our query only seems to have picked up one such anomalous name."
   ]
  },
  {
   "cell_type": "code",
   "execution_count": 20,
   "metadata": {
    "scrolled": true
   },
   "outputs": [
    {
     "data": {
      "text/plain": [
       "TRUMP, DONALD J.                    133\n",
       "DONALD J TRUMP FOR PRESIDENT INC     15\n",
       "TRUMP, DONALD                         4\n",
       "DONALD, TRUMP                         2\n",
       "TRUMP, DONALD J MR.                   1\n",
       "TRUMP, DONALD MR                      1\n",
       "TRUMP, DONALD J MR                    1\n",
       "Name: name, dtype: int64"
      ]
     },
     "execution_count": 20,
     "metadata": {},
     "output_type": "execute_result"
    }
   ],
   "source": [
    "res_q1['name'].value_counts()"
   ]
  },
  {
   "cell_type": "markdown",
   "metadata": {
    "deletable": false,
    "editable": false
   },
   "source": [
    "Revise the above query so that the 15 donations made by \"DONALD J TRUMP FOR PRESIDENT INC\" do not appear. Your resulting table should have 142 rows. \n",
    "\n",
    "Hint: Copy the above query into the cell below as a starting point!\n",
    "\n",
    "Hint: Consider using `NOT LIKE`.\n",
    "\n",
    "<!--\n",
    "BEGIN QUESTION\n",
    "name: q1a\n",
    "-->"
   ]
  },
  {
   "cell_type": "code",
   "execution_count": 22,
   "metadata": {},
   "outputs": [
    {
     "data": {
      "text/html": [
       "<div>\n",
       "<style scoped>\n",
       "    .dataframe tbody tr th:only-of-type {\n",
       "        vertical-align: middle;\n",
       "    }\n",
       "\n",
       "    .dataframe tbody tr th {\n",
       "        vertical-align: top;\n",
       "    }\n",
       "\n",
       "    .dataframe thead th {\n",
       "        text-align: right;\n",
       "    }\n",
       "</style>\n",
       "<table border=\"1\" class=\"dataframe\">\n",
       "  <thead>\n",
       "    <tr style=\"text-align: right;\">\n",
       "      <th></th>\n",
       "      <th>cmte_id</th>\n",
       "      <th>transaction_amt</th>\n",
       "      <th>name</th>\n",
       "    </tr>\n",
       "  </thead>\n",
       "  <tbody>\n",
       "    <tr>\n",
       "      <th>0</th>\n",
       "      <td>C00230482</td>\n",
       "      <td>2600</td>\n",
       "      <td>DONALD, TRUMP</td>\n",
       "    </tr>\n",
       "    <tr>\n",
       "      <th>1</th>\n",
       "      <td>C00230482</td>\n",
       "      <td>2600</td>\n",
       "      <td>DONALD, TRUMP</td>\n",
       "    </tr>\n",
       "    <tr>\n",
       "      <th>2</th>\n",
       "      <td>C00014498</td>\n",
       "      <td>9000</td>\n",
       "      <td>TRUMP, DONALD</td>\n",
       "    </tr>\n",
       "    <tr>\n",
       "      <th>3</th>\n",
       "      <td>C00494229</td>\n",
       "      <td>2000</td>\n",
       "      <td>TRUMP, DONALD MR</td>\n",
       "    </tr>\n",
       "    <tr>\n",
       "      <th>4</th>\n",
       "      <td>C00571869</td>\n",
       "      <td>2700</td>\n",
       "      <td>TRUMP, DONALD J.</td>\n",
       "    </tr>\n",
       "    <tr>\n",
       "      <th>...</th>\n",
       "      <td>...</td>\n",
       "      <td>...</td>\n",
       "      <td>...</td>\n",
       "    </tr>\n",
       "    <tr>\n",
       "      <th>137</th>\n",
       "      <td>C00580100</td>\n",
       "      <td>9752</td>\n",
       "      <td>TRUMP, DONALD J.</td>\n",
       "    </tr>\n",
       "    <tr>\n",
       "      <th>138</th>\n",
       "      <td>C00580100</td>\n",
       "      <td>2574</td>\n",
       "      <td>TRUMP, DONALD J.</td>\n",
       "    </tr>\n",
       "    <tr>\n",
       "      <th>139</th>\n",
       "      <td>C00580100</td>\n",
       "      <td>23775</td>\n",
       "      <td>TRUMP, DONALD J.</td>\n",
       "    </tr>\n",
       "    <tr>\n",
       "      <th>140</th>\n",
       "      <td>C00580100</td>\n",
       "      <td>2000000</td>\n",
       "      <td>TRUMP, DONALD J.</td>\n",
       "    </tr>\n",
       "    <tr>\n",
       "      <th>141</th>\n",
       "      <td>C00580100</td>\n",
       "      <td>2574</td>\n",
       "      <td>TRUMP, DONALD J.</td>\n",
       "    </tr>\n",
       "  </tbody>\n",
       "</table>\n",
       "<p>142 rows × 3 columns</p>\n",
       "</div>"
      ],
      "text/plain": [
       "       cmte_id  transaction_amt              name\n",
       "0    C00230482             2600     DONALD, TRUMP\n",
       "1    C00230482             2600     DONALD, TRUMP\n",
       "2    C00014498             9000     TRUMP, DONALD\n",
       "3    C00494229             2000  TRUMP, DONALD MR\n",
       "4    C00571869             2700  TRUMP, DONALD J.\n",
       "..         ...              ...               ...\n",
       "137  C00580100             9752  TRUMP, DONALD J.\n",
       "138  C00580100             2574  TRUMP, DONALD J.\n",
       "139  C00580100            23775  TRUMP, DONALD J.\n",
       "140  C00580100          2000000  TRUMP, DONALD J.\n",
       "141  C00580100             2574  TRUMP, DONALD J.\n",
       "\n",
       "[142 rows x 3 columns]"
      ]
     },
     "execution_count": 22,
     "metadata": {},
     "output_type": "execute_result"
    }
   ],
   "source": [
    "query_q1a = \"\"\"\n",
    "SELECT \n",
    "    cmte_id,\n",
    "    transaction_amt,\n",
    "    name\n",
    "FROM indiv_sample_nyc\n",
    "WHERE name LIKE '%TRUMP%' AND name LIKE '%DONALD%'\n",
    "AND name NOT LIKE '%DONALD J TRUMP FOR PRESIDENT INC%'\n",
    "\"\"\"\n",
    "\n",
    "\n",
    "res_q1a = pd.read_sql(query_q1a, engine)\n",
    "res_q1a"
   ]
  },
  {
   "cell_type": "code",
   "execution_count": 23,
   "metadata": {
    "deletable": false,
    "editable": false
   },
   "outputs": [
    {
     "data": {
      "text/html": [
       "\n",
       "    <p><strong>q1a</strong> passed!</p>\n",
       "    "
      ],
      "text/plain": [
       "q1a passed!"
      ]
     },
     "execution_count": 23,
     "metadata": {},
     "output_type": "execute_result"
    }
   ],
   "source": [
    "grader.check(\"q1a\")"
   ]
  },
  {
   "cell_type": "markdown",
   "metadata": {},
   "source": [
    "### Question 1b"
   ]
  },
  {
   "cell_type": "markdown",
   "metadata": {
    "deletable": false,
    "editable": false
   },
   "source": [
    "As a review of some of the key ideas from CS61A/CS88, let's refine our query above.\n",
    "\n",
    "We see that many of the contributions above were to the same committee. Create a new SQL query that returns the total amount that Donald Trump contributed to each committee. Your table should have four columns: `cmte_id`, `total_amount`, `num_donations`, and `cmte_nm`. The `total_amount` is the total amount contributed to that committee, `num_donations` is the total number of donations, and `cmte_nm` is the name of the committee. Note that `cmte_nm` is not available in `indiv_sample_nyc`, so you will have to somehow obtain information from the `comm` table.\n",
    "\n",
    "Your final table should be sorted in decreased order of `total_amount`.\n",
    "\n",
    "**Note**: This is a hard question! Don't be afraid to reference the walkthrough video if you're stuck.\n",
    "\n",
    "Hint: Use `GROUP BY` as covered in CS61A and CS88.\n",
    "\n",
    "Hint: Use `COUNT(*)` as covered in CS61A and CS88.\n",
    "\n",
    "Hint: Use `SUM()` as covered in CS61A and CS88.\n",
    "\n",
    "Hint: Use `ORDER BY` as covered in CS61A and CS88.\n",
    "\n",
    "Hint: Use `DESC` as covered in CS61A and CS88.\n",
    "\n",
    "Hint: Your `WHERE` clause should be the same as question 1a.\n",
    "\n",
    "Hint: You'll probably need either a join, or a subquery.\n",
    "\n",
    "<!--\n",
    "BEGIN QUESTION\n",
    "name: q1b\n",
    "-->"
   ]
  },
  {
   "cell_type": "code",
   "execution_count": 25,
   "metadata": {},
   "outputs": [
    {
     "data": {
      "text/html": [
       "<div>\n",
       "<style scoped>\n",
       "    .dataframe tbody tr th:only-of-type {\n",
       "        vertical-align: middle;\n",
       "    }\n",
       "\n",
       "    .dataframe tbody tr th {\n",
       "        vertical-align: top;\n",
       "    }\n",
       "\n",
       "    .dataframe thead th {\n",
       "        text-align: right;\n",
       "    }\n",
       "</style>\n",
       "<table border=\"1\" class=\"dataframe\">\n",
       "  <thead>\n",
       "    <tr style=\"text-align: right;\">\n",
       "      <th></th>\n",
       "      <th>cmte_id</th>\n",
       "      <th>total_amount</th>\n",
       "      <th>num_donations</th>\n",
       "      <th>cmte_nm</th>\n",
       "    </tr>\n",
       "  </thead>\n",
       "  <tbody>\n",
       "    <tr>\n",
       "      <th>0</th>\n",
       "      <td>C00580100</td>\n",
       "      <td>18633157</td>\n",
       "      <td>131</td>\n",
       "      <td>DONALD J. TRUMP FOR PRESIDENT, INC.</td>\n",
       "    </tr>\n",
       "    <tr>\n",
       "      <th>1</th>\n",
       "      <td>C00055582</td>\n",
       "      <td>10000</td>\n",
       "      <td>1</td>\n",
       "      <td>NY REPUBLICAN FEDERAL CAMPAIGN COMMITTEE</td>\n",
       "    </tr>\n",
       "    <tr>\n",
       "      <th>2</th>\n",
       "      <td>C00014498</td>\n",
       "      <td>9000</td>\n",
       "      <td>1</td>\n",
       "      <td>REPUBLICAN PARTY OF IOWA</td>\n",
       "    </tr>\n",
       "    <tr>\n",
       "      <th>3</th>\n",
       "      <td>C00571869</td>\n",
       "      <td>5400</td>\n",
       "      <td>2</td>\n",
       "      <td>DONOVAN FOR CONGRESS</td>\n",
       "    </tr>\n",
       "    <tr>\n",
       "      <th>4</th>\n",
       "      <td>C00230482</td>\n",
       "      <td>5200</td>\n",
       "      <td>2</td>\n",
       "      <td>GRASSLEY COMMITTEE INC</td>\n",
       "    </tr>\n",
       "    <tr>\n",
       "      <th>5</th>\n",
       "      <td>C00136457</td>\n",
       "      <td>5000</td>\n",
       "      <td>1</td>\n",
       "      <td>NEW HAMPSHIRE REPUBLICAN STATE COMMITTEE</td>\n",
       "    </tr>\n",
       "    <tr>\n",
       "      <th>6</th>\n",
       "      <td>C00034033</td>\n",
       "      <td>5000</td>\n",
       "      <td>1</td>\n",
       "      <td>SOUTH CAROLINA REPUBLICAN PARTY</td>\n",
       "    </tr>\n",
       "    <tr>\n",
       "      <th>7</th>\n",
       "      <td>C00554949</td>\n",
       "      <td>2600</td>\n",
       "      <td>1</td>\n",
       "      <td>FRIENDS OF DAVE BRAT INC.</td>\n",
       "    </tr>\n",
       "    <tr>\n",
       "      <th>8</th>\n",
       "      <td>C00494229</td>\n",
       "      <td>2000</td>\n",
       "      <td>1</td>\n",
       "      <td>HELLER FOR SENATE</td>\n",
       "    </tr>\n",
       "    <tr>\n",
       "      <th>9</th>\n",
       "      <td>C00369033</td>\n",
       "      <td>1000</td>\n",
       "      <td>1</td>\n",
       "      <td>TEXANS FOR SENATOR JOHN CORNYN INC</td>\n",
       "    </tr>\n",
       "  </tbody>\n",
       "</table>\n",
       "</div>"
      ],
      "text/plain": [
       "     cmte_id  total_amount  num_donations  \\\n",
       "0  C00580100      18633157            131   \n",
       "1  C00055582         10000              1   \n",
       "2  C00014498          9000              1   \n",
       "3  C00571869          5400              2   \n",
       "4  C00230482          5200              2   \n",
       "5  C00136457          5000              1   \n",
       "6  C00034033          5000              1   \n",
       "7  C00554949          2600              1   \n",
       "8  C00494229          2000              1   \n",
       "9  C00369033          1000              1   \n",
       "\n",
       "                                    cmte_nm  \n",
       "0       DONALD J. TRUMP FOR PRESIDENT, INC.  \n",
       "1  NY REPUBLICAN FEDERAL CAMPAIGN COMMITTEE  \n",
       "2                  REPUBLICAN PARTY OF IOWA  \n",
       "3                      DONOVAN FOR CONGRESS  \n",
       "4                    GRASSLEY COMMITTEE INC  \n",
       "5  NEW HAMPSHIRE REPUBLICAN STATE COMMITTEE  \n",
       "6           SOUTH CAROLINA REPUBLICAN PARTY  \n",
       "7                 FRIENDS OF DAVE BRAT INC.  \n",
       "8                         HELLER FOR SENATE  \n",
       "9        TEXANS FOR SENATOR JOHN CORNYN INC  "
      ]
     },
     "execution_count": 25,
     "metadata": {},
     "output_type": "execute_result"
    }
   ],
   "source": [
    "query_q1b = \"\"\"\n",
    "SELECT\n",
    "    comm.cmte_id,\n",
    "    SUM(transaction_amt) AS total_amount,\n",
    "    COUNT(*) AS num_donations,\n",
    "    cmte_nm\n",
    "FROM indiv_sample_nyc, comm\n",
    "WHERE comm.cmte_id = indiv_sample_nyc.cmte_id\n",
    "AND name LIKE '%TRUMP%' AND name LIKE '%DONALD%'\n",
    "AND name NOT LIKE '%DONALD J TRUMP FOR PRESIDENT INC%'\n",
    "GROUP BY comm.cmte_id\n",
    "ORDER BY total_amount DESC\n",
    "\"\"\"\n",
    "\n",
    "\n",
    "res_q1b = pd.read_sql(query_q1b, engine)\n",
    "res_q1b"
   ]
  },
  {
   "cell_type": "code",
   "execution_count": 26,
   "metadata": {
    "deletable": false,
    "editable": false
   },
   "outputs": [
    {
     "data": {
      "text/html": [
       "\n",
       "    <p><strong>q1b</strong> passed!</p>\n",
       "    "
      ],
      "text/plain": [
       "q1b passed!"
      ]
     },
     "execution_count": 26,
     "metadata": {},
     "output_type": "execute_result"
    }
   ],
   "source": [
    "grader.check(\"q1b\")"
   ]
  },
  {
   "cell_type": "markdown",
   "metadata": {
    "nbgrader": {
     "grade": false,
     "grade_id": "q3",
     "locked": true,
     "schema_version": 2,
     "solution": false
    }
   },
   "source": [
    "## Question 2"
   ]
  },
  {
   "cell_type": "markdown",
   "metadata": {
    "deletable": false,
    "editable": false
   },
   "source": [
    "### Question 2a\n",
    "\n",
    "When you printed the schema for the tables, you may have noticed that both the `cand` and `comm` tables have a `cand_id` column. Let's try joining these two tables on this column.\n",
    "\n",
    "List the first 5 candidate names (`cand_name`) in reverse lexicographic order by `cand_name`, along with their corresponding committee names. Only select rows that have a matching `cand_id` in both tables.\n",
    "\n",
    "Your output should look similar to:\n",
    "\n",
    "<table border=\"1\" class=\"dataframe\">\n",
    "  <thead>\n",
    "    <tr style=\"text-align: right;\">\n",
    "      <th></th>\n",
    "      <th>cand_name</th>\n",
    "      <th>cmte_nm</th>\n",
    "    </tr>\n",
    "  </thead>\n",
    "  <tbody>\n",
    "    <tr>\n",
    "      <th>0</th>\n",
    "      <td>ZUTLER, DANIEL PAUL MR</td>\n",
    "      <td>CITIZENS TO ELECT DANIEL P ZUTLER FOR PRESIDENT</td>\n",
    "    </tr>\n",
    "    <tr>\n",
    "      <th>1</th>\n",
    "      <td>ZUMWALT, JAMES</td>\n",
    "      <td>ZUMWALT FOR CONGRESS</td>\n",
    "    </tr>\n",
    "    <tr>\n",
    "      <th>2</th>\n",
    "      <td>ZUKOWSKI, ANDREW GEORGE</td>\n",
    "      <td>ZUKOWSKI FOR CONGRESS</td>\n",
    "    </tr>\n",
    "    <tr>\n",
    "      <th>3</th>\n",
    "      <td>ZUCCOLO, JOE</td>\n",
    "      <td>JOE ZUCCOLO FOR CONGRESS</td>\n",
    "    </tr>\n",
    "    <tr>\n",
    "      <th>4</th>\n",
    "      <td>ZORN, ROBERT ERWIN</td>\n",
    "      <td>CONSTITUTIONAL COMMITTEE</td>\n",
    "    </tr>\n",
    "  </tbody>\n",
    "</table>\n",
    "\n",
    "<!--\n",
    "BEGIN QUESTION\n",
    "name: q2a\n",
    "-->"
   ]
  },
  {
   "cell_type": "code",
   "execution_count": 27,
   "metadata": {},
   "outputs": [
    {
     "data": {
      "text/html": [
       "<div>\n",
       "<style scoped>\n",
       "    .dataframe tbody tr th:only-of-type {\n",
       "        vertical-align: middle;\n",
       "    }\n",
       "\n",
       "    .dataframe tbody tr th {\n",
       "        vertical-align: top;\n",
       "    }\n",
       "\n",
       "    .dataframe thead th {\n",
       "        text-align: right;\n",
       "    }\n",
       "</style>\n",
       "<table border=\"1\" class=\"dataframe\">\n",
       "  <thead>\n",
       "    <tr style=\"text-align: right;\">\n",
       "      <th></th>\n",
       "      <th>cand_name</th>\n",
       "      <th>cmte_nm</th>\n",
       "    </tr>\n",
       "  </thead>\n",
       "  <tbody>\n",
       "    <tr>\n",
       "      <th>0</th>\n",
       "      <td>ZUTLER, DANIEL PAUL MR</td>\n",
       "      <td>CITIZENS TO ELECT DANIEL P ZUTLER FOR PRESIDENT</td>\n",
       "    </tr>\n",
       "    <tr>\n",
       "      <th>1</th>\n",
       "      <td>ZUMWALT, JAMES</td>\n",
       "      <td>ZUMWALT FOR CONGRESS</td>\n",
       "    </tr>\n",
       "    <tr>\n",
       "      <th>2</th>\n",
       "      <td>ZUKOWSKI, ANDREW GEORGE</td>\n",
       "      <td>ZUKOWSKI FOR CONGRESS</td>\n",
       "    </tr>\n",
       "    <tr>\n",
       "      <th>3</th>\n",
       "      <td>ZUCCOLO, JOE</td>\n",
       "      <td>JOE ZUCCOLO FOR CONGRESS</td>\n",
       "    </tr>\n",
       "    <tr>\n",
       "      <th>4</th>\n",
       "      <td>ZORN, ROBERT ERWIN</td>\n",
       "      <td>CONSTITUTIONAL COMMITTEE</td>\n",
       "    </tr>\n",
       "  </tbody>\n",
       "</table>\n",
       "</div>"
      ],
      "text/plain": [
       "                 cand_name                                          cmte_nm\n",
       "0   ZUTLER, DANIEL PAUL MR  CITIZENS TO ELECT DANIEL P ZUTLER FOR PRESIDENT\n",
       "1           ZUMWALT, JAMES                             ZUMWALT FOR CONGRESS\n",
       "2  ZUKOWSKI, ANDREW GEORGE                            ZUKOWSKI FOR CONGRESS\n",
       "3             ZUCCOLO, JOE                         JOE ZUCCOLO FOR CONGRESS\n",
       "4       ZORN, ROBERT ERWIN                         CONSTITUTIONAL COMMITTEE"
      ]
     },
     "execution_count": 27,
     "metadata": {},
     "output_type": "execute_result"
    }
   ],
   "source": [
    "query_q2a = \"\"\"\n",
    "SELECT cand_name, cmte_nm\n",
    "FROM cand c1 INNER JOIN comm c2 ON c1.cand_id = c2.cand_id\n",
    "ORDER BY cand_name DESC\n",
    "LIMIT 5\n",
    "\"\"\"\n",
    "\n",
    "\n",
    "res_q2a = pd.read_sql(query_q2a, engine)\n",
    "res_q2a"
   ]
  },
  {
   "cell_type": "code",
   "execution_count": 28,
   "metadata": {
    "deletable": false,
    "editable": false
   },
   "outputs": [
    {
     "data": {
      "text/html": [
       "\n",
       "    <p><strong>q2a</strong> passed!</p>\n",
       "    "
      ],
      "text/plain": [
       "q2a passed!"
      ]
     },
     "execution_count": 28,
     "metadata": {},
     "output_type": "execute_result"
    }
   ],
   "source": [
    "grader.check(\"q2a\")"
   ]
  },
  {
   "cell_type": "markdown",
   "metadata": {
    "deletable": false,
    "editable": false
   },
   "source": [
    "### Question 2b\n",
    "\n",
    "As in the previous part, list the first 5 candidate names (`cand_name`) by reverse lexicographic order and their corresponding committee names (`cmte_nm`). This time, include all candidate names. If there is no matching `cand_id` in the `comm` table, then `cmte_nm` should be NULL (or `None` in the Python representation).\n",
    "\n",
    "Your output should look similar to:\n",
    "\n",
    "<table border=\"1\" class=\"dataframe\">\n",
    "  <thead>\n",
    "    <tr style=\"text-align: right;\">\n",
    "      <th></th>\n",
    "      <th>cand_name</th>\n",
    "      <th>cmte_nm</th>\n",
    "    </tr>\n",
    "  </thead>\n",
    "  <tbody>\n",
    "    <tr>\n",
    "      <th>0</th>\n",
    "      <td>ZUTLER, DANIEL PAUL MR</td>\n",
    "      <td>CITIZENS TO ELECT DANIEL P ZUTLER FOR PRESIDENT</td>\n",
    "    </tr>\n",
    "    <tr>\n",
    "      <th>1</th>\n",
    "      <td>ZUMWALT, JAMES</td>\n",
    "      <td>ZUMWALT FOR CONGRESS</td>\n",
    "    </tr>\n",
    "    <tr>\n",
    "      <th>2</th>\n",
    "      <td>ZUKOWSKI, ANDREW GEORGE</td>\n",
    "      <td>ZUKOWSKI FOR CONGRESS</td>\n",
    "    </tr>\n",
    "    <tr>\n",
    "      <th>3</th>\n",
    "      <td>ZUCCOLO, JOE</td>\n",
    "      <td>JOE ZUCCOLO FOR CONGRESS</td>\n",
    "    </tr>\n",
    "    <tr>\n",
    "      <th>4</th>\n",
    "      <td>ZORNOW, TODD MR</td>\n",
    "      <td>None</td>\n",
    "    </tr>\n",
    "  </tbody>\n",
    "</table>\n",
    "\n",
    "<!--\n",
    "BEGIN QUESTION\n",
    "name: q2b\n",
    "-->"
   ]
  },
  {
   "cell_type": "code",
   "execution_count": 29,
   "metadata": {},
   "outputs": [
    {
     "data": {
      "text/html": [
       "<div>\n",
       "<style scoped>\n",
       "    .dataframe tbody tr th:only-of-type {\n",
       "        vertical-align: middle;\n",
       "    }\n",
       "\n",
       "    .dataframe tbody tr th {\n",
       "        vertical-align: top;\n",
       "    }\n",
       "\n",
       "    .dataframe thead th {\n",
       "        text-align: right;\n",
       "    }\n",
       "</style>\n",
       "<table border=\"1\" class=\"dataframe\">\n",
       "  <thead>\n",
       "    <tr style=\"text-align: right;\">\n",
       "      <th></th>\n",
       "      <th>cand_name</th>\n",
       "      <th>cmte_nm</th>\n",
       "    </tr>\n",
       "  </thead>\n",
       "  <tbody>\n",
       "    <tr>\n",
       "      <th>0</th>\n",
       "      <td>ZUTLER, DANIEL PAUL MR</td>\n",
       "      <td>CITIZENS TO ELECT DANIEL P ZUTLER FOR PRESIDENT</td>\n",
       "    </tr>\n",
       "    <tr>\n",
       "      <th>1</th>\n",
       "      <td>ZUMWALT, JAMES</td>\n",
       "      <td>ZUMWALT FOR CONGRESS</td>\n",
       "    </tr>\n",
       "    <tr>\n",
       "      <th>2</th>\n",
       "      <td>ZUKOWSKI, ANDREW GEORGE</td>\n",
       "      <td>ZUKOWSKI FOR CONGRESS</td>\n",
       "    </tr>\n",
       "    <tr>\n",
       "      <th>3</th>\n",
       "      <td>ZUCCOLO, JOE</td>\n",
       "      <td>JOE ZUCCOLO FOR CONGRESS</td>\n",
       "    </tr>\n",
       "    <tr>\n",
       "      <th>4</th>\n",
       "      <td>ZORNOW, TODD MR</td>\n",
       "      <td>None</td>\n",
       "    </tr>\n",
       "  </tbody>\n",
       "</table>\n",
       "</div>"
      ],
      "text/plain": [
       "                 cand_name                                          cmte_nm\n",
       "0   ZUTLER, DANIEL PAUL MR  CITIZENS TO ELECT DANIEL P ZUTLER FOR PRESIDENT\n",
       "1           ZUMWALT, JAMES                             ZUMWALT FOR CONGRESS\n",
       "2  ZUKOWSKI, ANDREW GEORGE                            ZUKOWSKI FOR CONGRESS\n",
       "3             ZUCCOLO, JOE                         JOE ZUCCOLO FOR CONGRESS\n",
       "4          ZORNOW, TODD MR                                             None"
      ]
     },
     "execution_count": 29,
     "metadata": {},
     "output_type": "execute_result"
    }
   ],
   "source": [
    "query_q2b = \"\"\"\n",
    "SELECT cand_name, cmte_nm\n",
    "FROM cand c1 LEFT JOIN comm c2 ON c1.cand_id = c2.cand_id\n",
    "ORDER BY cand_name DESC\n",
    "LIMIT 5\n",
    "\"\"\"\n",
    "\n",
    "\n",
    "res_q2b = pd.read_sql(query_q2b, engine)\n",
    "res_q2b"
   ]
  },
  {
   "cell_type": "code",
   "execution_count": 30,
   "metadata": {
    "deletable": false,
    "editable": false
   },
   "outputs": [
    {
     "data": {
      "text/html": [
       "\n",
       "    <p><strong>q2b</strong> passed!</p>\n",
       "    "
      ],
      "text/plain": [
       "q2b passed!"
      ]
     },
     "execution_count": 30,
     "metadata": {},
     "output_type": "execute_result"
    }
   ],
   "source": [
    "grader.check(\"q2b\")"
   ]
  },
  {
   "cell_type": "markdown",
   "metadata": {
    "deletable": false,
    "editable": false
   },
   "source": [
    "---\n",
    "\n",
    "To double-check your work, the cell below will rerun all of the autograder tests."
   ]
  },
  {
   "cell_type": "code",
   "execution_count": 31,
   "metadata": {
    "deletable": false,
    "editable": false
   },
   "outputs": [
    {
     "data": {
      "text/html": [
       "\n",
       "    <p><strong>q1a</strong> passed!</p>\n",
       "    \n",
       "\n",
       "\n",
       "    <p><strong>q1b</strong> passed!</p>\n",
       "    \n",
       "\n",
       "\n",
       "    <p><strong>q2a</strong> passed!</p>\n",
       "    \n",
       "\n",
       "\n",
       "    <p><strong>q2b</strong> passed!</p>\n",
       "    \n",
       "\n"
      ],
      "text/plain": [
       "q1a passed!\n",
       "\n",
       "q1b passed!\n",
       "\n",
       "q2a passed!\n",
       "\n",
       "q2b passed!\n"
      ]
     },
     "execution_count": 31,
     "metadata": {},
     "output_type": "execute_result"
    }
   ],
   "source": [
    "grader.check_all()"
   ]
  },
  {
   "cell_type": "markdown",
   "metadata": {
    "deletable": false,
    "editable": false
   },
   "source": [
    "## Submission\n",
    "\n",
    "Make sure you have run all cells in your notebook in order before running the cell below, so that all images/graphs appear in the output. The cell below will generate a zip file for you to submit. **Please save before exporting!**"
   ]
  },
  {
   "cell_type": "code",
   "execution_count": null,
   "metadata": {
    "deletable": false,
    "editable": false
   },
   "outputs": [],
   "source": [
    "# Save your notebook first, then run this cell to export your submission.\n",
    "grader.export(pdf=False)"
   ]
  },
  {
   "cell_type": "markdown",
   "metadata": {},
   "source": [
    " "
   ]
  }
 ],
 "metadata": {
  "celltoolbar": "Create Assignment",
  "history": [
   {
    "code": "import pandas as pd\nimport sqlalchemy\nfrom ds100_utils import fetch_and_cache\nfrom pathlib import Path",
    "id": "57be8c71bff4486d81554f86e3252411",
    "idx": 3,
    "time": "2021-01-23T04:19:08.615Z",
    "type": "execution"
   },
   {
    "id": "57be8c71bff4486d81554f86e3252411",
    "time": "2021-01-23T04:19:09.167Z",
    "type": "completion"
   },
   {
    "code": "db_url = 'https://s3.amazonaws.com/berkeley-ds100/fec_nyc.sqlite'\ndb_filename = 'fec_nyc.db'\ndata_dir = Path('data')\nfetch_and_cache(db_url, db_filename, data_dir=data_dir)\ndb_path = data_dir / db_filename",
    "id": "d9d3d0fdccde4508a882f53b4813dc36",
    "idx": 7,
    "time": "2021-01-23T04:19:15.780Z",
    "type": "execution"
   },
   {
    "id": "d9d3d0fdccde4508a882f53b4813dc36",
    "time": "2021-01-23T04:19:19.826Z",
    "type": "completion"
   },
   {
    "code": "engine = sqlalchemy.create_engine(f\"sqlite:///{db_path}\")\nconnection = engine.connect()",
    "id": "8d642f7de04d4352a3c2583593eb4321",
    "idx": 9,
    "time": "2021-01-23T04:19:41.226Z",
    "type": "execution"
   },
   {
    "id": "8d642f7de04d4352a3c2583593eb4321",
    "time": "2021-01-23T04:19:41.290Z",
    "type": "completion"
   },
   {
    "code": "engine.table_names()",
    "id": "1f81d5acb66d4ffbace002b73f97831b",
    "idx": 11,
    "time": "2021-01-23T04:19:44.110Z",
    "type": "execution"
   },
   {
    "id": "1f81d5acb66d4ffbace002b73f97831b",
    "time": "2021-01-23T04:19:44.214Z",
    "type": "completion"
   },
   {
    "code": "for exp in connection.execute('SELECT sql FROM sqlite_master;'):\n    print(exp[0])",
    "id": "cd54604932e14fda822e673869c0408f",
    "idx": 13,
    "time": "2021-01-23T04:20:12.142Z",
    "type": "execution"
   },
   {
    "id": "cd54604932e14fda822e673869c0408f",
    "time": "2021-01-23T04:20:12.213Z",
    "type": "completion"
   },
   {
    "code": "query = \"\"\"\nSELECT * from indiv_sample_nyc LIMIT 5\n\"\"\"\npd.read_sql(query, engine)",
    "id": "db84267e272a4ca38a0fa8e991a0ee33",
    "idx": 15,
    "time": "2021-01-23T04:23:21.590Z",
    "type": "execution"
   },
   {
    "id": "db84267e272a4ca38a0fa8e991a0ee33",
    "time": "2021-01-23T04:23:21.729Z",
    "type": "completion"
   },
   {
    "code": "query = \"\"\"\nSELECT *\nFROM cand\nLIMIT 5\n\"\"\"\npd.read_sql(query,engine)",
    "id": "cab2c3b3fd8a40228948ff5ebd68d351",
    "idx": 17,
    "time": "2021-01-23T04:23:34.547Z",
    "type": "execution"
   },
   {
    "id": "cab2c3b3fd8a40228948ff5ebd68d351",
    "time": "2021-01-23T04:23:34.659Z",
    "type": "completion"
   },
   {
    "code": "query = \"SELECT * from indiv_sample_nyc LIMIT 5\"\npd.read_sql(query, engine)",
    "id": "db84267e272a4ca38a0fa8e991a0ee33",
    "idx": 15,
    "time": "2021-01-23T04:24:53.737Z",
    "type": "execution"
   },
   {
    "id": "db84267e272a4ca38a0fa8e991a0ee33",
    "time": "2021-01-23T04:24:53.870Z",
    "type": "completion"
   },
   {
    "code": "query = \"\"\"\nSELECT *\nFROM indiv_sample_nyc\nLIMIT 5\"\"\"\npd.read_sql(query, engine)",
    "id": "db84267e272a4ca38a0fa8e991a0ee33",
    "idx": 15,
    "time": "2021-01-23T04:27:12.850Z",
    "type": "execution"
   },
   {
    "id": "db84267e272a4ca38a0fa8e991a0ee33",
    "time": "2021-01-23T04:27:12.947Z",
    "type": "completion"
   },
   {
    "code": "query = \"\"\"\nSELECT *\nFROM cand\nLIMIT 5\n\"\"\"\npd.read_sql(query, engine)",
    "id": "cab2c3b3fd8a40228948ff5ebd68d351",
    "idx": 17,
    "time": "2021-01-23T04:27:19.257Z",
    "type": "execution"
   },
   {
    "id": "cab2c3b3fd8a40228948ff5ebd68d351",
    "time": "2021-01-23T04:27:19.374Z",
    "type": "completion"
   },
   {
    "code": "query = \"\"\"\nSELECT cand_id, cand_name\nFROM cand\nWHERE cand_pty_affiliation = 'DEM'\nLIMIT 5\n\"\"\"\npd.read_sql(query,engine)",
    "id": "a0860d7af260461c8c7b9bf14d4a1b46",
    "idx": 21,
    "time": "2021-01-23T04:27:43.058Z",
    "type": "execution"
   },
   {
    "id": "a0860d7af260461c8c7b9bf14d4a1b46",
    "time": "2021-01-23T04:27:43.156Z",
    "type": "completion"
   },
   {
    "code": "for exp in connection.execute('SELECT sql FROM sqlite_master WHERE name=\"indiv_sample_nyc\";'):\n    print(exp[0])",
    "id": "4e7d9ea5b47946cc8d596e1b66c4a9d7",
    "idx": 23,
    "time": "2021-01-23T04:27:47.878Z",
    "type": "execution"
   },
   {
    "id": "4e7d9ea5b47946cc8d596e1b66c4a9d7",
    "time": "2021-01-23T04:27:47.949Z",
    "type": "completion"
   },
   {
    "code": "res_q1a['name'].value_counts()",
    "id": "944f053e3f4746c981689d37a5a3a470",
    "idx": 30,
    "time": "2021-01-23T04:29:39.876Z",
    "type": "execution"
   },
   {
    "id": "944f053e3f4746c981689d37a5a3a470",
    "time": "2021-01-23T04:29:40.096Z",
    "type": "completion"
   },
   {
    "code": "query_q1a = '''\nSELECT\n    ... \n    ... \n    ...\nFROM indiv_sample_nyc\nWHERE ...\n'''\n\n# BEGIN SOLUTION NO PROMPT\nquery_q1a = '''\nSELECT \n    cmte_id,\n    transaction_amt,\n    name\nFROM indiv_sample_nyc\nWHERE name LIKE '%TRUMP%' AND name LIKE '%DONALD%'\n'''\n# END SOLUTION\n\nres_q1a = pd.read_sql(query_q1a, engine)\nres_q1a",
    "id": "6abaa3290d6c4b4f970cb14bf80abc08",
    "idx": 25,
    "time": "2021-01-23T04:29:43.397Z",
    "type": "execution"
   },
   {
    "id": "6abaa3290d6c4b4f970cb14bf80abc08",
    "time": "2021-01-23T04:29:43.808Z",
    "type": "completion"
   },
   {
    "code": "query_q1a = \"\"\"\nSELECT\n    ... \n    ... \n    ...\nFROM indiv_sample_nyc\nWHERE ...\n\"\"\"\n\n# BEGIN SOLUTION NO PROMPT\nquery_q1a = \"\"\"\nSELECT \n    cmte_id,\n    transaction_amt,\n    name\nFROM indiv_sample_nyc\nWHERE name LIKE '%TRUMP%' AND name LIKE '%DONALD%'\n\"\"\"\n# END SOLUTION\n\nres_q1a = pd.read_sql(query_q1a, engine)\nres_q1a",
    "id": "6abaa3290d6c4b4f970cb14bf80abc08",
    "idx": 25,
    "time": "2021-01-23T04:30:04.115Z",
    "type": "execution"
   },
   {
    "id": "6abaa3290d6c4b4f970cb14bf80abc08",
    "time": "2021-01-23T04:30:04.489Z",
    "type": "completion"
   },
   {
    "code": "# TEST\nres_q1a.shape == (157, 3)",
    "id": "f7323c99b96b480496e8d4bfda489ad6",
    "idx": 26,
    "time": "2021-01-23T04:30:04.755Z",
    "type": "execution"
   },
   {
    "id": "f7323c99b96b480496e8d4bfda489ad6",
    "time": "2021-01-23T04:30:04.814Z",
    "type": "completion"
   },
   {
    "code": "# TEST\nsorted(res_q1a['transaction_amt'].unique()) == [5, 224, 514, 1000, 1029, 1216, 1713, 2000, 2426, 2460, 2529, 2531, 2536, 2544, 2574, 2587, 2600, 2620, 2679, 2692, 2693, 2700, 2991, 3063, 3347, 3360, 3371, 3499, 3548, 3706, 3954, 4049, 4127, 4164, 4591, 4931, 4958, 5000, 5297, 5574, 6197, 6250, 6990, 7401, 7519, 7990, 8735, 8896, 9000, 9013, 9106, 9651, 9752, 10000, 10418, 11023, 15000, 23775, 2000000, 10000000]",
    "id": "8547774db7cd430a8d00db0f79010637",
    "idx": 27,
    "time": "2021-01-23T04:30:05.282Z",
    "type": "execution"
   },
   {
    "id": "8547774db7cd430a8d00db0f79010637",
    "time": "2021-01-23T04:30:05.344Z",
    "type": "completion"
   },
   {
    "code": "res_q1a['name'].value_counts()",
    "id": "944f053e3f4746c981689d37a5a3a470",
    "idx": 30,
    "time": "2021-01-23T04:30:06.337Z",
    "type": "execution"
   },
   {
    "id": "944f053e3f4746c981689d37a5a3a470",
    "time": "2021-01-23T04:30:06.399Z",
    "type": "completion"
   },
   {
    "code": "query_q1b = '''\nSELECT\n    ... \n    ... \n    ...\nFROM indiv_sample_nyc\nWHERE ...\n'''\n# BEGIN SOLUTION NO PROMPT\nquery_q1b = '''\nSELECT \n    cmte_id,\n    transaction_amt,\n    name\nFROM indiv_sample_nyc\nWHERE name LIKE '%TRUMP%' AND name LIKE '%DONALD%' AND name NOT LIKE '%INC%'\n'''\n# END SOLUTION\n\nres_q1b = pd.read_sql(query_q1b, engine)\nres_q1b",
    "id": "25276da32dda49e38e2c8f21f14d3a5b",
    "idx": 32,
    "time": "2021-01-23T04:30:08.544Z",
    "type": "execution"
   },
   {
    "id": "25276da32dda49e38e2c8f21f14d3a5b",
    "time": "2021-01-23T04:30:08.818Z",
    "type": "completion"
   },
   {
    "code": "query_q1c = \"\"\"\nSELECT\n    ... \n    ... \n    ...\nFROM indiv_sample_nyc\nWHERE ...\n...\n...\n\"\"\"\n\n# BEGIN SOLUTION NO PROMPT\nquery_q1c = \"\"\"\nSELECT \n    cmte_id,\n    SUM(transaction_amt) as total_amount,\n    COUNT(*) as num_donations\nFROM indiv_sample_nyc\nWHERE name LIKE '%TRUMP%' AND name LIKE '%DONALD%' AND name NOT LIKE '%INC%'\nGROUP BY cmte_id\nORDER BY total_amount DESC\n\"\"\"\n# END SOLUTION\n\nres_q1c = pd.read_sql(query_q1c, engine)\nres_q1c",
    "id": "cd225573e53a4e5d9dd4f6fdad9fd6eb",
    "idx": 37,
    "time": "2021-01-23T04:30:51.788Z",
    "type": "execution"
   },
   {
    "id": "cd225573e53a4e5d9dd4f6fdad9fd6eb",
    "time": "2021-01-23T04:30:52.210Z",
    "type": "completion"
   },
   {
    "code": "# TEST\nres_q1c.shape == (10, 3)",
    "id": "d63c858862de42678d323ee832761d3c",
    "idx": 38,
    "time": "2021-01-23T04:30:52.252Z",
    "type": "execution"
   },
   {
    "id": "d63c858862de42678d323ee832761d3c",
    "time": "2021-01-23T04:30:52.313Z",
    "type": "completion"
   },
   {
    "code": "# TEST\nsorted(res_q1c['total_amount']) == [1000, 2000, 2600, 5000, 5000, 5200, 5400, 9000, 10000, 18633157]",
    "id": "ad8dc07ca7c6471d86526f1ce15092a8",
    "idx": 39,
    "time": "2021-01-23T04:30:52.733Z",
    "type": "execution"
   },
   {
    "id": "ad8dc07ca7c6471d86526f1ce15092a8",
    "time": "2021-01-23T04:30:52.790Z",
    "type": "completion"
   },
   {
    "code": "# TEST\nsorted(res_q1c['num_donations']) == [1, 1, 1, 1, 1, 1, 1, 2, 2, 131]",
    "id": "86247a5cafab481d85fcb44fed345278",
    "idx": 40,
    "time": "2021-01-23T04:30:52.943Z",
    "type": "execution"
   },
   {
    "id": "86247a5cafab481d85fcb44fed345278",
    "time": "2021-01-23T04:30:53.021Z",
    "type": "completion"
   },
   {
    "code": "query_q1d = \"\"\"\n...\n\"\"\"\n\n# BEGIN SOLUTION NO PROMPT\nquery_q1d = \"\"\"\nSELECT \n    cmte_id,\n    SUM(transaction_amt) as total_amount,\n    COUNT(*) as num_donations,\n    cmte_nm\nFROM \n        (SELECT *\n        FROM indiv_sample_nyc, comm\n        WHERE indiv_sample_nyc.cmte_id == comm.cmte_id)\nWHERE name LIKE '%TRUMP%' AND name LIKE '%DONALD%' AND name NOT LIKE '%INC%'\nGROUP BY cmte_id\nORDER BY total_amount DESC\n\"\"\"\n# END SOLUTION\n\nres_q1d = pd.read_sql(query_q1d, engine)\nres_q1d",
    "id": "b5768e053c2d41bd81846942b233a453",
    "idx": 43,
    "time": "2021-01-23T04:31:07.534Z",
    "type": "execution"
   },
   {
    "id": "b5768e053c2d41bd81846942b233a453",
    "time": "2021-01-23T04:31:07.878Z",
    "type": "completion"
   },
   {
    "code": "# TEST\nres_q1d.shape",
    "id": "7f2155b206674e2f80d2ac5e5dc7a512",
    "idx": 44,
    "time": "2021-01-23T04:31:09.570Z",
    "type": "execution"
   },
   {
    "id": "7f2155b206674e2f80d2ac5e5dc7a512",
    "time": "2021-01-23T04:31:09.642Z",
    "type": "completion"
   },
   {
    "code": "# TEST\nprint(sorted(res_q1d['total_amount']))",
    "id": "188b41a26844434fa916a5260e0522c8",
    "idx": 45,
    "time": "2021-01-23T04:31:09.964Z",
    "type": "execution"
   },
   {
    "id": "188b41a26844434fa916a5260e0522c8",
    "time": "2021-01-23T04:31:10.079Z",
    "type": "completion"
   },
   {
    "code": "query_q2b = \"\"\"\nSELECT ..., ...\nFROM cand c1 ... JOIN comm c2 ON ...\n...\n...\n\"\"\"\n\n# BEGIN SOLUTION NO PROMPT\nquery_q2b = \"\"\"\nSELECT c1.cand_name, c2.cmte_nm\nFROM cand c1 INNER JOIN comm c2 ON c1.cand_id = c2.cand_id\nORDER BY c1.cand_name DESC\nLIMIT 5\n\"\"\"\n# END SOLUTION\n\nres_q2b = pd.read_sql(query_q2b, engine)\nres_q2b",
    "id": "6dcf914c4959448d8cbdf01317bf1fe9",
    "idx": 55,
    "time": "2021-01-23T04:34:51.879Z",
    "type": "execution"
   },
   {
    "code": "# TEST\nres_q2b.shape == (5, 2)",
    "id": "d064ea6524924ccc80039b7a0353307b",
    "idx": 56,
    "time": "2021-01-23T04:34:52.058Z",
    "type": "execution"
   },
   {
    "id": "6dcf914c4959448d8cbdf01317bf1fe9",
    "time": "2021-01-23T04:34:52.132Z",
    "type": "completion"
   },
   {
    "id": "d064ea6524924ccc80039b7a0353307b",
    "time": "2021-01-23T04:34:52.141Z",
    "type": "completion"
   },
   {
    "code": "# TEST\nall(res_q2b == res_q2b.sort_values('cand_name', ascending=False))",
    "id": "3ffd8dd4606d4ffc8093a2e90b497cc5",
    "idx": 57,
    "time": "2021-01-23T04:34:52.229Z",
    "type": "execution"
   },
   {
    "id": "3ffd8dd4606d4ffc8093a2e90b497cc5",
    "time": "2021-01-23T04:34:52.285Z",
    "type": "completion"
   },
   {
    "code": "# TEST\nsorted(res_q2b['cmte_nm'].unique()) == ['CITIZENS TO ELECT DANIEL P ZUTLER FOR PRESIDENT', 'CONSTITUTIONAL COMMITTEE', 'JOE ZUCCOLO FOR CONGRESS', 'ZUKOWSKI FOR CONGRESS', 'ZUMWALT FOR CONGRESS']",
    "id": "f7a8bf805e004756831b601b5ba33307",
    "idx": 58,
    "time": "2021-01-23T04:34:52.754Z",
    "type": "execution"
   },
   {
    "id": "f7a8bf805e004756831b601b5ba33307",
    "time": "2021-01-23T04:34:52.817Z",
    "type": "completion"
   },
   {
    "code": "query_q2c = \"\"\"\nSELECT ..., ...\nFROM cand c1 ... JOIN comm c2 ON ...\n...\n...\n\"\"\"\n\n# BEGIN SOLUTION NO PROMPT\nquery_q2c = \"\"\"\nSELECT c1.cand_name, c2.cmte_nm\nFROM cand c1 LEFT OUTER JOIN comm c2 ON c1.cand_id = c2.cand_id\nORDER BY c1.cand_name DESC\nLIMIT 5\n\"\"\"\n# END SOLUTION\n\nres_q2c = pd.read_sql(query_q2c, engine)\nres_q2c",
    "id": "cdf4dff7a89048e781877e3de7bd47e9",
    "idx": 60,
    "time": "2021-01-23T04:35:06.811Z",
    "type": "execution"
   },
   {
    "id": "cdf4dff7a89048e781877e3de7bd47e9",
    "time": "2021-01-23T04:35:06.946Z",
    "type": "completion"
   },
   {
    "code": "# TEST\nres_q2c.shape == (5, 2)",
    "id": "a3386fbdcdc6435e82dde18806c5e58b",
    "idx": 61,
    "time": "2021-01-23T04:35:07.053Z",
    "type": "execution"
   },
   {
    "id": "a3386fbdcdc6435e82dde18806c5e58b",
    "time": "2021-01-23T04:35:07.114Z",
    "type": "completion"
   },
   {
    "code": "import pandas as pd\nimport sqlalchemy\nfrom ds100_utils import fetch_and_cache\nfrom pathlib import Path",
    "id": "57be8c71bff4486d81554f86e3252411",
    "idx": 3,
    "time": "2021-01-23T04:35:45.680Z",
    "type": "execution"
   },
   {
    "code": "db_url = 'https://s3.amazonaws.com/berkeley-ds100/fec_nyc.sqlite'\ndb_filename = 'fec_nyc.db'\ndata_dir = Path('data')\nfetch_and_cache(db_url, db_filename, data_dir = data_dir)\ndb_path = data_dir / db_filename",
    "id": "d9d3d0fdccde4508a882f53b4813dc36",
    "idx": 7,
    "time": "2021-01-23T04:35:45.684Z",
    "type": "execution"
   },
   {
    "code": "engine = sqlalchemy.create_engine(f\"sqlite:///{db_path}\")\nconnection = engine.connect()",
    "id": "8d642f7de04d4352a3c2583593eb4321",
    "idx": 9,
    "time": "2021-01-23T04:35:45.685Z",
    "type": "execution"
   },
   {
    "code": "engine.table_names()",
    "id": "1f81d5acb66d4ffbace002b73f97831b",
    "idx": 11,
    "time": "2021-01-23T04:35:45.687Z",
    "type": "execution"
   },
   {
    "code": "for exp in connection.execute('SELECT sql FROM sqlite_master;'):\n    print(exp[0])",
    "id": "cd54604932e14fda822e673869c0408f",
    "idx": 13,
    "time": "2021-01-23T04:35:45.690Z",
    "type": "execution"
   },
   {
    "code": "query = \"\"\"\nSELECT *\nFROM indiv_sample_nyc\nLIMIT 5\n\"\"\"\npd.read_sql(query, engine)",
    "id": "db84267e272a4ca38a0fa8e991a0ee33",
    "idx": 15,
    "time": "2021-01-23T04:35:45.692Z",
    "type": "execution"
   },
   {
    "code": "query = \"\"\"\nSELECT *\nFROM cand\nLIMIT 5\n\"\"\"\npd.read_sql(query, engine)",
    "id": "cab2c3b3fd8a40228948ff5ebd68d351",
    "idx": 17,
    "time": "2021-01-23T04:35:45.695Z",
    "type": "execution"
   },
   {
    "code": "query = \"\"\"\nSELECT *\nFROM comm\nLIMIT 5\n\"\"\"\npd.read_sql(query, engine)",
    "id": "9518cf24e17b433e81826afdf78e2606",
    "idx": 19,
    "time": "2021-01-23T04:35:45.698Z",
    "type": "execution"
   },
   {
    "code": "query = \"\"\"\nSELECT cand_id, cand_name\nFROM cand\nWHERE cand_pty_affiliation = 'DEM'\nLIMIT 5\n\"\"\"\npd.read_sql(query,engine)",
    "id": "a0860d7af260461c8c7b9bf14d4a1b46",
    "idx": 21,
    "time": "2021-01-23T04:35:45.701Z",
    "type": "execution"
   },
   {
    "code": "for exp in connection.execute('SELECT sql FROM sqlite_master WHERE name=\"indiv_sample_nyc\";'):\n    print(exp[0])",
    "id": "4e7d9ea5b47946cc8d596e1b66c4a9d7",
    "idx": 23,
    "time": "2021-01-23T04:35:45.703Z",
    "type": "execution"
   },
   {
    "code": "query_q1a = \"\"\"\nSELECT\n    ... \n    ... \n    ...\nFROM indiv_sample_nyc\nWHERE ...\n\"\"\"\n\n# BEGIN SOLUTION NO PROMPT\nquery_q1a = \"\"\"\nSELECT \n    cmte_id,\n    transaction_amt,\n    name\nFROM indiv_sample_nyc\nWHERE name LIKE '%TRUMP%' AND name LIKE '%DONALD%'\n\"\"\"\n# END SOLUTION\n\nres_q1a = pd.read_sql(query_q1a, engine)\nres_q1a",
    "id": "6abaa3290d6c4b4f970cb14bf80abc08",
    "idx": 25,
    "time": "2021-01-23T04:35:45.705Z",
    "type": "execution"
   },
   {
    "code": "# TEST\nres_q1a.shape == (157, 3)",
    "id": "f7323c99b96b480496e8d4bfda489ad6",
    "idx": 26,
    "time": "2021-01-23T04:35:45.707Z",
    "type": "execution"
   },
   {
    "code": "# TEST\nsorted(res_q1a['transaction_amt'].unique()) == [5, 224, 514, 1000, 1029, 1216, 1713, 2000, 2426, 2460, 2529, 2531, 2536, 2544, 2574, 2587, 2600, 2620, 2679, 2692, 2693, 2700, 2991, 3063, 3347, 3360, 3371, 3499, 3548, 3706, 3954, 4049, 4127, 4164, 4591, 4931, 4958, 5000, 5297, 5574, 6197, 6250, 6990, 7401, 7519, 7990, 8735, 8896, 9000, 9013, 9106, 9651, 9752, 10000, 10418, 11023, 15000, 23775, 2000000, 10000000]",
    "id": "8547774db7cd430a8d00db0f79010637",
    "idx": 27,
    "time": "2021-01-23T04:35:45.708Z",
    "type": "execution"
   },
   {
    "code": "res_q1a['name'].value_counts()",
    "id": "944f053e3f4746c981689d37a5a3a470",
    "idx": 30,
    "time": "2021-01-23T04:35:45.711Z",
    "type": "execution"
   },
   {
    "code": "query_q1b = \"\"\"\nSELECT\n    ... \n    ... \n    ...\nFROM indiv_sample_nyc\nWHERE ...\n\"\"\"\n\n# BEGIN SOLUTION NO PROMPT\nquery_q1b = \"\"\"\nSELECT \n    cmte_id,\n    transaction_amt,\n    name\nFROM indiv_sample_nyc\nWHERE name LIKE '%TRUMP%' AND name LIKE '%DONALD%' AND name NOT LIKE '%INC%'\n\"\"\"\n# END SOLUTION\n\nres_q1b = pd.read_sql(query_q1b, engine)\nres_q1b",
    "id": "25276da32dda49e38e2c8f21f14d3a5b",
    "idx": 32,
    "time": "2021-01-23T04:35:45.714Z",
    "type": "execution"
   },
   {
    "code": "# TEST\nres_q1b.shape == (142, 3)",
    "id": "11f61ce7777d49d4a5cb75b2e0783b15",
    "idx": 33,
    "time": "2021-01-23T04:35:45.716Z",
    "type": "execution"
   },
   {
    "code": "# TEST\nsorted(res_q1b['transaction_amt'].unique()) == [224, 514, 1000, 1029, 1216, 1713, 2000, 2426, 2460, 2529, 2531, 2536, 2544, 2574, 2587, 2600, 2620, 2679, 2692, 2693, 2700, 2991, 3063, 3347, 3360, 3371, 3499, 3548, 3706, 3954, 4049, 4127, 4164, 4591, 4931, 4958, 5000, 5297, 5574, 6197, 6250, 6990, 7401, 7519, 7990, 8735, 8896, 9000, 9013, 9106, 9651, 9752, 10000, 10418, 11023, 15000, 23775, 2000000, 10000000]",
    "id": "7b83b94870104da78418897fa5a04f6f",
    "idx": 34,
    "time": "2021-01-23T04:35:45.718Z",
    "type": "execution"
   },
   {
    "code": "query_q1c = \"\"\"\nSELECT\n    ... \n    ... \n    ...\nFROM indiv_sample_nyc\nWHERE ...\n...\n...\n\"\"\"\n\n# BEGIN SOLUTION NO PROMPT\nquery_q1c = \"\"\"\nSELECT \n    cmte_id,\n    SUM(transaction_amt) as total_amount,\n    COUNT(*) as num_donations\nFROM indiv_sample_nyc\nWHERE name LIKE '%TRUMP%' AND name LIKE '%DONALD%' AND name NOT LIKE '%INC%'\nGROUP BY cmte_id\nORDER BY total_amount DESC\n\"\"\"\n# END SOLUTION\n\nres_q1c = pd.read_sql(query_q1c, engine)\nres_q1c",
    "id": "cd225573e53a4e5d9dd4f6fdad9fd6eb",
    "idx": 37,
    "time": "2021-01-23T04:35:45.720Z",
    "type": "execution"
   },
   {
    "code": "# TEST\nres_q1c.shape == (10, 3)",
    "id": "d63c858862de42678d323ee832761d3c",
    "idx": 38,
    "time": "2021-01-23T04:35:45.722Z",
    "type": "execution"
   },
   {
    "code": "# TEST\nsorted(res_q1c['total_amount']) == [1000, 2000, 2600, 5000, 5000, 5200, 5400, 9000, 10000, 18633157]",
    "id": "ad8dc07ca7c6471d86526f1ce15092a8",
    "idx": 39,
    "time": "2021-01-23T04:35:45.723Z",
    "type": "execution"
   },
   {
    "code": "# TEST\nsorted(res_q1c['num_donations']) == [1, 1, 1, 1, 1, 1, 1, 2, 2, 131]",
    "id": "86247a5cafab481d85fcb44fed345278",
    "idx": 40,
    "time": "2021-01-23T04:35:45.725Z",
    "type": "execution"
   },
   {
    "code": "query_q1d = \"\"\"\n...\n\"\"\"\n\n# BEGIN SOLUTION NO PROMPT\nquery_q1d = \"\"\"\nSELECT \n    cmte_id,\n    SUM(transaction_amt) as total_amount,\n    COUNT(*) as num_donations,\n    cmte_nm\nFROM \n        (SELECT *\n        FROM indiv_sample_nyc, comm\n        WHERE indiv_sample_nyc.cmte_id == comm.cmte_id)\nWHERE name LIKE '%TRUMP%' AND name LIKE '%DONALD%' AND name NOT LIKE '%INC%'\nGROUP BY cmte_id\nORDER BY total_amount DESC\n\"\"\"\n# END SOLUTION\n\nres_q1d = pd.read_sql(query_q1d, engine)\nres_q1d",
    "id": "b5768e053c2d41bd81846942b233a453",
    "idx": 43,
    "time": "2021-01-23T04:35:45.728Z",
    "type": "execution"
   },
   {
    "code": "# TEST\nres_q1d.shape",
    "id": "7f2155b206674e2f80d2ac5e5dc7a512",
    "idx": 44,
    "time": "2021-01-23T04:35:45.730Z",
    "type": "execution"
   },
   {
    "code": "# TEST\nprint(sorted(res_q1d['total_amount']))",
    "id": "188b41a26844434fa916a5260e0522c8",
    "idx": 45,
    "time": "2021-01-23T04:35:45.732Z",
    "type": "execution"
   },
   {
    "code": "# TEST\nprint(sorted(res_q1d['num_donations']))",
    "id": "b177f99eeda043ec84f13779d5c93203",
    "idx": 46,
    "time": "2021-01-23T04:35:45.734Z",
    "type": "execution"
   },
   {
    "code": "# TEST\nprint(sorted(res_q1d['cmte_nm']))",
    "id": "5b35e7fbf2404455923044e1845f5b30",
    "idx": 47,
    "time": "2021-01-23T04:35:45.736Z",
    "type": "execution"
   },
   {
    "code": "query_q2a = \"\"\"\nSELECT\n    ... AS committee_id,\n    ... AS total_amount,\n    ... AS count\nFROM indiv_sample_nyc\n...\n...\n...\n...\n\"\"\"\n\n# BEGIN SOLUTION NO PROMPT\nquery_q2a = \"\"\"\nSELECT\n    cmte_id AS committee_id,\n    sum(transaction_amt) AS total_amount,\n    count(*) AS count\nFROM indiv_sample_nyc\nWHERE cmte_id LIKE '%5'\nGROUP BY cmte_id\nORDER BY count DESC\nLIMIT 5\n\"\"\"\n# END SOLUTION\n\nres_q2a = pd.read_sql(query_q2a, engine)\nres_q2a",
    "id": "7f7c5f002727448da575376c9136b4d1",
    "idx": 50,
    "time": "2021-01-23T04:35:45.739Z",
    "type": "execution"
   },
   {
    "code": "# TEST\nres_q2a.shape == (5, 3)",
    "id": "5bebaadff7e646de80bf1b8e56b9aee9",
    "idx": 51,
    "time": "2021-01-23T04:35:45.741Z",
    "type": "execution"
   },
   {
    "code": "# TEST\nall(res_q2a == res_q2a.sort_values('count', ascending=False))",
    "id": "864ffc1c0bfe45468d7ab3138792252d",
    "idx": 52,
    "time": "2021-01-23T04:35:45.742Z",
    "type": "execution"
   },
   {
    "code": "# TEST\nsorted(res_q2a['total_amount'].unique()) == [316019, 492567, 499659, 6989835, 25099091]",
    "id": "24b0207f84c7482e83c79aa050da051c",
    "idx": 53,
    "time": "2021-01-23T04:35:45.744Z",
    "type": "execution"
   },
   {
    "code": "query_q2b = \"\"\"\nSELECT ..., ...\nFROM cand c1 ... JOIN comm c2 ON ...\n...\n...\n\"\"\"\n\n# BEGIN SOLUTION NO PROMPT\nquery_q2b = \"\"\"\nSELECT c1.cand_name, c2.cmte_nm\nFROM cand c1 INNER JOIN comm c2 ON c1.cand_id = c2.cand_id\nORDER BY c1.cand_name DESC\nLIMIT 5\n\"\"\"\n# END SOLUTION\n\nres_q2b = pd.read_sql(query_q2b, engine)\nres_q2b",
    "id": "6dcf914c4959448d8cbdf01317bf1fe9",
    "idx": 55,
    "time": "2021-01-23T04:35:45.746Z",
    "type": "execution"
   },
   {
    "code": "# TEST\nres_q2b.shape == (5, 2)",
    "id": "d064ea6524924ccc80039b7a0353307b",
    "idx": 56,
    "time": "2021-01-23T04:35:45.750Z",
    "type": "execution"
   },
   {
    "code": "# TEST\nall(res_q2b == res_q2b.sort_values('cand_name', ascending=False))",
    "id": "3ffd8dd4606d4ffc8093a2e90b497cc5",
    "idx": 57,
    "time": "2021-01-23T04:35:45.752Z",
    "type": "execution"
   },
   {
    "code": "# TEST\nsorted(res_q2b['cmte_nm'].unique()) == ['CITIZENS TO ELECT DANIEL P ZUTLER FOR PRESIDENT', 'CONSTITUTIONAL COMMITTEE', 'JOE ZUCCOLO FOR CONGRESS', 'ZUKOWSKI FOR CONGRESS', 'ZUMWALT FOR CONGRESS']",
    "id": "f7a8bf805e004756831b601b5ba33307",
    "idx": 58,
    "time": "2021-01-23T04:35:45.754Z",
    "type": "execution"
   },
   {
    "code": "query_q2c = \"\"\"\nSELECT ..., ...\nFROM cand c1 ... JOIN comm c2 ON ...\n...\n...\n\"\"\"\n\n# BEGIN SOLUTION NO PROMPT\nquery_q2c = \"\"\"\nSELECT c1.cand_name, c2.cmte_nm\nFROM cand c1 LEFT OUTER JOIN comm c2 ON c1.cand_id = c2.cand_id\nORDER BY c1.cand_name DESC\nLIMIT 5\n\"\"\"\n# END SOLUTION\n\nres_q2c = pd.read_sql(query_q2c, engine)\nres_q2c",
    "id": "cdf4dff7a89048e781877e3de7bd47e9",
    "idx": 60,
    "time": "2021-01-23T04:35:45.756Z",
    "type": "execution"
   },
   {
    "code": "# TEST\nres_q2c.shape == (5, 2)",
    "id": "a3386fbdcdc6435e82dde18806c5e58b",
    "idx": 61,
    "time": "2021-01-23T04:35:45.758Z",
    "type": "execution"
   },
   {
    "code": "# TEST\nall(res_q2c == res_q2c.sort_values('cand_name', ascending=False))",
    "id": "6870f18cd99748728eac5f16d97db91f",
    "idx": 62,
    "time": "2021-01-23T04:35:45.759Z",
    "type": "execution"
   },
   {
    "code": "# TEST\nsorted(map(str, res_q2c['cmte_nm'].unique())) == ['CITIZENS TO ELECT DANIEL P ZUTLER FOR PRESIDENT', 'JOE ZUCCOLO FOR CONGRESS', 'None', 'ZUKOWSKI FOR CONGRESS', 'ZUMWALT FOR CONGRESS']",
    "id": "08c33912a0f54f4588ea613168ad17ae",
    "idx": 63,
    "time": "2021-01-23T04:35:45.761Z",
    "type": "execution"
   },
   {
    "id": "57be8c71bff4486d81554f86e3252411",
    "time": "2021-01-23T04:35:46.193Z",
    "type": "completion"
   },
   {
    "id": "d9d3d0fdccde4508a882f53b4813dc36",
    "time": "2021-01-23T04:35:46.206Z",
    "type": "completion"
   },
   {
    "id": "8d642f7de04d4352a3c2583593eb4321",
    "time": "2021-01-23T04:35:46.239Z",
    "type": "completion"
   },
   {
    "id": "1f81d5acb66d4ffbace002b73f97831b",
    "time": "2021-01-23T04:35:46.244Z",
    "type": "completion"
   },
   {
    "id": "cd54604932e14fda822e673869c0408f",
    "time": "2021-01-23T04:35:46.249Z",
    "type": "completion"
   },
   {
    "id": "db84267e272a4ca38a0fa8e991a0ee33",
    "time": "2021-01-23T04:35:46.293Z",
    "type": "completion"
   },
   {
    "id": "cab2c3b3fd8a40228948ff5ebd68d351",
    "time": "2021-01-23T04:35:46.357Z",
    "type": "completion"
   },
   {
    "id": "9518cf24e17b433e81826afdf78e2606",
    "time": "2021-01-23T04:35:46.391Z",
    "type": "completion"
   },
   {
    "id": "a0860d7af260461c8c7b9bf14d4a1b46",
    "time": "2021-01-23T04:35:46.399Z",
    "type": "completion"
   },
   {
    "id": "4e7d9ea5b47946cc8d596e1b66c4a9d7",
    "time": "2021-01-23T04:35:46.401Z",
    "type": "completion"
   },
   {
    "id": "6abaa3290d6c4b4f970cb14bf80abc08",
    "time": "2021-01-23T04:35:46.721Z",
    "type": "completion"
   },
   {
    "id": "f7323c99b96b480496e8d4bfda489ad6",
    "time": "2021-01-23T04:35:46.724Z",
    "type": "completion"
   },
   {
    "id": "8547774db7cd430a8d00db0f79010637",
    "time": "2021-01-23T04:35:46.787Z",
    "type": "completion"
   },
   {
    "id": "944f053e3f4746c981689d37a5a3a470",
    "time": "2021-01-23T04:35:46.792Z",
    "type": "completion"
   },
   {
    "id": "25276da32dda49e38e2c8f21f14d3a5b",
    "time": "2021-01-23T04:35:46.911Z",
    "type": "completion"
   },
   {
    "id": "11f61ce7777d49d4a5cb75b2e0783b15",
    "time": "2021-01-23T04:35:46.915Z",
    "type": "completion"
   },
   {
    "id": "7b83b94870104da78418897fa5a04f6f",
    "time": "2021-01-23T04:35:46.917Z",
    "type": "completion"
   },
   {
    "id": "cd225573e53a4e5d9dd4f6fdad9fd6eb",
    "time": "2021-01-23T04:35:47.130Z",
    "type": "completion"
   },
   {
    "id": "d63c858862de42678d323ee832761d3c",
    "time": "2021-01-23T04:35:47.138Z",
    "type": "completion"
   },
   {
    "id": "ad8dc07ca7c6471d86526f1ce15092a8",
    "time": "2021-01-23T04:35:47.140Z",
    "type": "completion"
   },
   {
    "id": "86247a5cafab481d85fcb44fed345278",
    "time": "2021-01-23T04:35:47.141Z",
    "type": "completion"
   },
   {
    "id": "b5768e053c2d41bd81846942b233a453",
    "time": "2021-01-23T04:35:47.439Z",
    "type": "completion"
   },
   {
    "id": "7f2155b206674e2f80d2ac5e5dc7a512",
    "time": "2021-01-23T04:35:47.441Z",
    "type": "completion"
   },
   {
    "id": "188b41a26844434fa916a5260e0522c8",
    "time": "2021-01-23T04:35:47.445Z",
    "type": "completion"
   },
   {
    "id": "b177f99eeda043ec84f13779d5c93203",
    "time": "2021-01-23T04:35:47.484Z",
    "type": "completion"
   },
   {
    "id": "5b35e7fbf2404455923044e1845f5b30",
    "time": "2021-01-23T04:35:47.486Z",
    "type": "completion"
   },
   {
    "id": "7f7c5f002727448da575376c9136b4d1",
    "time": "2021-01-23T04:35:47.745Z",
    "type": "completion"
   },
   {
    "id": "5bebaadff7e646de80bf1b8e56b9aee9",
    "time": "2021-01-23T04:35:47.749Z",
    "type": "completion"
   },
   {
    "id": "864ffc1c0bfe45468d7ab3138792252d",
    "time": "2021-01-23T04:35:47.751Z",
    "type": "completion"
   },
   {
    "id": "24b0207f84c7482e83c79aa050da051c",
    "time": "2021-01-23T04:35:47.780Z",
    "type": "completion"
   },
   {
    "id": "6dcf914c4959448d8cbdf01317bf1fe9",
    "time": "2021-01-23T04:35:47.783Z",
    "type": "completion"
   },
   {
    "id": "d064ea6524924ccc80039b7a0353307b",
    "time": "2021-01-23T04:35:47.785Z",
    "type": "completion"
   },
   {
    "id": "3ffd8dd4606d4ffc8093a2e90b497cc5",
    "time": "2021-01-23T04:35:47.788Z",
    "type": "completion"
   },
   {
    "id": "f7a8bf805e004756831b601b5ba33307",
    "time": "2021-01-23T04:35:47.825Z",
    "type": "completion"
   },
   {
    "id": "cdf4dff7a89048e781877e3de7bd47e9",
    "time": "2021-01-23T04:35:47.834Z",
    "type": "completion"
   },
   {
    "id": "a3386fbdcdc6435e82dde18806c5e58b",
    "time": "2021-01-23T04:35:47.837Z",
    "type": "completion"
   },
   {
    "id": "6870f18cd99748728eac5f16d97db91f",
    "time": "2021-01-23T04:35:47.840Z",
    "type": "completion"
   },
   {
    "id": "08c33912a0f54f4588ea613168ad17ae",
    "time": "2021-01-23T04:35:47.871Z",
    "type": "completion"
   },
   {
    "code": "import pandas as pd\nimport sqlalchemy\nfrom ds100_utils import fetch_and_cache\nfrom pathlib import Path",
    "id": "f7605007401642fc851c73022c6a0329",
    "idx": 3,
    "time": "2021-01-24T23:06:53.692Z",
    "type": "execution"
   },
   {
    "code": "db_url = 'https://s3.amazonaws.com/berkeley-ds100/fec_nyc.sqlite'\ndb_filename = 'fec_nyc.db'\ndata_dir = Path('data')\nfetch_and_cache(db_url, db_filename, data_dir = data_dir)\ndb_path = data_dir / db_filename",
    "id": "5af41c7b576a4d76a0853f9c6a6ffd83",
    "idx": 7,
    "time": "2021-01-24T23:06:53.698Z",
    "type": "execution"
   },
   {
    "code": "engine = sqlalchemy.create_engine(f\"sqlite:///{db_path}\")\nconnection = engine.connect()",
    "id": "a35f975758fc48159892b58862b99471",
    "idx": 9,
    "time": "2021-01-24T23:06:53.700Z",
    "type": "execution"
   },
   {
    "code": "engine.table_names()",
    "id": "562ee516b76241ba99aa78bb7af72910",
    "idx": 11,
    "time": "2021-01-24T23:06:53.703Z",
    "type": "execution"
   },
   {
    "code": "for exp in connection.execute('SELECT sql FROM sqlite_master;'):\n    print(exp[0])",
    "id": "f315df850303497595117cdf1c69c428",
    "idx": 13,
    "time": "2021-01-24T23:06:53.706Z",
    "type": "execution"
   },
   {
    "code": "query = \"\"\"\nSELECT *\nFROM indiv_sample_nyc\nLIMIT 5\n\"\"\"\npd.read_sql(query, engine)",
    "id": "d41201d429784ad08af27d151932570a",
    "idx": 15,
    "time": "2021-01-24T23:06:53.709Z",
    "type": "execution"
   },
   {
    "code": "query = \"\"\"\nSELECT *\nFROM cand\nLIMIT 5\n\"\"\"\npd.read_sql(query, engine)",
    "id": "eda81ec5f0a341db9a12559fa2023b03",
    "idx": 17,
    "time": "2021-01-24T23:06:53.712Z",
    "type": "execution"
   },
   {
    "code": "query = \"\"\"\nSELECT *\nFROM comm\nLIMIT 5\n\"\"\"\npd.read_sql(query, engine)",
    "id": "4af1aa79375d4080932ee9982f70bf31",
    "idx": 19,
    "time": "2021-01-24T23:06:53.716Z",
    "type": "execution"
   },
   {
    "code": "query = \"\"\"\nSELECT cand_id, cand_name\nFROM cand\nWHERE cand_pty_affiliation = 'DEM'\nLIMIT 5\n\"\"\"\npd.read_sql(query,engine)",
    "id": "51bd9cd6f362445892d2952765dcf15f",
    "idx": 21,
    "time": "2021-01-24T23:06:53.718Z",
    "type": "execution"
   },
   {
    "code": "for exp in connection.execute('SELECT sql FROM sqlite_master WHERE name=\"indiv_sample_nyc\";'):\n    print(exp[0])",
    "id": "0fea7b86cd334897936d5d167ff05fee",
    "idx": 23,
    "time": "2021-01-24T23:06:53.720Z",
    "type": "execution"
   },
   {
    "code": "query_q1a = \"\"\"\nSELECT\n    ... \n    ... \n    ...\nFROM indiv_sample_nyc\nWHERE ...\n\"\"\"\n\n# BEGIN SOLUTION NO PROMPT\nquery_q1a = \"\"\"\nSELECT \n    cmte_id,\n    transaction_amt,\n    name\nFROM indiv_sample_nyc\nWHERE name LIKE '%TRUMP%' AND name LIKE '%DONALD%'\n\"\"\"\n# END SOLUTION\n\nres_q1a = pd.read_sql(query_q1a, engine)\nres_q1a",
    "id": "6f9ff6de9ea647e79be4800286b0ee32",
    "idx": 25,
    "time": "2021-01-24T23:06:53.722Z",
    "type": "execution"
   },
   {
    "code": "# TEST\nres_q1a.shape == (157, 3)",
    "id": "a3056b8493d940978611e5ce45431230",
    "idx": 26,
    "time": "2021-01-24T23:06:53.724Z",
    "type": "execution"
   },
   {
    "code": "# TEST\nsorted(res_q1a['transaction_amt'].unique()) == [5, 224, 514, 1000, 1029, 1216, 1713, 2000, 2426, 2460, 2529, 2531, 2536, 2544, 2574, 2587, 2600, 2620, 2679, 2692, 2693, 2700, 2991, 3063, 3347, 3360, 3371, 3499, 3548, 3706, 3954, 4049, 4127, 4164, 4591, 4931, 4958, 5000, 5297, 5574, 6197, 6250, 6990, 7401, 7519, 7990, 8735, 8896, 9000, 9013, 9106, 9651, 9752, 10000, 10418, 11023, 15000, 23775, 2000000, 10000000]",
    "id": "5391c56e45834f87b1acb90b2e88baa7",
    "idx": 27,
    "time": "2021-01-24T23:06:53.726Z",
    "type": "execution"
   },
   {
    "code": "res_q1a['name'].value_counts()",
    "id": "7e193fa0dc39414cb5f0fb366da1e76d",
    "idx": 30,
    "time": "2021-01-24T23:06:53.728Z",
    "type": "execution"
   },
   {
    "code": "query_q1b = \"\"\"\nSELECT\n    ... \n    ... \n    ...\nFROM indiv_sample_nyc\nWHERE ...\n\"\"\"\n\n# BEGIN SOLUTION NO PROMPT\nquery_q1b = \"\"\"\nSELECT \n    cmte_id,\n    transaction_amt,\n    name\nFROM indiv_sample_nyc\nWHERE name LIKE '%TRUMP%' AND name LIKE '%DONALD%' AND name NOT LIKE '%INC%'\n\"\"\"\n# END SOLUTION\n\nres_q1b = pd.read_sql(query_q1b, engine)\nres_q1b",
    "id": "8d8edf1f12304d5c811a3b2d57207d18",
    "idx": 32,
    "time": "2021-01-24T23:06:53.730Z",
    "type": "execution"
   },
   {
    "code": "# TEST\nres_q1b.shape == (142, 3)",
    "id": "35a8788056b744cf84593b5479e04d38",
    "idx": 33,
    "time": "2021-01-24T23:06:53.732Z",
    "type": "execution"
   },
   {
    "code": "# TEST\nsorted(res_q1b['transaction_amt'].unique()) == [224, 514, 1000, 1029, 1216, 1713, 2000, 2426, 2460, 2529, 2531, 2536, 2544, 2574, 2587, 2600, 2620, 2679, 2692, 2693, 2700, 2991, 3063, 3347, 3360, 3371, 3499, 3548, 3706, 3954, 4049, 4127, 4164, 4591, 4931, 4958, 5000, 5297, 5574, 6197, 6250, 6990, 7401, 7519, 7990, 8735, 8896, 9000, 9013, 9106, 9651, 9752, 10000, 10418, 11023, 15000, 23775, 2000000, 10000000]",
    "id": "2664ee5b428e42329b383000d1df5f10",
    "idx": 34,
    "time": "2021-01-24T23:06:53.733Z",
    "type": "execution"
   },
   {
    "code": "query_q1c = \"\"\"\nSELECT\n    ... \n    ... \n    ...\nFROM indiv_sample_nyc\nWHERE ...\n...\n...\n\"\"\"\n\n# BEGIN SOLUTION NO PROMPT\nquery_q1c = \"\"\"\nSELECT \n    cmte_id,\n    SUM(transaction_amt) as total_amount,\n    COUNT(*) as num_donations\nFROM indiv_sample_nyc\nWHERE name LIKE '%TRUMP%' AND name LIKE '%DONALD%' AND name NOT LIKE '%INC%'\nGROUP BY cmte_id\nORDER BY total_amount DESC\n\"\"\"\n# END SOLUTION\n\nres_q1c = pd.read_sql(query_q1c, engine)\nres_q1c",
    "id": "f7e7daf041714d2cac453862a5a147a5",
    "idx": 37,
    "time": "2021-01-24T23:06:53.736Z",
    "type": "execution"
   },
   {
    "code": "# TEST\nres_q1c.shape == (10, 3)",
    "id": "5899c880a56545e1858f036004e78d4b",
    "idx": 38,
    "time": "2021-01-24T23:06:53.737Z",
    "type": "execution"
   },
   {
    "code": "# TEST\nsorted(res_q1c['total_amount']) == [1000, 2000, 2600, 5000, 5000, 5200, 5400, 9000, 10000, 18633157]",
    "id": "1644e3440d6f4e06bc7241bd69fe28d2",
    "idx": 39,
    "time": "2021-01-24T23:06:53.739Z",
    "type": "execution"
   },
   {
    "code": "# TEST\nsorted(res_q1c['num_donations']) == [1, 1, 1, 1, 1, 1, 1, 2, 2, 131]",
    "id": "83bc6cef0e8e4627816c6724c3feed9c",
    "idx": 40,
    "time": "2021-01-24T23:06:53.740Z",
    "type": "execution"
   },
   {
    "code": "query_q1d = \"\"\"\n...\n\"\"\"\n\n# BEGIN SOLUTION NO PROMPT\nquery_q1d = \"\"\"\nSELECT \n    cmte_id,\n    SUM(transaction_amt) as total_amount,\n    COUNT(*) as num_donations,\n    cmte_nm\nFROM \n        (SELECT *\n        FROM indiv_sample_nyc, comm\n        WHERE indiv_sample_nyc.cmte_id == comm.cmte_id)\nWHERE name LIKE '%TRUMP%' AND name LIKE '%DONALD%' AND name NOT LIKE '%INC%'\nGROUP BY cmte_id\nORDER BY total_amount DESC\n\"\"\"\n# END SOLUTION\n\nres_q1d = pd.read_sql(query_q1d, engine)\nres_q1d",
    "id": "bfbed73e6a834c25a702c8be4ec60ebd",
    "idx": 43,
    "time": "2021-01-24T23:06:53.742Z",
    "type": "execution"
   },
   {
    "code": "# TEST\nres_q1d.shape",
    "id": "4adbd8a0c88640e68aec979a3d6f647a",
    "idx": 44,
    "time": "2021-01-24T23:06:53.744Z",
    "type": "execution"
   },
   {
    "code": "# TEST\nprint(sorted(res_q1d['total_amount']))",
    "id": "dff782ccfe354a7c9483e99f59cdeafc",
    "idx": 45,
    "time": "2021-01-24T23:06:53.746Z",
    "type": "execution"
   },
   {
    "code": "# TEST\nprint(sorted(res_q1d['num_donations']))",
    "id": "89b5116394644bb38904d0ec80129eba",
    "idx": 46,
    "time": "2021-01-24T23:06:53.748Z",
    "type": "execution"
   },
   {
    "code": "# TEST\nprint(sorted(res_q1d['cmte_nm']))",
    "id": "5d355ed4c24641508250a92c759530e0",
    "idx": 47,
    "time": "2021-01-24T23:06:53.750Z",
    "type": "execution"
   },
   {
    "code": "query_q2a = \"\"\"\nSELECT ..., ...\nFROM cand c1 ... JOIN comm c2 ON ...\n...\n...\n\"\"\"\n\n# BEGIN SOLUTION NO PROMPT\nquery_q2a = \"\"\"\nSELECT c1.cand_name, c2.cmte_nm\nFROM cand c1 INNER JOIN comm c2 ON c1.cand_id = c2.cand_id\nORDER BY c1.cand_name DESC\nLIMIT 5\n\"\"\"\n# END SOLUTION\n\nres_q2a = pd.read_sql(query_q2a, engine)\nres_q2a",
    "id": "77ee45ea3a9a42299fcfd5aee494f079",
    "idx": 50,
    "time": "2021-01-24T23:06:53.763Z",
    "type": "execution"
   },
   {
    "code": "# TEST\nres_q2a.shape == (5, 2)",
    "id": "2cffd9024907429a8bf409b165fad327",
    "idx": 51,
    "time": "2021-01-24T23:06:53.764Z",
    "type": "execution"
   },
   {
    "code": "# TEST\nall(res_q2a == res_q2a.sort_values('cand_name', ascending=False))",
    "id": "3df8811d72584cec9bfa1a9cf3b6c76a",
    "idx": 52,
    "time": "2021-01-24T23:06:53.766Z",
    "type": "execution"
   },
   {
    "code": "# TEST\nsorted(res_q2a['cmte_nm'].unique()) == ['CITIZENS TO ELECT DANIEL P ZUTLER FOR PRESIDENT', 'CONSTITUTIONAL COMMITTEE', 'JOE ZUCCOLO FOR CONGRESS', 'ZUKOWSKI FOR CONGRESS', 'ZUMWALT FOR CONGRESS']",
    "id": "4554946117bb4dc899da956da43d4a74",
    "idx": 53,
    "time": "2021-01-24T23:06:53.768Z",
    "type": "execution"
   },
   {
    "code": "query_q2c = \"\"\"\nSELECT ..., ...\nFROM cand c1 ... JOIN comm c2 ON ...\n...\n...\n\"\"\"\n\n# BEGIN SOLUTION NO PROMPT\nquery_q2c = \"\"\"\nSELECT c1.cand_name, c2.cmte_nm\nFROM cand c1 LEFT OUTER JOIN comm c2 ON c1.cand_id = c2.cand_id\nORDER BY c1.cand_name DESC\nLIMIT 5\n\"\"\"\n# END SOLUTION\n\nres_q2b = pd.read_sql(query_q2b, engine)\nres_q2b",
    "id": "ca6961d921e44e9c80fddc4cb460deb4",
    "idx": 55,
    "time": "2021-01-24T23:06:53.776Z",
    "type": "execution"
   },
   {
    "code": "# TEST\nres_q2b.shape == (5, 2)",
    "id": "537d4416e77f42cc8c90172f0c08eeaa",
    "idx": 56,
    "time": "2021-01-24T23:06:53.777Z",
    "type": "execution"
   },
   {
    "code": "# TEST\nall(res_q2b == res_q2b.sort_values('cand_name', ascending=False))",
    "id": "90a668b7bb6043b59da1848f21a4a202",
    "idx": 57,
    "time": "2021-01-24T23:06:53.779Z",
    "type": "execution"
   },
   {
    "code": "# TEST\nsorted(map(str, res_q2b['cmte_nm'].unique())) == ['CITIZENS TO ELECT DANIEL P ZUTLER FOR PRESIDENT', 'JOE ZUCCOLO FOR CONGRESS', 'None', 'ZUKOWSKI FOR CONGRESS', 'ZUMWALT FOR CONGRESS']",
    "id": "5a97aa18658d4c53b1f9169fabe4a385",
    "idx": 58,
    "time": "2021-01-24T23:06:53.780Z",
    "type": "execution"
   },
   {
    "id": "f7605007401642fc851c73022c6a0329",
    "time": "2021-01-24T23:06:54.263Z",
    "type": "completion"
   },
   {
    "id": "5af41c7b576a4d76a0853f9c6a6ffd83",
    "time": "2021-01-24T23:06:54.292Z",
    "type": "completion"
   },
   {
    "id": "a35f975758fc48159892b58862b99471",
    "time": "2021-01-24T23:06:54.321Z",
    "type": "completion"
   },
   {
    "id": "562ee516b76241ba99aa78bb7af72910",
    "time": "2021-01-24T23:06:54.329Z",
    "type": "completion"
   },
   {
    "id": "f315df850303497595117cdf1c69c428",
    "time": "2021-01-24T23:06:54.335Z",
    "type": "completion"
   },
   {
    "id": "d41201d429784ad08af27d151932570a",
    "time": "2021-01-24T23:06:54.432Z",
    "type": "completion"
   },
   {
    "id": "eda81ec5f0a341db9a12559fa2023b03",
    "time": "2021-01-24T23:06:54.498Z",
    "type": "completion"
   },
   {
    "id": "4af1aa79375d4080932ee9982f70bf31",
    "time": "2021-01-24T23:06:54.529Z",
    "type": "completion"
   },
   {
    "id": "51bd9cd6f362445892d2952765dcf15f",
    "time": "2021-01-24T23:06:54.559Z",
    "type": "completion"
   },
   {
    "id": "0fea7b86cd334897936d5d167ff05fee",
    "time": "2021-01-24T23:06:54.586Z",
    "type": "completion"
   },
   {
    "id": "6f9ff6de9ea647e79be4800286b0ee32",
    "time": "2021-01-24T23:06:55.300Z",
    "type": "completion"
   },
   {
    "id": "a3056b8493d940978611e5ce45431230",
    "time": "2021-01-24T23:06:55.303Z",
    "type": "completion"
   },
   {
    "id": "5391c56e45834f87b1acb90b2e88baa7",
    "time": "2021-01-24T23:06:55.333Z",
    "type": "completion"
   },
   {
    "id": "7e193fa0dc39414cb5f0fb366da1e76d",
    "time": "2021-01-24T23:06:55.335Z",
    "type": "completion"
   },
   {
    "id": "8d8edf1f12304d5c811a3b2d57207d18",
    "time": "2021-01-24T23:06:55.626Z",
    "type": "completion"
   },
   {
    "id": "35a8788056b744cf84593b5479e04d38",
    "time": "2021-01-24T23:06:55.633Z",
    "type": "completion"
   },
   {
    "id": "2664ee5b428e42329b383000d1df5f10",
    "time": "2021-01-24T23:06:55.664Z",
    "type": "completion"
   },
   {
    "id": "f7e7daf041714d2cac453862a5a147a5",
    "time": "2021-01-24T23:06:55.861Z",
    "type": "completion"
   },
   {
    "id": "5899c880a56545e1858f036004e78d4b",
    "time": "2021-01-24T23:06:55.865Z",
    "type": "completion"
   },
   {
    "id": "1644e3440d6f4e06bc7241bd69fe28d2",
    "time": "2021-01-24T23:06:55.867Z",
    "type": "completion"
   },
   {
    "id": "83bc6cef0e8e4627816c6724c3feed9c",
    "time": "2021-01-24T23:06:55.921Z",
    "type": "completion"
   },
   {
    "id": "bfbed73e6a834c25a702c8be4ec60ebd",
    "time": "2021-01-24T23:06:56.308Z",
    "type": "completion"
   },
   {
    "id": "4adbd8a0c88640e68aec979a3d6f647a",
    "time": "2021-01-24T23:06:56.310Z",
    "type": "completion"
   },
   {
    "id": "dff782ccfe354a7c9483e99f59cdeafc",
    "time": "2021-01-24T23:06:56.344Z",
    "type": "completion"
   },
   {
    "id": "89b5116394644bb38904d0ec80129eba",
    "time": "2021-01-24T23:06:56.345Z",
    "type": "completion"
   },
   {
    "id": "5d355ed4c24641508250a92c759530e0",
    "time": "2021-01-24T23:06:56.346Z",
    "type": "completion"
   },
   {
    "id": "77ee45ea3a9a42299fcfd5aee494f079",
    "time": "2021-01-24T23:06:56.348Z",
    "type": "completion"
   },
   {
    "id": "2cffd9024907429a8bf409b165fad327",
    "time": "2021-01-24T23:06:56.350Z",
    "type": "completion"
   },
   {
    "id": "3df8811d72584cec9bfa1a9cf3b6c76a",
    "time": "2021-01-24T23:06:56.395Z",
    "type": "completion"
   },
   {
    "id": "4554946117bb4dc899da956da43d4a74",
    "time": "2021-01-24T23:06:56.397Z",
    "type": "completion"
   },
   {
    "id": "ca6961d921e44e9c80fddc4cb460deb4",
    "time": "2021-01-24T23:06:56.434Z",
    "type": "completion"
   },
   {
    "id": "537d4416e77f42cc8c90172f0c08eeaa",
    "time": "2021-01-24T23:06:56.454Z",
    "type": "completion"
   },
   {
    "id": "90a668b7bb6043b59da1848f21a4a202",
    "time": "2021-01-24T23:06:56.456Z",
    "type": "completion"
   },
   {
    "id": "5a97aa18658d4c53b1f9169fabe4a385",
    "time": "2021-01-24T23:06:56.481Z",
    "type": "completion"
   },
   {
    "code": "import pandas as pd\nimport sqlalchemy\nfrom ds100_utils import fetch_and_cache\nfrom pathlib import Path",
    "id": "f7605007401642fc851c73022c6a0329",
    "idx": 3,
    "time": "2021-01-24T23:07:07.874Z",
    "type": "execution"
   },
   {
    "code": "db_url = 'https://s3.amazonaws.com/berkeley-ds100/fec_nyc.sqlite'\ndb_filename = 'fec_nyc.db'\ndata_dir = Path('data')\nfetch_and_cache(db_url, db_filename, data_dir = data_dir)\ndb_path = data_dir / db_filename",
    "id": "5af41c7b576a4d76a0853f9c6a6ffd83",
    "idx": 7,
    "time": "2021-01-24T23:07:07.877Z",
    "type": "execution"
   },
   {
    "code": "engine = sqlalchemy.create_engine(f\"sqlite:///{db_path}\")\nconnection = engine.connect()",
    "id": "a35f975758fc48159892b58862b99471",
    "idx": 9,
    "time": "2021-01-24T23:07:07.879Z",
    "type": "execution"
   },
   {
    "code": "engine.table_names()",
    "id": "562ee516b76241ba99aa78bb7af72910",
    "idx": 11,
    "time": "2021-01-24T23:07:07.882Z",
    "type": "execution"
   },
   {
    "code": "for exp in connection.execute('SELECT sql FROM sqlite_master;'):\n    print(exp[0])",
    "id": "f315df850303497595117cdf1c69c428",
    "idx": 13,
    "time": "2021-01-24T23:07:07.884Z",
    "type": "execution"
   },
   {
    "code": "query = \"\"\"\nSELECT *\nFROM indiv_sample_nyc\nLIMIT 5\n\"\"\"\npd.read_sql(query, engine)",
    "id": "d41201d429784ad08af27d151932570a",
    "idx": 15,
    "time": "2021-01-24T23:07:07.887Z",
    "type": "execution"
   },
   {
    "code": "query = \"\"\"\nSELECT *\nFROM cand\nLIMIT 5\n\"\"\"\npd.read_sql(query, engine)",
    "id": "eda81ec5f0a341db9a12559fa2023b03",
    "idx": 17,
    "time": "2021-01-24T23:07:07.889Z",
    "type": "execution"
   },
   {
    "code": "query = \"\"\"\nSELECT *\nFROM comm\nLIMIT 5\n\"\"\"\npd.read_sql(query, engine)",
    "id": "4af1aa79375d4080932ee9982f70bf31",
    "idx": 19,
    "time": "2021-01-24T23:07:07.891Z",
    "type": "execution"
   },
   {
    "code": "query = \"\"\"\nSELECT cand_id, cand_name\nFROM cand\nWHERE cand_pty_affiliation = 'DEM'\nLIMIT 5\n\"\"\"\npd.read_sql(query,engine)",
    "id": "51bd9cd6f362445892d2952765dcf15f",
    "idx": 21,
    "time": "2021-01-24T23:07:07.893Z",
    "type": "execution"
   },
   {
    "code": "for exp in connection.execute('SELECT sql FROM sqlite_master WHERE name=\"indiv_sample_nyc\";'):\n    print(exp[0])",
    "id": "0fea7b86cd334897936d5d167ff05fee",
    "idx": 23,
    "time": "2021-01-24T23:07:07.895Z",
    "type": "execution"
   },
   {
    "code": "query_q1a = \"\"\"\nSELECT\n    ... \n    ... \n    ...\nFROM indiv_sample_nyc\nWHERE ...\n\"\"\"\n\n# BEGIN SOLUTION NO PROMPT\nquery_q1a = \"\"\"\nSELECT \n    cmte_id,\n    transaction_amt,\n    name\nFROM indiv_sample_nyc\nWHERE name LIKE '%TRUMP%' AND name LIKE '%DONALD%'\n\"\"\"\n# END SOLUTION\n\nres_q1a = pd.read_sql(query_q1a, engine)\nres_q1a",
    "id": "6f9ff6de9ea647e79be4800286b0ee32",
    "idx": 25,
    "time": "2021-01-24T23:07:07.897Z",
    "type": "execution"
   },
   {
    "code": "# TEST\nres_q1a.shape == (157, 3)",
    "id": "a3056b8493d940978611e5ce45431230",
    "idx": 26,
    "time": "2021-01-24T23:07:07.898Z",
    "type": "execution"
   },
   {
    "code": "# TEST\nsorted(res_q1a['transaction_amt'].unique()) == [5, 224, 514, 1000, 1029, 1216, 1713, 2000, 2426, 2460, 2529, 2531, 2536, 2544, 2574, 2587, 2600, 2620, 2679, 2692, 2693, 2700, 2991, 3063, 3347, 3360, 3371, 3499, 3548, 3706, 3954, 4049, 4127, 4164, 4591, 4931, 4958, 5000, 5297, 5574, 6197, 6250, 6990, 7401, 7519, 7990, 8735, 8896, 9000, 9013, 9106, 9651, 9752, 10000, 10418, 11023, 15000, 23775, 2000000, 10000000]",
    "id": "5391c56e45834f87b1acb90b2e88baa7",
    "idx": 27,
    "time": "2021-01-24T23:07:07.900Z",
    "type": "execution"
   },
   {
    "code": "res_q1a['name'].value_counts()",
    "id": "7e193fa0dc39414cb5f0fb366da1e76d",
    "idx": 30,
    "time": "2021-01-24T23:07:07.902Z",
    "type": "execution"
   },
   {
    "code": "query_q1b = \"\"\"\nSELECT\n    ... \n    ... \n    ...\nFROM indiv_sample_nyc\nWHERE ...\n\"\"\"\n\n# BEGIN SOLUTION NO PROMPT\nquery_q1b = \"\"\"\nSELECT \n    cmte_id,\n    transaction_amt,\n    name\nFROM indiv_sample_nyc\nWHERE name LIKE '%TRUMP%' AND name LIKE '%DONALD%' AND name NOT LIKE '%INC%'\n\"\"\"\n# END SOLUTION\n\nres_q1b = pd.read_sql(query_q1b, engine)\nres_q1b",
    "id": "8d8edf1f12304d5c811a3b2d57207d18",
    "idx": 32,
    "time": "2021-01-24T23:07:07.904Z",
    "type": "execution"
   },
   {
    "code": "# TEST\nres_q1b.shape == (142, 3)",
    "id": "35a8788056b744cf84593b5479e04d38",
    "idx": 33,
    "time": "2021-01-24T23:07:07.905Z",
    "type": "execution"
   },
   {
    "code": "# TEST\nsorted(res_q1b['transaction_amt'].unique()) == [224, 514, 1000, 1029, 1216, 1713, 2000, 2426, 2460, 2529, 2531, 2536, 2544, 2574, 2587, 2600, 2620, 2679, 2692, 2693, 2700, 2991, 3063, 3347, 3360, 3371, 3499, 3548, 3706, 3954, 4049, 4127, 4164, 4591, 4931, 4958, 5000, 5297, 5574, 6197, 6250, 6990, 7401, 7519, 7990, 8735, 8896, 9000, 9013, 9106, 9651, 9752, 10000, 10418, 11023, 15000, 23775, 2000000, 10000000]",
    "id": "2664ee5b428e42329b383000d1df5f10",
    "idx": 34,
    "time": "2021-01-24T23:07:07.907Z",
    "type": "execution"
   },
   {
    "code": "query_q1c = \"\"\"\nSELECT\n    ... \n    ... \n    ...\nFROM indiv_sample_nyc\nWHERE ...\n...\n...\n\"\"\"\n\n# BEGIN SOLUTION NO PROMPT\nquery_q1c = \"\"\"\nSELECT \n    cmte_id,\n    SUM(transaction_amt) as total_amount,\n    COUNT(*) as num_donations\nFROM indiv_sample_nyc\nWHERE name LIKE '%TRUMP%' AND name LIKE '%DONALD%' AND name NOT LIKE '%INC%'\nGROUP BY cmte_id\nORDER BY total_amount DESC\n\"\"\"\n# END SOLUTION\n\nres_q1c = pd.read_sql(query_q1c, engine)\nres_q1c",
    "id": "f7e7daf041714d2cac453862a5a147a5",
    "idx": 37,
    "time": "2021-01-24T23:07:07.909Z",
    "type": "execution"
   },
   {
    "code": "# TEST\nres_q1c.shape == (10, 3)",
    "id": "5899c880a56545e1858f036004e78d4b",
    "idx": 38,
    "time": "2021-01-24T23:07:07.910Z",
    "type": "execution"
   },
   {
    "code": "# TEST\nsorted(res_q1c['total_amount']) == [1000, 2000, 2600, 5000, 5000, 5200, 5400, 9000, 10000, 18633157]",
    "id": "1644e3440d6f4e06bc7241bd69fe28d2",
    "idx": 39,
    "time": "2021-01-24T23:07:07.912Z",
    "type": "execution"
   },
   {
    "code": "# TEST\nsorted(res_q1c['num_donations']) == [1, 1, 1, 1, 1, 1, 1, 2, 2, 131]",
    "id": "83bc6cef0e8e4627816c6724c3feed9c",
    "idx": 40,
    "time": "2021-01-24T23:07:07.914Z",
    "type": "execution"
   },
   {
    "code": "query_q1d = \"\"\"\n...\n\"\"\"\n\n# BEGIN SOLUTION NO PROMPT\nquery_q1d = \"\"\"\nSELECT \n    cmte_id,\n    SUM(transaction_amt) as total_amount,\n    COUNT(*) as num_donations,\n    cmte_nm\nFROM \n        (SELECT *\n        FROM indiv_sample_nyc, comm\n        WHERE indiv_sample_nyc.cmte_id == comm.cmte_id)\nWHERE name LIKE '%TRUMP%' AND name LIKE '%DONALD%' AND name NOT LIKE '%INC%'\nGROUP BY cmte_id\nORDER BY total_amount DESC\n\"\"\"\n# END SOLUTION\n\nres_q1d = pd.read_sql(query_q1d, engine)\nres_q1d",
    "id": "bfbed73e6a834c25a702c8be4ec60ebd",
    "idx": 43,
    "time": "2021-01-24T23:07:07.916Z",
    "type": "execution"
   },
   {
    "code": "# TEST\nres_q1d.shape",
    "id": "4adbd8a0c88640e68aec979a3d6f647a",
    "idx": 44,
    "time": "2021-01-24T23:07:07.917Z",
    "type": "execution"
   },
   {
    "code": "# TEST\nprint(sorted(res_q1d['total_amount']))",
    "id": "dff782ccfe354a7c9483e99f59cdeafc",
    "idx": 45,
    "time": "2021-01-24T23:07:07.919Z",
    "type": "execution"
   },
   {
    "code": "# TEST\nprint(sorted(res_q1d['num_donations']))",
    "id": "89b5116394644bb38904d0ec80129eba",
    "idx": 46,
    "time": "2021-01-24T23:07:07.920Z",
    "type": "execution"
   },
   {
    "code": "# TEST\nprint(sorted(res_q1d['cmte_nm']))",
    "id": "5d355ed4c24641508250a92c759530e0",
    "idx": 47,
    "time": "2021-01-24T23:07:07.922Z",
    "type": "execution"
   },
   {
    "code": "query_q2a = \"\"\"\nSELECT ..., ...\nFROM cand c1 ... JOIN comm c2 ON ...\n...\n...\n\"\"\"\n\n# BEGIN SOLUTION NO PROMPT\nquery_q2a = \"\"\"\nSELECT c1.cand_name, c2.cmte_nm\nFROM cand c1 INNER JOIN comm c2 ON c1.cand_id = c2.cand_id\nORDER BY c1.cand_name DESC\nLIMIT 5\n\"\"\"\n# END SOLUTION\n\nres_q2a = pd.read_sql(query_q2a, engine)\nres_q2a",
    "id": "77ee45ea3a9a42299fcfd5aee494f079",
    "idx": 50,
    "time": "2021-01-24T23:07:07.924Z",
    "type": "execution"
   },
   {
    "code": "# TEST\nres_q2a.shape == (5, 2)",
    "id": "2cffd9024907429a8bf409b165fad327",
    "idx": 51,
    "time": "2021-01-24T23:07:07.925Z",
    "type": "execution"
   },
   {
    "code": "# TEST\nall(res_q2a == res_q2a.sort_values('cand_name', ascending=False))",
    "id": "3df8811d72584cec9bfa1a9cf3b6c76a",
    "idx": 52,
    "time": "2021-01-24T23:07:07.926Z",
    "type": "execution"
   },
   {
    "code": "# TEST\nsorted(res_q2a['cmte_nm'].unique()) == ['CITIZENS TO ELECT DANIEL P ZUTLER FOR PRESIDENT', 'CONSTITUTIONAL COMMITTEE', 'JOE ZUCCOLO FOR CONGRESS', 'ZUKOWSKI FOR CONGRESS', 'ZUMWALT FOR CONGRESS']",
    "id": "4554946117bb4dc899da956da43d4a74",
    "idx": 53,
    "time": "2021-01-24T23:07:07.928Z",
    "type": "execution"
   },
   {
    "code": "query_q2b = \"\"\"\nSELECT ..., ...\nFROM cand c1 ... JOIN comm c2 ON ...\n...\n...\n\"\"\"\n\n# BEGIN SOLUTION NO PROMPT\nquery_q2b = \"\"\"\nSELECT c1.cand_name, c2.cmte_nm\nFROM cand c1 LEFT OUTER JOIN comm c2 ON c1.cand_id = c2.cand_id\nORDER BY c1.cand_name DESC\nLIMIT 5\n\"\"\"\n# END SOLUTION\n\nres_q2b = pd.read_sql(query_q2b, engine)\nres_q2b",
    "id": "ca6961d921e44e9c80fddc4cb460deb4",
    "idx": 55,
    "time": "2021-01-24T23:07:07.932Z",
    "type": "execution"
   },
   {
    "code": "# TEST\nres_q2b.shape == (5, 2)",
    "id": "537d4416e77f42cc8c90172f0c08eeaa",
    "idx": 56,
    "time": "2021-01-24T23:07:07.934Z",
    "type": "execution"
   },
   {
    "code": "# TEST\nall(res_q2b == res_q2b.sort_values('cand_name', ascending=False))",
    "id": "90a668b7bb6043b59da1848f21a4a202",
    "idx": 57,
    "time": "2021-01-24T23:07:07.936Z",
    "type": "execution"
   },
   {
    "code": "# TEST\nsorted(map(str, res_q2b['cmte_nm'].unique())) == ['CITIZENS TO ELECT DANIEL P ZUTLER FOR PRESIDENT', 'JOE ZUCCOLO FOR CONGRESS', 'None', 'ZUKOWSKI FOR CONGRESS', 'ZUMWALT FOR CONGRESS']",
    "id": "5a97aa18658d4c53b1f9169fabe4a385",
    "idx": 58,
    "time": "2021-01-24T23:07:07.938Z",
    "type": "execution"
   },
   {
    "id": "f7605007401642fc851c73022c6a0329",
    "time": "2021-01-24T23:07:08.464Z",
    "type": "completion"
   },
   {
    "id": "5af41c7b576a4d76a0853f9c6a6ffd83",
    "time": "2021-01-24T23:07:08.467Z",
    "type": "completion"
   },
   {
    "id": "a35f975758fc48159892b58862b99471",
    "time": "2021-01-24T23:07:08.507Z",
    "type": "completion"
   },
   {
    "id": "562ee516b76241ba99aa78bb7af72910",
    "time": "2021-01-24T23:07:08.512Z",
    "type": "completion"
   },
   {
    "id": "f315df850303497595117cdf1c69c428",
    "time": "2021-01-24T23:07:08.515Z",
    "type": "completion"
   },
   {
    "id": "d41201d429784ad08af27d151932570a",
    "time": "2021-01-24T23:07:08.556Z",
    "type": "completion"
   },
   {
    "id": "eda81ec5f0a341db9a12559fa2023b03",
    "time": "2021-01-24T23:07:08.585Z",
    "type": "completion"
   },
   {
    "id": "4af1aa79375d4080932ee9982f70bf31",
    "time": "2021-01-24T23:07:08.617Z",
    "type": "completion"
   },
   {
    "id": "51bd9cd6f362445892d2952765dcf15f",
    "time": "2021-01-24T23:07:08.646Z",
    "type": "completion"
   },
   {
    "id": "0fea7b86cd334897936d5d167ff05fee",
    "time": "2021-01-24T23:07:08.676Z",
    "type": "completion"
   },
   {
    "id": "6f9ff6de9ea647e79be4800286b0ee32",
    "time": "2021-01-24T23:07:09.109Z",
    "type": "completion"
   },
   {
    "id": "a3056b8493d940978611e5ce45431230",
    "time": "2021-01-24T23:07:09.113Z",
    "type": "completion"
   },
   {
    "id": "5391c56e45834f87b1acb90b2e88baa7",
    "time": "2021-01-24T23:07:09.117Z",
    "type": "completion"
   },
   {
    "id": "7e193fa0dc39414cb5f0fb366da1e76d",
    "time": "2021-01-24T23:07:09.150Z",
    "type": "completion"
   },
   {
    "id": "8d8edf1f12304d5c811a3b2d57207d18",
    "time": "2021-01-24T23:07:09.155Z",
    "type": "completion"
   },
   {
    "id": "35a8788056b744cf84593b5479e04d38",
    "time": "2021-01-24T23:07:09.157Z",
    "type": "completion"
   },
   {
    "id": "2664ee5b428e42329b383000d1df5f10",
    "time": "2021-01-24T23:07:09.192Z",
    "type": "completion"
   },
   {
    "id": "f7e7daf041714d2cac453862a5a147a5",
    "time": "2021-01-24T23:07:09.415Z",
    "type": "completion"
   },
   {
    "id": "5899c880a56545e1858f036004e78d4b",
    "time": "2021-01-24T23:07:09.416Z",
    "type": "completion"
   },
   {
    "id": "1644e3440d6f4e06bc7241bd69fe28d2",
    "time": "2021-01-24T23:07:09.441Z",
    "type": "completion"
   },
   {
    "id": "83bc6cef0e8e4627816c6724c3feed9c",
    "time": "2021-01-24T23:07:09.449Z",
    "type": "completion"
   },
   {
    "id": "bfbed73e6a834c25a702c8be4ec60ebd",
    "time": "2021-01-24T23:07:09.721Z",
    "type": "completion"
   },
   {
    "id": "4adbd8a0c88640e68aec979a3d6f647a",
    "time": "2021-01-24T23:07:09.724Z",
    "type": "completion"
   },
   {
    "id": "dff782ccfe354a7c9483e99f59cdeafc",
    "time": "2021-01-24T23:07:09.747Z",
    "type": "completion"
   },
   {
    "id": "89b5116394644bb38904d0ec80129eba",
    "time": "2021-01-24T23:07:09.754Z",
    "type": "completion"
   },
   {
    "id": "5d355ed4c24641508250a92c759530e0",
    "time": "2021-01-24T23:07:09.755Z",
    "type": "completion"
   },
   {
    "id": "77ee45ea3a9a42299fcfd5aee494f079",
    "time": "2021-01-24T23:07:09.758Z",
    "type": "completion"
   },
   {
    "id": "2cffd9024907429a8bf409b165fad327",
    "time": "2021-01-24T23:07:09.760Z",
    "type": "completion"
   },
   {
    "id": "3df8811d72584cec9bfa1a9cf3b6c76a",
    "time": "2021-01-24T23:07:09.762Z",
    "type": "completion"
   },
   {
    "id": "4554946117bb4dc899da956da43d4a74",
    "time": "2021-01-24T23:07:09.791Z",
    "type": "completion"
   },
   {
    "id": "ca6961d921e44e9c80fddc4cb460deb4",
    "time": "2021-01-24T23:07:09.795Z",
    "type": "completion"
   },
   {
    "id": "537d4416e77f42cc8c90172f0c08eeaa",
    "time": "2021-01-24T23:07:09.798Z",
    "type": "completion"
   },
   {
    "id": "90a668b7bb6043b59da1848f21a4a202",
    "time": "2021-01-24T23:07:09.822Z",
    "type": "completion"
   },
   {
    "id": "5a97aa18658d4c53b1f9169fabe4a385",
    "time": "2021-01-24T23:07:09.856Z",
    "type": "completion"
   },
   {
    "code": "import pandas as pd\nimport sqlalchemy\nfrom ds100_utils import fetch_and_cache\nfrom pathlib import Path",
    "id": "f7605007401642fc851c73022c6a0329",
    "idx": 3,
    "time": "2021-01-24T23:12:15.069Z",
    "type": "execution"
   },
   {
    "code": "db_url = 'https://s3.amazonaws.com/berkeley-ds100/fec_nyc.sqlite'\ndb_filename = 'fec_nyc.db'\ndata_dir = Path('data')\nfetch_and_cache(db_url, db_filename, data_dir = data_dir)\ndb_path = data_dir / db_filename",
    "id": "5af41c7b576a4d76a0853f9c6a6ffd83",
    "idx": 7,
    "time": "2021-01-24T23:12:15.074Z",
    "type": "execution"
   },
   {
    "code": "engine = sqlalchemy.create_engine(f\"sqlite:///{db_path}\")\nconnection = engine.connect()",
    "id": "a35f975758fc48159892b58862b99471",
    "idx": 9,
    "time": "2021-01-24T23:12:15.076Z",
    "type": "execution"
   },
   {
    "code": "engine.table_names()",
    "id": "562ee516b76241ba99aa78bb7af72910",
    "idx": 11,
    "time": "2021-01-24T23:12:15.078Z",
    "type": "execution"
   },
   {
    "code": "for exp in connection.execute('SELECT sql FROM sqlite_master;'):\n    print(exp[0])",
    "id": "f315df850303497595117cdf1c69c428",
    "idx": 13,
    "time": "2021-01-24T23:12:15.079Z",
    "type": "execution"
   },
   {
    "code": "query = \"\"\"\nSELECT *\nFROM indiv_sample_nyc\nLIMIT 5\n\"\"\"\npd.read_sql(query, engine)",
    "id": "d41201d429784ad08af27d151932570a",
    "idx": 15,
    "time": "2021-01-24T23:12:15.082Z",
    "type": "execution"
   },
   {
    "code": "query = \"\"\"\nSELECT *\nFROM cand\nLIMIT 5\n\"\"\"\npd.read_sql(query, engine)",
    "id": "eda81ec5f0a341db9a12559fa2023b03",
    "idx": 17,
    "time": "2021-01-24T23:12:15.084Z",
    "type": "execution"
   },
   {
    "code": "query = \"\"\"\nSELECT *\nFROM comm\nLIMIT 5\n\"\"\"\npd.read_sql(query, engine)",
    "id": "4af1aa79375d4080932ee9982f70bf31",
    "idx": 19,
    "time": "2021-01-24T23:12:15.086Z",
    "type": "execution"
   },
   {
    "code": "query = \"\"\"\nSELECT cand_id, cand_name\nFROM cand\nWHERE cand_pty_affiliation = 'DEM'\nLIMIT 5\n\"\"\"\npd.read_sql(query,engine)",
    "id": "51bd9cd6f362445892d2952765dcf15f",
    "idx": 21,
    "time": "2021-01-24T23:12:15.088Z",
    "type": "execution"
   },
   {
    "code": "for exp in connection.execute('SELECT sql FROM sqlite_master WHERE name=\"indiv_sample_nyc\";'):\n    print(exp[0])",
    "id": "0fea7b86cd334897936d5d167ff05fee",
    "idx": 23,
    "time": "2021-01-24T23:12:15.089Z",
    "type": "execution"
   },
   {
    "code": "query_q1a = \"\"\"\nSELECT\n    ... \n    ... \n    ...\nFROM indiv_sample_nyc\nWHERE ...\n\"\"\"\n\n# BEGIN SOLUTION NO PROMPT\nquery_q1a = \"\"\"\nSELECT \n    cmte_id,\n    transaction_amt,\n    name\nFROM indiv_sample_nyc\nWHERE name LIKE '%TRUMP%' AND name LIKE '%DONALD%'\n\"\"\"\n# END SOLUTION\n\nres_q1a = pd.read_sql(query_q1a, engine)\nres_q1a",
    "id": "6f9ff6de9ea647e79be4800286b0ee32",
    "idx": 25,
    "time": "2021-01-24T23:12:15.092Z",
    "type": "execution"
   },
   {
    "code": "# TEST\nres_q1a.shape == (157, 3)",
    "id": "a3056b8493d940978611e5ce45431230",
    "idx": 26,
    "time": "2021-01-24T23:12:15.094Z",
    "type": "execution"
   },
   {
    "code": "# TEST\nsorted(res_q1a['transaction_amt'].unique()) == [5, 224, 514, 1000, 1029, 1216, 1713, 2000, 2426, 2460, 2529, 2531, 2536, 2544, 2574, 2587, 2600, 2620, 2679, 2692, 2693, 2700, 2991, 3063, 3347, 3360, 3371, 3499, 3548, 3706, 3954, 4049, 4127, 4164, 4591, 4931, 4958, 5000, 5297, 5574, 6197, 6250, 6990, 7401, 7519, 7990, 8735, 8896, 9000, 9013, 9106, 9651, 9752, 10000, 10418, 11023, 15000, 23775, 2000000, 10000000]",
    "id": "5391c56e45834f87b1acb90b2e88baa7",
    "idx": 27,
    "time": "2021-01-24T23:12:15.095Z",
    "type": "execution"
   },
   {
    "code": "res_q1a['name'].value_counts()",
    "id": "7e193fa0dc39414cb5f0fb366da1e76d",
    "idx": 30,
    "time": "2021-01-24T23:12:15.097Z",
    "type": "execution"
   },
   {
    "code": "query_q1b = \"\"\"\nSELECT\n    ... \n    ... \n    ...\nFROM indiv_sample_nyc\nWHERE ...\n\"\"\"\n\n# BEGIN SOLUTION NO PROMPT\nquery_q1b = \"\"\"\nSELECT \n    cmte_id,\n    transaction_amt,\n    name\nFROM indiv_sample_nyc\nWHERE name LIKE '%TRUMP%' AND name LIKE '%DONALD%' AND name NOT LIKE '%INC%'\n\"\"\"\n# END SOLUTION\n\nres_q1b = pd.read_sql(query_q1b, engine)\nres_q1b",
    "id": "8d8edf1f12304d5c811a3b2d57207d18",
    "idx": 32,
    "time": "2021-01-24T23:12:15.099Z",
    "type": "execution"
   },
   {
    "code": "# TEST\nres_q1b.shape == (142, 3)",
    "id": "35a8788056b744cf84593b5479e04d38",
    "idx": 33,
    "time": "2021-01-24T23:12:15.100Z",
    "type": "execution"
   },
   {
    "code": "# TEST\nsorted(res_q1b['transaction_amt'].unique()) == [224, 514, 1000, 1029, 1216, 1713, 2000, 2426, 2460, 2529, 2531, 2536, 2544, 2574, 2587, 2600, 2620, 2679, 2692, 2693, 2700, 2991, 3063, 3347, 3360, 3371, 3499, 3548, 3706, 3954, 4049, 4127, 4164, 4591, 4931, 4958, 5000, 5297, 5574, 6197, 6250, 6990, 7401, 7519, 7990, 8735, 8896, 9000, 9013, 9106, 9651, 9752, 10000, 10418, 11023, 15000, 23775, 2000000, 10000000]",
    "id": "2664ee5b428e42329b383000d1df5f10",
    "idx": 34,
    "time": "2021-01-24T23:12:15.102Z",
    "type": "execution"
   },
   {
    "code": "query_q1c = \"\"\"\nSELECT\n    ... \n    ... \n    ...\nFROM indiv_sample_nyc\nWHERE ...\n...\n...\n\"\"\"\n\n# BEGIN SOLUTION NO PROMPT\nquery_q1c = \"\"\"\nSELECT \n    cmte_id,\n    SUM(transaction_amt) as total_amount,\n    COUNT(*) as num_donations\nFROM indiv_sample_nyc\nWHERE name LIKE '%TRUMP%' AND name LIKE '%DONALD%' AND name NOT LIKE '%INC%'\nGROUP BY cmte_id\nORDER BY total_amount DESC\n\"\"\"\n# END SOLUTION\n\nres_q1c = pd.read_sql(query_q1c, engine)\nres_q1c",
    "id": "f7e7daf041714d2cac453862a5a147a5",
    "idx": 37,
    "time": "2021-01-24T23:12:15.104Z",
    "type": "execution"
   },
   {
    "code": "# TEST\nres_q1c.shape == (10, 3)",
    "id": "5899c880a56545e1858f036004e78d4b",
    "idx": 38,
    "time": "2021-01-24T23:12:15.105Z",
    "type": "execution"
   },
   {
    "code": "# TEST\nsorted(res_q1c['total_amount']) == [1000, 2000, 2600, 5000, 5000, 5200, 5400, 9000, 10000, 18633157]",
    "id": "1644e3440d6f4e06bc7241bd69fe28d2",
    "idx": 39,
    "time": "2021-01-24T23:12:15.106Z",
    "type": "execution"
   },
   {
    "code": "# TEST\nsorted(res_q1c['num_donations']) == [1, 1, 1, 1, 1, 1, 1, 2, 2, 131]",
    "id": "83bc6cef0e8e4627816c6724c3feed9c",
    "idx": 40,
    "time": "2021-01-24T23:12:15.107Z",
    "type": "execution"
   },
   {
    "code": "query_q1d = \"\"\"\n...\n\"\"\"\n\n# BEGIN SOLUTION NO PROMPT\nquery_q1d = \"\"\"\nSELECT \n    cmte_id,\n    SUM(transaction_amt) as total_amount,\n    COUNT(*) as num_donations,\n    cmte_nm\nFROM \n        (SELECT *\n        FROM indiv_sample_nyc, comm\n        WHERE indiv_sample_nyc.cmte_id == comm.cmte_id)\nWHERE name LIKE '%TRUMP%' AND name LIKE '%DONALD%' AND name NOT LIKE '%INC%'\nGROUP BY cmte_id\nORDER BY total_amount DESC\n\"\"\"\n# END SOLUTION\n\nres_q1d = pd.read_sql(query_q1d, engine)\nres_q1d",
    "id": "bfbed73e6a834c25a702c8be4ec60ebd",
    "idx": 43,
    "time": "2021-01-24T23:12:15.109Z",
    "type": "execution"
   },
   {
    "code": "# TEST\nres_q1d.shape",
    "id": "4adbd8a0c88640e68aec979a3d6f647a",
    "idx": 44,
    "time": "2021-01-24T23:12:15.111Z",
    "type": "execution"
   },
   {
    "code": "# TEST\nprint(sorted(res_q1d['total_amount']))",
    "id": "dff782ccfe354a7c9483e99f59cdeafc",
    "idx": 45,
    "time": "2021-01-24T23:12:15.112Z",
    "type": "execution"
   },
   {
    "code": "# TEST\nprint(sorted(res_q1d['num_donations']))",
    "id": "89b5116394644bb38904d0ec80129eba",
    "idx": 46,
    "time": "2021-01-24T23:12:15.113Z",
    "type": "execution"
   },
   {
    "code": "# TEST\nprint(sorted(res_q1d['cmte_nm']))",
    "id": "5d355ed4c24641508250a92c759530e0",
    "idx": 47,
    "time": "2021-01-24T23:12:15.115Z",
    "type": "execution"
   },
   {
    "code": "query_q2a = \"\"\"\nSELECT ..., ...\nFROM cand c1 ... JOIN comm c2 ON ...\n...\n...\n\"\"\"\n\n# BEGIN SOLUTION NO PROMPT\nquery_q2a = \"\"\"\nSELECT c1.cand_name, c2.cmte_nm\nFROM cand c1 INNER JOIN comm c2 ON c1.cand_id = c2.cand_id\nORDER BY c1.cand_name DESC\nLIMIT 5\n\"\"\"\n# END SOLUTION\n\nres_q2a = pd.read_sql(query_q2a, engine)\nres_q2a",
    "id": "77ee45ea3a9a42299fcfd5aee494f079",
    "idx": 50,
    "time": "2021-01-24T23:12:15.117Z",
    "type": "execution"
   },
   {
    "code": "# TEST\nres_q2a.shape == (5, 2)",
    "id": "2cffd9024907429a8bf409b165fad327",
    "idx": 51,
    "time": "2021-01-24T23:12:15.118Z",
    "type": "execution"
   },
   {
    "code": "# TEST\nall(res_q2a == res_q2a.sort_values('cand_name', ascending=False))",
    "id": "3df8811d72584cec9bfa1a9cf3b6c76a",
    "idx": 52,
    "time": "2021-01-24T23:12:15.119Z",
    "type": "execution"
   },
   {
    "code": "# TEST\nsorted(res_q2a['cmte_nm'].unique()) == ['CITIZENS TO ELECT DANIEL P ZUTLER FOR PRESIDENT', 'CONSTITUTIONAL COMMITTEE', 'JOE ZUCCOLO FOR CONGRESS', 'ZUKOWSKI FOR CONGRESS', 'ZUMWALT FOR CONGRESS']",
    "id": "4554946117bb4dc899da956da43d4a74",
    "idx": 53,
    "time": "2021-01-24T23:12:15.121Z",
    "type": "execution"
   },
   {
    "code": "query_q2b = \"\"\"\nSELECT ..., ...\nFROM cand c1 ... JOIN comm c2 ON ...\n...\n...\n\"\"\"\n\n# BEGIN SOLUTION NO PROMPT\nquery_q2b = \"\"\"\nSELECT c1.cand_name, c2.cmte_nm\nFROM cand c1 LEFT OUTER JOIN comm c2 ON c1.cand_id = c2.cand_id\nORDER BY c1.cand_name DESC\nLIMIT 5\n\"\"\"\n# END SOLUTION\n\nres_q2b = pd.read_sql(query_q2b, engine)\nres_q2b",
    "id": "ca6961d921e44e9c80fddc4cb460deb4",
    "idx": 55,
    "time": "2021-01-24T23:12:15.123Z",
    "type": "execution"
   },
   {
    "code": "# TEST\nres_q2b.shape == (5, 2)",
    "id": "537d4416e77f42cc8c90172f0c08eeaa",
    "idx": 56,
    "time": "2021-01-24T23:12:15.124Z",
    "type": "execution"
   },
   {
    "code": "# TEST\nall(res_q2b == res_q2b.sort_values('cand_name', ascending=False))",
    "id": "90a668b7bb6043b59da1848f21a4a202",
    "idx": 57,
    "time": "2021-01-24T23:12:15.126Z",
    "type": "execution"
   },
   {
    "code": "# TEST\nsorted(map(str, res_q2b['cmte_nm'].unique())) == ['CITIZENS TO ELECT DANIEL P ZUTLER FOR PRESIDENT', 'JOE ZUCCOLO FOR CONGRESS', 'None', 'ZUKOWSKI FOR CONGRESS', 'ZUMWALT FOR CONGRESS']",
    "id": "5a97aa18658d4c53b1f9169fabe4a385",
    "idx": 58,
    "time": "2021-01-24T23:12:15.128Z",
    "type": "execution"
   },
   {
    "id": "f7605007401642fc851c73022c6a0329",
    "time": "2021-01-24T23:12:15.615Z",
    "type": "completion"
   },
   {
    "id": "5af41c7b576a4d76a0853f9c6a6ffd83",
    "time": "2021-01-24T23:12:15.617Z",
    "type": "completion"
   },
   {
    "id": "a35f975758fc48159892b58862b99471",
    "time": "2021-01-24T23:12:15.655Z",
    "type": "completion"
   },
   {
    "id": "562ee516b76241ba99aa78bb7af72910",
    "time": "2021-01-24T23:12:15.664Z",
    "type": "completion"
   },
   {
    "id": "f315df850303497595117cdf1c69c428",
    "time": "2021-01-24T23:12:15.666Z",
    "type": "completion"
   },
   {
    "id": "d41201d429784ad08af27d151932570a",
    "time": "2021-01-24T23:12:15.747Z",
    "type": "completion"
   },
   {
    "id": "eda81ec5f0a341db9a12559fa2023b03",
    "time": "2021-01-24T23:12:15.790Z",
    "type": "completion"
   },
   {
    "id": "4af1aa79375d4080932ee9982f70bf31",
    "time": "2021-01-24T23:12:15.792Z",
    "type": "completion"
   },
   {
    "id": "51bd9cd6f362445892d2952765dcf15f",
    "time": "2021-01-24T23:12:15.836Z",
    "type": "completion"
   },
   {
    "id": "0fea7b86cd334897936d5d167ff05fee",
    "time": "2021-01-24T23:12:15.838Z",
    "type": "completion"
   },
   {
    "id": "6f9ff6de9ea647e79be4800286b0ee32",
    "time": "2021-01-24T23:12:16.039Z",
    "type": "completion"
   },
   {
    "id": "a3056b8493d940978611e5ce45431230",
    "time": "2021-01-24T23:12:16.042Z",
    "type": "completion"
   },
   {
    "id": "5391c56e45834f87b1acb90b2e88baa7",
    "time": "2021-01-24T23:12:16.090Z",
    "type": "completion"
   },
   {
    "id": "7e193fa0dc39414cb5f0fb366da1e76d",
    "time": "2021-01-24T23:12:16.094Z",
    "type": "completion"
   },
   {
    "id": "8d8edf1f12304d5c811a3b2d57207d18",
    "time": "2021-01-24T23:12:16.253Z",
    "type": "completion"
   },
   {
    "id": "35a8788056b744cf84593b5479e04d38",
    "time": "2021-01-24T23:12:16.261Z",
    "type": "completion"
   },
   {
    "id": "2664ee5b428e42329b383000d1df5f10",
    "time": "2021-01-24T23:12:16.293Z",
    "type": "completion"
   },
   {
    "id": "f7e7daf041714d2cac453862a5a147a5",
    "time": "2021-01-24T23:12:16.503Z",
    "type": "completion"
   },
   {
    "id": "5899c880a56545e1858f036004e78d4b",
    "time": "2021-01-24T23:12:16.510Z",
    "type": "completion"
   },
   {
    "id": "1644e3440d6f4e06bc7241bd69fe28d2",
    "time": "2021-01-24T23:12:16.512Z",
    "type": "completion"
   },
   {
    "id": "83bc6cef0e8e4627816c6724c3feed9c",
    "time": "2021-01-24T23:12:16.543Z",
    "type": "completion"
   },
   {
    "id": "bfbed73e6a834c25a702c8be4ec60ebd",
    "time": "2021-01-24T23:12:16.749Z",
    "type": "completion"
   },
   {
    "id": "4adbd8a0c88640e68aec979a3d6f647a",
    "time": "2021-01-24T23:12:16.756Z",
    "type": "completion"
   },
   {
    "id": "dff782ccfe354a7c9483e99f59cdeafc",
    "time": "2021-01-24T23:12:16.757Z",
    "type": "completion"
   },
   {
    "id": "89b5116394644bb38904d0ec80129eba",
    "time": "2021-01-24T23:12:16.787Z",
    "type": "completion"
   },
   {
    "id": "5d355ed4c24641508250a92c759530e0",
    "time": "2021-01-24T23:12:16.789Z",
    "type": "completion"
   },
   {
    "id": "77ee45ea3a9a42299fcfd5aee494f079",
    "time": "2021-01-24T23:12:16.815Z",
    "type": "completion"
   },
   {
    "id": "2cffd9024907429a8bf409b165fad327",
    "time": "2021-01-24T23:12:16.824Z",
    "type": "completion"
   },
   {
    "id": "3df8811d72584cec9bfa1a9cf3b6c76a",
    "time": "2021-01-24T23:12:16.843Z",
    "type": "completion"
   },
   {
    "id": "4554946117bb4dc899da956da43d4a74",
    "time": "2021-01-24T23:12:16.863Z",
    "type": "completion"
   },
   {
    "id": "ca6961d921e44e9c80fddc4cb460deb4",
    "time": "2021-01-24T23:12:16.900Z",
    "type": "completion"
   },
   {
    "id": "537d4416e77f42cc8c90172f0c08eeaa",
    "time": "2021-01-24T23:12:16.908Z",
    "type": "completion"
   },
   {
    "id": "90a668b7bb6043b59da1848f21a4a202",
    "time": "2021-01-24T23:12:16.929Z",
    "type": "completion"
   },
   {
    "id": "5a97aa18658d4c53b1f9169fabe4a385",
    "time": "2021-01-24T23:12:16.949Z",
    "type": "completion"
   },
   {
    "code": "query_q1a = \"\"\"\nSELECT \n    cmte_id,\n    transaction_amt,\n    name\nFROM indiv_sample_nyc\nWHERE name LIKE '%TRUMP%' AND name LIKE '%DONALD%'\n\"\"\"\n\n\nres_q1a = pd.read_sql(query_q1a, engine)\nres_q1a",
    "id": "1078de0405f84f09a236c9b2785cd7de",
    "idx": 25,
    "time": "2021-01-25T05:33:04.083Z",
    "type": "execution"
   },
   {
    "id": "1078de0405f84f09a236c9b2785cd7de",
    "time": "2021-01-25T05:33:04.230Z",
    "type": "completion"
   },
   {
    "code": "import pandas as pd\nimport sqlalchemy\nfrom ds100_utils import fetch_and_cache\nfrom pathlib import Path",
    "id": "c4bc4a5b8bfc432b8c5e74fc991e5fa2",
    "idx": 3,
    "time": "2021-01-25T05:34:41.992Z",
    "type": "execution"
   },
   {
    "code": "db_url = 'https://s3.amazonaws.com/berkeley-ds100/fec_nyc.sqlite'\ndb_filename = 'fec_nyc.db'\ndata_dir = Path('data')\nfetch_and_cache(db_url, db_filename, data_dir = data_dir)\ndb_path = data_dir / db_filename",
    "id": "c911802698174c259942f787b4cf3bbb",
    "idx": 7,
    "time": "2021-01-25T05:34:41.999Z",
    "type": "execution"
   },
   {
    "code": "engine = sqlalchemy.create_engine(f\"sqlite:///{db_path}\")\nconnection = engine.connect()",
    "id": "322661a09d684eae97b40313e53e0c83",
    "idx": 9,
    "time": "2021-01-25T05:34:42.001Z",
    "type": "execution"
   },
   {
    "code": "engine.table_names()",
    "id": "b96c3a8ad77640c189c2762cfd688550",
    "idx": 11,
    "time": "2021-01-25T05:34:42.003Z",
    "type": "execution"
   },
   {
    "code": "for exp in connection.execute('SELECT sql FROM sqlite_master;'):\n    print(exp[0])",
    "id": "712afe4c9ac94136b8be5b8acc7764a0",
    "idx": 13,
    "time": "2021-01-25T05:34:42.005Z",
    "type": "execution"
   },
   {
    "code": "query = \"\"\"\nSELECT *\nFROM indiv_sample_nyc\nLIMIT 5\n\"\"\"\npd.read_sql(query, engine)",
    "id": "e7448d088d8d4e369058f23cfb64c3a9",
    "idx": 15,
    "time": "2021-01-25T05:34:42.008Z",
    "type": "execution"
   },
   {
    "code": "query = \"\"\"\nSELECT *\nFROM cand\nLIMIT 5\n\"\"\"\npd.read_sql(query, engine)",
    "id": "89882743cf3b4fac8768e228f6ec5a2c",
    "idx": 17,
    "time": "2021-01-25T05:34:42.010Z",
    "type": "execution"
   },
   {
    "code": "query = \"\"\"\nSELECT *\nFROM comm\nLIMIT 5\n\"\"\"\npd.read_sql(query, engine)",
    "id": "cff4097e11ed44a68f58abf4c26399a5",
    "idx": 19,
    "time": "2021-01-25T05:34:42.012Z",
    "type": "execution"
   },
   {
    "code": "query = \"\"\"\nSELECT cand_id, cand_name\nFROM cand\nWHERE cand_pty_affiliation = 'DEM'\nLIMIT 5\n\"\"\"\npd.read_sql(query,engine)",
    "id": "8d20fc952c514ac794c11b8fbd4b0fd7",
    "idx": 21,
    "time": "2021-01-25T05:34:42.014Z",
    "type": "execution"
   },
   {
    "code": "for exp in connection.execute('SELECT sql FROM sqlite_master WHERE name=\"indiv_sample_nyc\";'):\n    print(exp[0])",
    "id": "8c89a7d41a4944e4b1fd31b2968700f3",
    "idx": 23,
    "time": "2021-01-25T05:34:42.016Z",
    "type": "execution"
   },
   {
    "code": "query_q1a = \"\"\"\nSELECT \n    cmte_id,\n    transaction_amt,\n    name\nFROM indiv_sample_nyc\nWHERE name LIKE '%TRUMP%' AND name LIKE '%DONALD%'\n\"\"\"\n\n\nres_q1a = pd.read_sql(query_q1a, engine)\nres_q1a",
    "id": "1078de0405f84f09a236c9b2785cd7de",
    "idx": 25,
    "time": "2021-01-25T05:34:42.018Z",
    "type": "execution"
   },
   {
    "code": "# TEST\nres_q1a.shape == (157, 3)",
    "id": "d565a4a422764c6bb5c8071e5f6ff857",
    "idx": 26,
    "time": "2021-01-25T05:34:42.019Z",
    "type": "execution"
   },
   {
    "code": "# TEST\nsorted(res_q1a['transaction_amt'].unique()) == [5, 224, 514, 1000, 1029, 1216, 1713, 2000, 2426, 2460, 2529, 2531, 2536, 2544, 2574, 2587, 2600, 2620, 2679, 2692, 2693, 2700, 2991, 3063, 3347, 3360, 3371, 3499, 3548, 3706, 3954, 4049, 4127, 4164, 4591, 4931, 4958, 5000, 5297, 5574, 6197, 6250, 6990, 7401, 7519, 7990, 8735, 8896, 9000, 9013, 9106, 9651, 9752, 10000, 10418, 11023, 15000, 23775, 2000000, 10000000]",
    "id": "a34399725be34d939a83fceaca817b08",
    "idx": 27,
    "time": "2021-01-25T05:34:42.021Z",
    "type": "execution"
   },
   {
    "code": "res_q1a['name'].value_counts()",
    "id": "028f21c0a18e4db68bde8556b4a6a7d6",
    "idx": 30,
    "time": "2021-01-25T05:34:42.025Z",
    "type": "execution"
   },
   {
    "id": "c4bc4a5b8bfc432b8c5e74fc991e5fa2",
    "time": "2021-01-25T05:34:42.651Z",
    "type": "completion"
   },
   {
    "id": "c911802698174c259942f787b4cf3bbb",
    "time": "2021-01-25T05:34:42.656Z",
    "type": "completion"
   },
   {
    "id": "322661a09d684eae97b40313e53e0c83",
    "time": "2021-01-25T05:34:42.692Z",
    "type": "completion"
   },
   {
    "id": "b96c3a8ad77640c189c2762cfd688550",
    "time": "2021-01-25T05:34:42.699Z",
    "type": "completion"
   },
   {
    "id": "712afe4c9ac94136b8be5b8acc7764a0",
    "time": "2021-01-25T05:34:42.702Z",
    "type": "completion"
   },
   {
    "id": "e7448d088d8d4e369058f23cfb64c3a9",
    "time": "2021-01-25T05:34:42.706Z",
    "type": "completion"
   },
   {
    "id": "89882743cf3b4fac8768e228f6ec5a2c",
    "time": "2021-01-25T05:34:42.707Z",
    "type": "completion"
   },
   {
    "id": "cff4097e11ed44a68f58abf4c26399a5",
    "time": "2021-01-25T05:34:42.776Z",
    "type": "completion"
   },
   {
    "id": "8d20fc952c514ac794c11b8fbd4b0fd7",
    "time": "2021-01-25T05:34:42.782Z",
    "type": "completion"
   },
   {
    "id": "8c89a7d41a4944e4b1fd31b2968700f3",
    "time": "2021-01-25T05:34:42.784Z",
    "type": "completion"
   },
   {
    "id": "1078de0405f84f09a236c9b2785cd7de",
    "time": "2021-01-25T05:34:43.201Z",
    "type": "completion"
   },
   {
    "id": "d565a4a422764c6bb5c8071e5f6ff857",
    "time": "2021-01-25T05:34:43.213Z",
    "type": "completion"
   },
   {
    "id": "a34399725be34d939a83fceaca817b08",
    "time": "2021-01-25T05:34:43.239Z",
    "type": "completion"
   },
   {
    "id": "028f21c0a18e4db68bde8556b4a6a7d6",
    "time": "2021-01-25T05:34:43.241Z",
    "type": "completion"
   },
   {
    "code": "query_q1 = \"\"\"\nSELECT \n    cmte_id,\n    transaction_amt,\n    name\nFROM indiv_sample_nyc\nWHERE name LIKE '%TRUMP%' AND name LIKE '%DONALD%'\n\"\"\"\n\nres_q1 = pd.read_sql(query_q1, engine)\nres_q1",
    "id": "1078de0405f84f09a236c9b2785cd7de",
    "idx": 25,
    "time": "2021-01-25T05:35:14.964Z",
    "type": "execution"
   },
   {
    "id": "1078de0405f84f09a236c9b2785cd7de",
    "time": "2021-01-25T05:35:15.339Z",
    "type": "completion"
   },
   {
    "code": "query1 = \"\"\"\nSELECT \n    cmte_id,\n    transaction_amt,\n    name\nFROM indiv_sample_nyc\nWHERE name LIKE '%TRUMP%' AND name LIKE '%DONALD%'\n\"\"\"\n\nres_q1 = pd.read_sql(query1, engine)\nres_q1",
    "id": "1078de0405f84f09a236c9b2785cd7de",
    "idx": 25,
    "time": "2021-01-25T05:36:05.453Z",
    "type": "execution"
   },
   {
    "id": "1078de0405f84f09a236c9b2785cd7de",
    "time": "2021-01-25T05:36:05.932Z",
    "type": "completion"
   },
   {
    "code": "# TEST\nres_q1a.shape == (157, 3)",
    "id": "d565a4a422764c6bb5c8071e5f6ff857",
    "idx": 26,
    "time": "2021-01-25T05:36:07.228Z",
    "type": "execution"
   },
   {
    "id": "d565a4a422764c6bb5c8071e5f6ff857",
    "time": "2021-01-25T05:36:07.286Z",
    "type": "completion"
   },
   {
    "code": "# TEST\nsorted(res_q1a['transaction_amt'].unique()) == [5, 224, 514, 1000, 1029, 1216, 1713, 2000, 2426, 2460, 2529, 2531, 2536, 2544, 2574, 2587, 2600, 2620, 2679, 2692, 2693, 2700, 2991, 3063, 3347, 3360, 3371, 3499, 3548, 3706, 3954, 4049, 4127, 4164, 4591, 4931, 4958, 5000, 5297, 5574, 6197, 6250, 6990, 7401, 7519, 7990, 8735, 8896, 9000, 9013, 9106, 9651, 9752, 10000, 10418, 11023, 15000, 23775, 2000000, 10000000]",
    "id": "a34399725be34d939a83fceaca817b08",
    "idx": 27,
    "time": "2021-01-25T05:36:08.265Z",
    "type": "execution"
   },
   {
    "id": "a34399725be34d939a83fceaca817b08",
    "time": "2021-01-25T05:36:08.349Z",
    "type": "completion"
   },
   {
    "code": "res_q1a['name'].value_counts()",
    "id": "028f21c0a18e4db68bde8556b4a6a7d6",
    "idx": 30,
    "time": "2021-01-25T05:36:13.062Z",
    "type": "execution"
   },
   {
    "id": "028f21c0a18e4db68bde8556b4a6a7d6",
    "time": "2021-01-25T05:36:13.121Z",
    "type": "completion"
   },
   {
    "code": "query_q1b = \"\"\"\n...\n\"\"\"\n\n# BEGIN SOLUTION NO PROMPT\nquery_q1b = \"\"\"\nSELECT \n    cmte_id,\n    SUM(transaction_amt) as total_amount,\n    COUNT(*) as num_donations,\n    cmte_nm\nFROM \n        (SELECT *\n        FROM indiv_sample_nyc, comm\n        WHERE indiv_sample_nyc.cmte_id == comm.cmte_id)\nWHERE name LIKE '%TRUMP%' AND name LIKE '%DONALD%' AND name NOT LIKE '%INC%'\nGROUP BY cmte_id\nORDER BY total_amount DESC\n\"\"\"\n# END SOLUTION\n\nres_q1b = pd.read_sql(query_q1d, engine)\nres_q1b",
    "id": "0962f0e561fd4a0b8c06d8795501abeb",
    "idx": 37,
    "time": "2021-01-25T05:40:59.809Z",
    "type": "execution"
   },
   {
    "id": "0962f0e561fd4a0b8c06d8795501abeb",
    "time": "2021-01-25T05:40:59.912Z",
    "type": "completion"
   },
   {
    "code": "query_q1b = \"\"\"\n...\n\"\"\"\n\n# BEGIN SOLUTION NO PROMPT\nquery_q1b = \"\"\"\nSELECT \n    cmte_id,\n    SUM(transaction_amt) as total_amount,\n    COUNT(*) as num_donations,\n    cmte_nm\nFROM \n        (SELECT *\n        FROM indiv_sample_nyc, comm\n        WHERE indiv_sample_nyc.cmte_id == comm.cmte_id)\nWHERE name LIKE '%TRUMP%' AND name LIKE '%DONALD%' AND name NOT LIKE '%INC%'\nGROUP BY cmte_id\nORDER BY total_amount DESC\n\"\"\"\n# END SOLUTION\n\nres_q1b = pd.read_sql(query_q1b, engine)\nres_q1b",
    "id": "0962f0e561fd4a0b8c06d8795501abeb",
    "idx": 37,
    "time": "2021-01-25T05:41:44.587Z",
    "type": "execution"
   },
   {
    "id": "0962f0e561fd4a0b8c06d8795501abeb",
    "time": "2021-01-25T05:41:44.982Z",
    "type": "completion"
   },
   {
    "code": "# TEST\nres_q1b.shape",
    "id": "588b4fee6b2e4112893d70d2adf9a83d",
    "idx": 38,
    "time": "2021-01-25T05:41:47.308Z",
    "type": "execution"
   },
   {
    "id": "588b4fee6b2e4112893d70d2adf9a83d",
    "time": "2021-01-25T05:41:47.366Z",
    "type": "completion"
   },
   {
    "code": "# TEST\nprint(sorted(res_q1b['total_amount']))",
    "id": "9d55beeb3a0d48698ac13fd8028b4210",
    "idx": 39,
    "time": "2021-01-25T05:41:47.712Z",
    "type": "execution"
   },
   {
    "id": "9d55beeb3a0d48698ac13fd8028b4210",
    "time": "2021-01-25T05:41:47.781Z",
    "type": "completion"
   },
   {
    "code": "# TEST\nprint(sorted(res_q1b['num_donations']))",
    "id": "db71f229c6b04cccab86d35c4d3365b8",
    "idx": 40,
    "time": "2021-01-25T05:41:48.139Z",
    "type": "execution"
   },
   {
    "id": "db71f229c6b04cccab86d35c4d3365b8",
    "time": "2021-01-25T05:41:48.194Z",
    "type": "completion"
   },
   {
    "code": "# TEST\nprint(sorted(res_q1b['cmte_nm']))",
    "id": "b757a08cf4ac4f918d23587a1d33b260",
    "idx": 41,
    "time": "2021-01-25T05:41:48.711Z",
    "type": "execution"
   },
   {
    "id": "b757a08cf4ac4f918d23587a1d33b260",
    "time": "2021-01-25T05:41:48.769Z",
    "type": "completion"
   },
   {
    "code": "query_q2a = \"\"\"\nSELECT ..., ...\nFROM cand c1 ... JOIN comm c2 ON ...\n...\n...\n\"\"\"\n\n# BEGIN SOLUTION NO PROMPT\nquery_q2a = \"\"\"\nSELECT c1.cand_name, c2.cmte_nm\nFROM cand c1 INNER JOIN comm c2 ON c1.cand_id = c2.cand_id\nORDER BY c1.cand_name DESC\nLIMIT 5\n\"\"\"\n# END SOLUTION\n\nres_q2a = pd.read_sql(query_q2a, engine)\nres_q2a",
    "id": "9585906874134ad3861dc79c0c45eb78",
    "idx": 44,
    "time": "2021-01-25T05:43:16.814Z",
    "type": "execution"
   },
   {
    "id": "9585906874134ad3861dc79c0c45eb78",
    "time": "2021-01-25T05:43:16.980Z",
    "type": "completion"
   },
   {
    "code": "# TEST\nres_q2a.shape == (5, 2)",
    "id": "2554438f9b824952b7f2c9ad15cd683d",
    "idx": 45,
    "time": "2021-01-25T05:43:18.504Z",
    "type": "execution"
   },
   {
    "id": "2554438f9b824952b7f2c9ad15cd683d",
    "time": "2021-01-25T05:43:18.563Z",
    "type": "completion"
   },
   {
    "code": "# TEST\nall(res_q2a == res_q2a.sort_values('cand_name', ascending=False))",
    "id": "12450b664174465882f5bef9144c4487",
    "idx": 46,
    "time": "2021-01-25T05:43:18.903Z",
    "type": "execution"
   },
   {
    "id": "12450b664174465882f5bef9144c4487",
    "time": "2021-01-25T05:43:18.962Z",
    "type": "completion"
   },
   {
    "code": "# TEST\nsorted(res_q2a['cmte_nm'].unique()) == ['CITIZENS TO ELECT DANIEL P ZUTLER FOR PRESIDENT', 'CONSTITUTIONAL COMMITTEE', 'JOE ZUCCOLO FOR CONGRESS', 'ZUKOWSKI FOR CONGRESS', 'ZUMWALT FOR CONGRESS']",
    "id": "f73d54ec6943420b8d57b05832095adc",
    "idx": 47,
    "time": "2021-01-25T05:43:19.254Z",
    "type": "execution"
   },
   {
    "id": "f73d54ec6943420b8d57b05832095adc",
    "time": "2021-01-25T05:43:19.330Z",
    "type": "completion"
   },
   {
    "code": "query_q2b = \"\"\"\nSELECT ..., ...\nFROM cand c1 ... JOIN comm c2 ON ...\n...\n...\n\"\"\"\n\n# BEGIN SOLUTION NO PROMPT\nquery_q2b = \"\"\"\nSELECT c1.cand_name, c2.cmte_nm\nFROM cand c1 LEFT OUTER JOIN comm c2 ON c1.cand_id = c2.cand_id\nORDER BY c1.cand_name DESC\nLIMIT 5\n\"\"\"\n# END SOLUTION\n\nres_q2b = pd.read_sql(query_q2b, engine)\nres_q2b",
    "id": "d2ecf3f1fca64761839070a18b571972",
    "idx": 49,
    "time": "2021-01-25T05:43:23.480Z",
    "type": "execution"
   },
   {
    "id": "d2ecf3f1fca64761839070a18b571972",
    "time": "2021-01-25T05:43:23.599Z",
    "type": "completion"
   },
   {
    "code": "# TEST\nres_q2b.shape == (5, 2)",
    "id": "b10a3be70f7d4a87af029a2a3472ae2a",
    "idx": 50,
    "time": "2021-01-25T05:43:24.900Z",
    "type": "execution"
   },
   {
    "id": "b10a3be70f7d4a87af029a2a3472ae2a",
    "time": "2021-01-25T05:43:24.958Z",
    "type": "completion"
   },
   {
    "code": "# TEST\nall(res_q2b == res_q2b.sort_values('cand_name', ascending=False))",
    "id": "fde48efa5d4b40d89fbc3ccf899175f8",
    "idx": 51,
    "time": "2021-01-25T05:43:25.305Z",
    "type": "execution"
   },
   {
    "id": "fde48efa5d4b40d89fbc3ccf899175f8",
    "time": "2021-01-25T05:43:25.363Z",
    "type": "completion"
   },
   {
    "code": "# TEST\nsorted(map(str, res_q2b['cmte_nm'].unique())) == ['CITIZENS TO ELECT DANIEL P ZUTLER FOR PRESIDENT', 'JOE ZUCCOLO FOR CONGRESS', 'None', 'ZUKOWSKI FOR CONGRESS', 'ZUMWALT FOR CONGRESS']",
    "id": "845b024b25ac409880aada1f15cc7d72",
    "idx": 52,
    "time": "2021-01-25T05:43:25.700Z",
    "type": "execution"
   },
   {
    "id": "845b024b25ac409880aada1f15cc7d72",
    "time": "2021-01-25T05:43:25.809Z",
    "type": "completion"
   },
   {
    "code": "import pandas as pd\nimport sqlalchemy\nfrom ds100_utils import fetch_and_cache\nfrom pathlib import Path",
    "id": "c4bc4a5b8bfc432b8c5e74fc991e5fa2",
    "idx": 3,
    "time": "2021-01-25T05:43:32.694Z",
    "type": "execution"
   },
   {
    "code": "db_url = 'https://s3.amazonaws.com/berkeley-ds100/fec_nyc.sqlite'\ndb_filename = 'fec_nyc.db'\ndata_dir = Path('data')\nfetch_and_cache(db_url, db_filename, data_dir = data_dir)\ndb_path = data_dir / db_filename",
    "id": "c911802698174c259942f787b4cf3bbb",
    "idx": 7,
    "time": "2021-01-25T05:43:32.697Z",
    "type": "execution"
   },
   {
    "code": "engine = sqlalchemy.create_engine(f\"sqlite:///{db_path}\")\nconnection = engine.connect()",
    "id": "322661a09d684eae97b40313e53e0c83",
    "idx": 9,
    "time": "2021-01-25T05:43:32.698Z",
    "type": "execution"
   },
   {
    "code": "engine.table_names()",
    "id": "b96c3a8ad77640c189c2762cfd688550",
    "idx": 11,
    "time": "2021-01-25T05:43:32.700Z",
    "type": "execution"
   },
   {
    "code": "for exp in connection.execute('SELECT sql FROM sqlite_master;'):\n    print(exp[0])",
    "id": "712afe4c9ac94136b8be5b8acc7764a0",
    "idx": 13,
    "time": "2021-01-25T05:43:32.703Z",
    "type": "execution"
   },
   {
    "code": "query = \"\"\"\nSELECT *\nFROM indiv_sample_nyc\nLIMIT 5\n\"\"\"\npd.read_sql(query, engine)",
    "id": "e7448d088d8d4e369058f23cfb64c3a9",
    "idx": 15,
    "time": "2021-01-25T05:43:32.705Z",
    "type": "execution"
   },
   {
    "code": "query = \"\"\"\nSELECT *\nFROM cand\nLIMIT 5\n\"\"\"\npd.read_sql(query, engine)",
    "id": "89882743cf3b4fac8768e228f6ec5a2c",
    "idx": 17,
    "time": "2021-01-25T05:43:32.707Z",
    "type": "execution"
   },
   {
    "code": "query = \"\"\"\nSELECT *\nFROM comm\nLIMIT 5\n\"\"\"\npd.read_sql(query, engine)",
    "id": "cff4097e11ed44a68f58abf4c26399a5",
    "idx": 19,
    "time": "2021-01-25T05:43:32.710Z",
    "type": "execution"
   },
   {
    "code": "query = \"\"\"\nSELECT cand_id, cand_name\nFROM cand\nWHERE cand_pty_affiliation = 'DEM'\nLIMIT 5\n\"\"\"\npd.read_sql(query,engine)",
    "id": "8d20fc952c514ac794c11b8fbd4b0fd7",
    "idx": 21,
    "time": "2021-01-25T05:43:32.711Z",
    "type": "execution"
   },
   {
    "code": "for exp in connection.execute('SELECT sql FROM sqlite_master WHERE name=\"indiv_sample_nyc\";'):\n    print(exp[0])",
    "id": "8c89a7d41a4944e4b1fd31b2968700f3",
    "idx": 23,
    "time": "2021-01-25T05:43:32.713Z",
    "type": "execution"
   },
   {
    "code": "query1 = \"\"\"\nSELECT \n    cmte_id,\n    transaction_amt,\n    name\nFROM indiv_sample_nyc\nWHERE name LIKE '%TRUMP%' AND name LIKE '%DONALD%'\n\"\"\"\n\nres_q1 = pd.read_sql(query1, engine)\nres_q1",
    "id": "1078de0405f84f09a236c9b2785cd7de",
    "idx": 25,
    "time": "2021-01-25T05:43:32.715Z",
    "type": "execution"
   },
   {
    "code": "# TEST\nres_q1a.shape == (157, 3)",
    "id": "d565a4a422764c6bb5c8071e5f6ff857",
    "idx": 26,
    "time": "2021-01-25T05:43:32.716Z",
    "type": "execution"
   },
   {
    "code": "# TEST\nsorted(res_q1a['transaction_amt'].unique()) == [5, 224, 514, 1000, 1029, 1216, 1713, 2000, 2426, 2460, 2529, 2531, 2536, 2544, 2574, 2587, 2600, 2620, 2679, 2692, 2693, 2700, 2991, 3063, 3347, 3360, 3371, 3499, 3548, 3706, 3954, 4049, 4127, 4164, 4591, 4931, 4958, 5000, 5297, 5574, 6197, 6250, 6990, 7401, 7519, 7990, 8735, 8896, 9000, 9013, 9106, 9651, 9752, 10000, 10418, 11023, 15000, 23775, 2000000, 10000000]",
    "id": "a34399725be34d939a83fceaca817b08",
    "idx": 27,
    "time": "2021-01-25T05:43:32.717Z",
    "type": "execution"
   },
   {
    "code": "res_q1a['name'].value_counts()",
    "id": "028f21c0a18e4db68bde8556b4a6a7d6",
    "idx": 30,
    "time": "2021-01-25T05:43:32.720Z",
    "type": "execution"
   },
   {
    "code": "query_q1a = \"\"\"\nSELECT\n    ... \n    ... \n    ...\nFROM indiv_sample_nyc\nWHERE ...\n\"\"\"\n\n# BEGIN SOLUTION NO PROMPT\nquery_q1a = \"\"\"\nSELECT \n    cmte_id,\n    transaction_amt,\n    name\nFROM indiv_sample_nyc\nWHERE name LIKE '%TRUMP%' AND name LIKE '%DONALD%' AND name NOT LIKE '%INC%'\n\"\"\"\n# END SOLUTION\n\nres_q1a = pd.read_sql(query_q1a, engine)\nres_q1a",
    "id": "e88ac31fef8245fca96a1c36dc142a20",
    "idx": 32,
    "time": "2021-01-25T05:43:32.723Z",
    "type": "execution"
   },
   {
    "code": "# TEST\nres_q1a.shape == (142, 3)",
    "id": "c4799f492354455185a9579350df5366",
    "idx": 33,
    "time": "2021-01-25T05:43:32.724Z",
    "type": "execution"
   },
   {
    "code": "# TEST\nsorted(res_q1a['transaction_amt'].unique()) == [224, 514, 1000, 1029, 1216, 1713, 2000, 2426, 2460, 2529, 2531, 2536, 2544, 2574, 2587, 2600, 2620, 2679, 2692, 2693, 2700, 2991, 3063, 3347, 3360, 3371, 3499, 3548, 3706, 3954, 4049, 4127, 4164, 4591, 4931, 4958, 5000, 5297, 5574, 6197, 6250, 6990, 7401, 7519, 7990, 8735, 8896, 9000, 9013, 9106, 9651, 9752, 10000, 10418, 11023, 15000, 23775, 2000000, 10000000]",
    "id": "1accf5d2230f4872be14d0340efdcb53",
    "idx": 34,
    "time": "2021-01-25T05:43:32.726Z",
    "type": "execution"
   },
   {
    "code": "query_q1b = \"\"\"\n...\n\"\"\"\n\n# BEGIN SOLUTION NO PROMPT\nquery_q1b = \"\"\"\nSELECT \n    cmte_id,\n    SUM(transaction_amt) as total_amount,\n    COUNT(*) as num_donations,\n    cmte_nm\nFROM \n        (SELECT *\n        FROM indiv_sample_nyc, comm\n        WHERE indiv_sample_nyc.cmte_id == comm.cmte_id)\nWHERE name LIKE '%TRUMP%' AND name LIKE '%DONALD%' AND name NOT LIKE '%INC%'\nGROUP BY cmte_id\nORDER BY total_amount DESC\n\"\"\"\n# END SOLUTION\n\nres_q1b = pd.read_sql(query_q1b, engine)\nres_q1b",
    "id": "0962f0e561fd4a0b8c06d8795501abeb",
    "idx": 37,
    "time": "2021-01-25T05:43:32.732Z",
    "type": "execution"
   },
   {
    "code": "# TEST\nres_q1b.shape",
    "id": "588b4fee6b2e4112893d70d2adf9a83d",
    "idx": 38,
    "time": "2021-01-25T05:43:32.733Z",
    "type": "execution"
   },
   {
    "code": "# TEST\nprint(sorted(res_q1b['total_amount']))",
    "id": "9d55beeb3a0d48698ac13fd8028b4210",
    "idx": 39,
    "time": "2021-01-25T05:43:32.735Z",
    "type": "execution"
   },
   {
    "code": "# TEST\nprint(sorted(res_q1b['num_donations']))",
    "id": "db71f229c6b04cccab86d35c4d3365b8",
    "idx": 40,
    "time": "2021-01-25T05:43:32.736Z",
    "type": "execution"
   },
   {
    "code": "# TEST\nprint(sorted(res_q1b['cmte_nm']))",
    "id": "b757a08cf4ac4f918d23587a1d33b260",
    "idx": 41,
    "time": "2021-01-25T05:43:32.737Z",
    "type": "execution"
   },
   {
    "code": "query_q2a = \"\"\"\nSELECT ..., ...\nFROM cand c1 ... JOIN comm c2 ON ...\n...\n...\n\"\"\"\n\n# BEGIN SOLUTION NO PROMPT\nquery_q2a = \"\"\"\nSELECT c1.cand_name, c2.cmte_nm\nFROM cand c1 INNER JOIN comm c2 ON c1.cand_id = c2.cand_id\nORDER BY c1.cand_name DESC\nLIMIT 5\n\"\"\"\n# END SOLUTION\n\nres_q2a = pd.read_sql(query_q2a, engine)\nres_q2a",
    "id": "9585906874134ad3861dc79c0c45eb78",
    "idx": 44,
    "time": "2021-01-25T05:43:32.739Z",
    "type": "execution"
   },
   {
    "code": "# TEST\nres_q2a.shape == (5, 2)",
    "id": "2554438f9b824952b7f2c9ad15cd683d",
    "idx": 45,
    "time": "2021-01-25T05:43:32.741Z",
    "type": "execution"
   },
   {
    "code": "# TEST\nall(res_q2a == res_q2a.sort_values('cand_name', ascending=False))",
    "id": "12450b664174465882f5bef9144c4487",
    "idx": 46,
    "time": "2021-01-25T05:43:32.743Z",
    "type": "execution"
   },
   {
    "code": "# TEST\nsorted(res_q2a['cmte_nm'].unique()) == ['CITIZENS TO ELECT DANIEL P ZUTLER FOR PRESIDENT', 'CONSTITUTIONAL COMMITTEE', 'JOE ZUCCOLO FOR CONGRESS', 'ZUKOWSKI FOR CONGRESS', 'ZUMWALT FOR CONGRESS']",
    "id": "f73d54ec6943420b8d57b05832095adc",
    "idx": 47,
    "time": "2021-01-25T05:43:32.744Z",
    "type": "execution"
   },
   {
    "code": "query_q2b = \"\"\"\nSELECT ..., ...\nFROM cand c1 ... JOIN comm c2 ON ...\n...\n...\n\"\"\"\n\n# BEGIN SOLUTION NO PROMPT\nquery_q2b = \"\"\"\nSELECT c1.cand_name, c2.cmte_nm\nFROM cand c1 LEFT OUTER JOIN comm c2 ON c1.cand_id = c2.cand_id\nORDER BY c1.cand_name DESC\nLIMIT 5\n\"\"\"\n# END SOLUTION\n\nres_q2b = pd.read_sql(query_q2b, engine)\nres_q2b",
    "id": "d2ecf3f1fca64761839070a18b571972",
    "idx": 49,
    "time": "2021-01-25T05:43:32.746Z",
    "type": "execution"
   },
   {
    "code": "# TEST\nres_q2b.shape == (5, 2)",
    "id": "b10a3be70f7d4a87af029a2a3472ae2a",
    "idx": 50,
    "time": "2021-01-25T05:43:32.747Z",
    "type": "execution"
   },
   {
    "code": "# TEST\nall(res_q2b == res_q2b.sort_values('cand_name', ascending=False))",
    "id": "fde48efa5d4b40d89fbc3ccf899175f8",
    "idx": 51,
    "time": "2021-01-25T05:43:32.749Z",
    "type": "execution"
   },
   {
    "code": "# TEST\nsorted(map(str, res_q2b['cmte_nm'].unique())) == ['CITIZENS TO ELECT DANIEL P ZUTLER FOR PRESIDENT', 'JOE ZUCCOLO FOR CONGRESS', 'None', 'ZUKOWSKI FOR CONGRESS', 'ZUMWALT FOR CONGRESS']",
    "id": "845b024b25ac409880aada1f15cc7d72",
    "idx": 52,
    "time": "2021-01-25T05:43:32.750Z",
    "type": "execution"
   },
   {
    "id": "c4bc4a5b8bfc432b8c5e74fc991e5fa2",
    "time": "2021-01-25T05:43:33.216Z",
    "type": "completion"
   },
   {
    "id": "c911802698174c259942f787b4cf3bbb",
    "time": "2021-01-25T05:43:33.219Z",
    "type": "completion"
   },
   {
    "id": "322661a09d684eae97b40313e53e0c83",
    "time": "2021-01-25T05:43:33.260Z",
    "type": "completion"
   },
   {
    "id": "b96c3a8ad77640c189c2762cfd688550",
    "time": "2021-01-25T05:43:33.270Z",
    "type": "completion"
   },
   {
    "id": "712afe4c9ac94136b8be5b8acc7764a0",
    "time": "2021-01-25T05:43:33.292Z",
    "type": "completion"
   },
   {
    "id": "e7448d088d8d4e369058f23cfb64c3a9",
    "time": "2021-01-25T05:43:33.328Z",
    "type": "completion"
   },
   {
    "id": "89882743cf3b4fac8768e228f6ec5a2c",
    "time": "2021-01-25T05:43:33.367Z",
    "type": "completion"
   },
   {
    "id": "cff4097e11ed44a68f58abf4c26399a5",
    "time": "2021-01-25T05:43:33.372Z",
    "type": "completion"
   },
   {
    "id": "8d20fc952c514ac794c11b8fbd4b0fd7",
    "time": "2021-01-25T05:43:33.406Z",
    "type": "completion"
   },
   {
    "id": "8c89a7d41a4944e4b1fd31b2968700f3",
    "time": "2021-01-25T05:43:33.407Z",
    "type": "completion"
   },
   {
    "id": "1078de0405f84f09a236c9b2785cd7de",
    "time": "2021-01-25T05:43:33.607Z",
    "type": "completion"
   },
   {
    "id": "d565a4a422764c6bb5c8071e5f6ff857",
    "time": "2021-01-25T05:43:33.695Z",
    "type": "completion"
   },
   {
    "id": "a34399725be34d939a83fceaca817b08",
    "time": "2021-01-25T05:43:33.697Z",
    "type": "completion"
   },
   {
    "id": "028f21c0a18e4db68bde8556b4a6a7d6",
    "time": "2021-01-25T05:43:33.699Z",
    "type": "completion"
   },
   {
    "id": "e88ac31fef8245fca96a1c36dc142a20",
    "time": "2021-01-25T05:43:33.716Z",
    "type": "completion"
   },
   {
    "id": "c4799f492354455185a9579350df5366",
    "time": "2021-01-25T05:43:33.718Z",
    "type": "completion"
   },
   {
    "id": "1accf5d2230f4872be14d0340efdcb53",
    "time": "2021-01-25T05:43:33.725Z",
    "type": "completion"
   },
   {
    "id": "0962f0e561fd4a0b8c06d8795501abeb",
    "time": "2021-01-25T05:43:33.726Z",
    "type": "completion"
   },
   {
    "id": "588b4fee6b2e4112893d70d2adf9a83d",
    "time": "2021-01-25T05:43:33.728Z",
    "type": "completion"
   },
   {
    "id": "9d55beeb3a0d48698ac13fd8028b4210",
    "time": "2021-01-25T05:43:33.729Z",
    "type": "completion"
   },
   {
    "id": "db71f229c6b04cccab86d35c4d3365b8",
    "time": "2021-01-25T05:43:33.763Z",
    "type": "completion"
   },
   {
    "id": "b757a08cf4ac4f918d23587a1d33b260",
    "time": "2021-01-25T05:43:33.764Z",
    "type": "completion"
   },
   {
    "id": "9585906874134ad3861dc79c0c45eb78",
    "time": "2021-01-25T05:43:33.764Z",
    "type": "completion"
   },
   {
    "id": "2554438f9b824952b7f2c9ad15cd683d",
    "time": "2021-01-25T05:43:33.764Z",
    "type": "completion"
   },
   {
    "id": "12450b664174465882f5bef9144c4487",
    "time": "2021-01-25T05:43:33.766Z",
    "type": "completion"
   },
   {
    "id": "f73d54ec6943420b8d57b05832095adc",
    "time": "2021-01-25T05:43:33.767Z",
    "type": "completion"
   },
   {
    "id": "d2ecf3f1fca64761839070a18b571972",
    "time": "2021-01-25T05:43:33.767Z",
    "type": "completion"
   },
   {
    "id": "b10a3be70f7d4a87af029a2a3472ae2a",
    "time": "2021-01-25T05:43:33.767Z",
    "type": "completion"
   },
   {
    "id": "fde48efa5d4b40d89fbc3ccf899175f8",
    "time": "2021-01-25T05:43:33.768Z",
    "type": "completion"
   },
   {
    "id": "845b024b25ac409880aada1f15cc7d72",
    "time": "2021-01-25T05:43:33.768Z",
    "type": "completion"
   },
   {
    "code": "import pandas as pd\nimport sqlalchemy\nfrom ds100_utils import fetch_and_cache\nfrom pathlib import Path",
    "id": "c4bc4a5b8bfc432b8c5e74fc991e5fa2",
    "idx": 3,
    "time": "2021-01-25T05:43:53.577Z",
    "type": "execution"
   },
   {
    "code": "db_url = 'https://s3.amazonaws.com/berkeley-ds100/fec_nyc.sqlite'\ndb_filename = 'fec_nyc.db'\ndata_dir = Path('data')\nfetch_and_cache(db_url, db_filename, data_dir = data_dir)\ndb_path = data_dir / db_filename",
    "id": "c911802698174c259942f787b4cf3bbb",
    "idx": 7,
    "time": "2021-01-25T05:43:53.579Z",
    "type": "execution"
   },
   {
    "code": "engine = sqlalchemy.create_engine(f\"sqlite:///{db_path}\")\nconnection = engine.connect()",
    "id": "322661a09d684eae97b40313e53e0c83",
    "idx": 9,
    "time": "2021-01-25T05:43:53.581Z",
    "type": "execution"
   },
   {
    "code": "engine.table_names()",
    "id": "b96c3a8ad77640c189c2762cfd688550",
    "idx": 11,
    "time": "2021-01-25T05:43:53.583Z",
    "type": "execution"
   },
   {
    "code": "for exp in connection.execute('SELECT sql FROM sqlite_master;'):\n    print(exp[0])",
    "id": "712afe4c9ac94136b8be5b8acc7764a0",
    "idx": 13,
    "time": "2021-01-25T05:43:53.584Z",
    "type": "execution"
   },
   {
    "code": "query = \"\"\"\nSELECT *\nFROM indiv_sample_nyc\nLIMIT 5\n\"\"\"\npd.read_sql(query, engine)",
    "id": "e7448d088d8d4e369058f23cfb64c3a9",
    "idx": 15,
    "time": "2021-01-25T05:43:53.587Z",
    "type": "execution"
   },
   {
    "code": "query = \"\"\"\nSELECT *\nFROM cand\nLIMIT 5\n\"\"\"\npd.read_sql(query, engine)",
    "id": "89882743cf3b4fac8768e228f6ec5a2c",
    "idx": 17,
    "time": "2021-01-25T05:43:53.589Z",
    "type": "execution"
   },
   {
    "code": "query = \"\"\"\nSELECT *\nFROM comm\nLIMIT 5\n\"\"\"\npd.read_sql(query, engine)",
    "id": "cff4097e11ed44a68f58abf4c26399a5",
    "idx": 19,
    "time": "2021-01-25T05:43:53.591Z",
    "type": "execution"
   },
   {
    "code": "query = \"\"\"\nSELECT cand_id, cand_name\nFROM cand\nWHERE cand_pty_affiliation = 'DEM'\nLIMIT 5\n\"\"\"\npd.read_sql(query,engine)",
    "id": "8d20fc952c514ac794c11b8fbd4b0fd7",
    "idx": 21,
    "time": "2021-01-25T05:43:53.593Z",
    "type": "execution"
   },
   {
    "code": "for exp in connection.execute('SELECT sql FROM sqlite_master WHERE name=\"indiv_sample_nyc\";'):\n    print(exp[0])",
    "id": "8c89a7d41a4944e4b1fd31b2968700f3",
    "idx": 23,
    "time": "2021-01-25T05:43:53.594Z",
    "type": "execution"
   },
   {
    "code": "query1 = \"\"\"\nSELECT \n    cmte_id,\n    transaction_amt,\n    name\nFROM indiv_sample_nyc\nWHERE name LIKE '%TRUMP%' AND name LIKE '%DONALD%'\n\"\"\"\n\nres_q1 = pd.read_sql(query1, engine)\nres_q1",
    "id": "1078de0405f84f09a236c9b2785cd7de",
    "idx": 25,
    "time": "2021-01-25T05:43:53.596Z",
    "type": "execution"
   },
   {
    "code": "res_q1a['name'].value_counts()",
    "id": "028f21c0a18e4db68bde8556b4a6a7d6",
    "idx": 28,
    "time": "2021-01-25T05:43:53.598Z",
    "type": "execution"
   },
   {
    "code": "query_q1a = \"\"\"\nSELECT\n    ... \n    ... \n    ...\nFROM indiv_sample_nyc\nWHERE ...\n\"\"\"\n\n# BEGIN SOLUTION NO PROMPT\nquery_q1a = \"\"\"\nSELECT \n    cmte_id,\n    transaction_amt,\n    name\nFROM indiv_sample_nyc\nWHERE name LIKE '%TRUMP%' AND name LIKE '%DONALD%' AND name NOT LIKE '%INC%'\n\"\"\"\n# END SOLUTION\n\nres_q1a = pd.read_sql(query_q1a, engine)\nres_q1a",
    "id": "e88ac31fef8245fca96a1c36dc142a20",
    "idx": 30,
    "time": "2021-01-25T05:43:53.599Z",
    "type": "execution"
   },
   {
    "code": "# TEST\nres_q1a.shape == (142, 3)",
    "id": "c4799f492354455185a9579350df5366",
    "idx": 31,
    "time": "2021-01-25T05:43:53.601Z",
    "type": "execution"
   },
   {
    "code": "# TEST\nsorted(res_q1a['transaction_amt'].unique()) == [224, 514, 1000, 1029, 1216, 1713, 2000, 2426, 2460, 2529, 2531, 2536, 2544, 2574, 2587, 2600, 2620, 2679, 2692, 2693, 2700, 2991, 3063, 3347, 3360, 3371, 3499, 3548, 3706, 3954, 4049, 4127, 4164, 4591, 4931, 4958, 5000, 5297, 5574, 6197, 6250, 6990, 7401, 7519, 7990, 8735, 8896, 9000, 9013, 9106, 9651, 9752, 10000, 10418, 11023, 15000, 23775, 2000000, 10000000]",
    "id": "1accf5d2230f4872be14d0340efdcb53",
    "idx": 32,
    "time": "2021-01-25T05:43:53.602Z",
    "type": "execution"
   },
   {
    "code": "query_q1b = \"\"\"\n...\n\"\"\"\n\n# BEGIN SOLUTION NO PROMPT\nquery_q1b = \"\"\"\nSELECT \n    cmte_id,\n    SUM(transaction_amt) as total_amount,\n    COUNT(*) as num_donations,\n    cmte_nm\nFROM \n        (SELECT *\n        FROM indiv_sample_nyc, comm\n        WHERE indiv_sample_nyc.cmte_id == comm.cmte_id)\nWHERE name LIKE '%TRUMP%' AND name LIKE '%DONALD%' AND name NOT LIKE '%INC%'\nGROUP BY cmte_id\nORDER BY total_amount DESC\n\"\"\"\n# END SOLUTION\n\nres_q1b = pd.read_sql(query_q1b, engine)\nres_q1b",
    "id": "0962f0e561fd4a0b8c06d8795501abeb",
    "idx": 35,
    "time": "2021-01-25T05:43:53.604Z",
    "type": "execution"
   },
   {
    "code": "# TEST\nres_q1b.shape",
    "id": "588b4fee6b2e4112893d70d2adf9a83d",
    "idx": 36,
    "time": "2021-01-25T05:43:53.605Z",
    "type": "execution"
   },
   {
    "code": "# TEST\nprint(sorted(res_q1b['total_amount']))",
    "id": "9d55beeb3a0d48698ac13fd8028b4210",
    "idx": 37,
    "time": "2021-01-25T05:43:53.606Z",
    "type": "execution"
   },
   {
    "code": "# TEST\nprint(sorted(res_q1b['num_donations']))",
    "id": "db71f229c6b04cccab86d35c4d3365b8",
    "idx": 38,
    "time": "2021-01-25T05:43:53.608Z",
    "type": "execution"
   },
   {
    "code": "# TEST\nprint(sorted(res_q1b['cmte_nm']))",
    "id": "b757a08cf4ac4f918d23587a1d33b260",
    "idx": 39,
    "time": "2021-01-25T05:43:53.609Z",
    "type": "execution"
   },
   {
    "code": "query_q2a = \"\"\"\nSELECT ..., ...\nFROM cand c1 ... JOIN comm c2 ON ...\n...\n...\n\"\"\"\n\n# BEGIN SOLUTION NO PROMPT\nquery_q2a = \"\"\"\nSELECT c1.cand_name, c2.cmte_nm\nFROM cand c1 INNER JOIN comm c2 ON c1.cand_id = c2.cand_id\nORDER BY c1.cand_name DESC\nLIMIT 5\n\"\"\"\n# END SOLUTION\n\nres_q2a = pd.read_sql(query_q2a, engine)\nres_q2a",
    "id": "9585906874134ad3861dc79c0c45eb78",
    "idx": 42,
    "time": "2021-01-25T05:43:53.610Z",
    "type": "execution"
   },
   {
    "code": "# TEST\nres_q2a.shape == (5, 2)",
    "id": "2554438f9b824952b7f2c9ad15cd683d",
    "idx": 43,
    "time": "2021-01-25T05:43:53.611Z",
    "type": "execution"
   },
   {
    "code": "# TEST\nall(res_q2a == res_q2a.sort_values('cand_name', ascending=False))",
    "id": "12450b664174465882f5bef9144c4487",
    "idx": 44,
    "time": "2021-01-25T05:43:53.613Z",
    "type": "execution"
   },
   {
    "code": "# TEST\nsorted(res_q2a['cmte_nm'].unique()) == ['CITIZENS TO ELECT DANIEL P ZUTLER FOR PRESIDENT', 'CONSTITUTIONAL COMMITTEE', 'JOE ZUCCOLO FOR CONGRESS', 'ZUKOWSKI FOR CONGRESS', 'ZUMWALT FOR CONGRESS']",
    "id": "f73d54ec6943420b8d57b05832095adc",
    "idx": 45,
    "time": "2021-01-25T05:43:53.614Z",
    "type": "execution"
   },
   {
    "code": "query_q2b = \"\"\"\nSELECT ..., ...\nFROM cand c1 ... JOIN comm c2 ON ...\n...\n...\n\"\"\"\n\n# BEGIN SOLUTION NO PROMPT\nquery_q2b = \"\"\"\nSELECT c1.cand_name, c2.cmte_nm\nFROM cand c1 LEFT OUTER JOIN comm c2 ON c1.cand_id = c2.cand_id\nORDER BY c1.cand_name DESC\nLIMIT 5\n\"\"\"\n# END SOLUTION\n\nres_q2b = pd.read_sql(query_q2b, engine)\nres_q2b",
    "id": "d2ecf3f1fca64761839070a18b571972",
    "idx": 47,
    "time": "2021-01-25T05:43:53.615Z",
    "type": "execution"
   },
   {
    "code": "# TEST\nres_q2b.shape == (5, 2)",
    "id": "b10a3be70f7d4a87af029a2a3472ae2a",
    "idx": 48,
    "time": "2021-01-25T05:43:53.616Z",
    "type": "execution"
   },
   {
    "code": "# TEST\nall(res_q2b == res_q2b.sort_values('cand_name', ascending=False))",
    "id": "fde48efa5d4b40d89fbc3ccf899175f8",
    "idx": 49,
    "time": "2021-01-25T05:43:53.618Z",
    "type": "execution"
   },
   {
    "code": "# TEST\nsorted(map(str, res_q2b['cmte_nm'].unique())) == ['CITIZENS TO ELECT DANIEL P ZUTLER FOR PRESIDENT', 'JOE ZUCCOLO FOR CONGRESS', 'None', 'ZUKOWSKI FOR CONGRESS', 'ZUMWALT FOR CONGRESS']",
    "id": "845b024b25ac409880aada1f15cc7d72",
    "idx": 50,
    "time": "2021-01-25T05:43:53.619Z",
    "type": "execution"
   },
   {
    "id": "c4bc4a5b8bfc432b8c5e74fc991e5fa2",
    "time": "2021-01-25T05:43:54.182Z",
    "type": "completion"
   },
   {
    "id": "c911802698174c259942f787b4cf3bbb",
    "time": "2021-01-25T05:43:54.201Z",
    "type": "completion"
   },
   {
    "id": "322661a09d684eae97b40313e53e0c83",
    "time": "2021-01-25T05:43:54.225Z",
    "type": "completion"
   },
   {
    "id": "b96c3a8ad77640c189c2762cfd688550",
    "time": "2021-01-25T05:43:54.227Z",
    "type": "completion"
   },
   {
    "id": "712afe4c9ac94136b8be5b8acc7764a0",
    "time": "2021-01-25T05:43:54.228Z",
    "type": "completion"
   },
   {
    "id": "e7448d088d8d4e369058f23cfb64c3a9",
    "time": "2021-01-25T05:43:54.296Z",
    "type": "completion"
   },
   {
    "id": "89882743cf3b4fac8768e228f6ec5a2c",
    "time": "2021-01-25T05:43:54.304Z",
    "type": "completion"
   },
   {
    "id": "cff4097e11ed44a68f58abf4c26399a5",
    "time": "2021-01-25T05:43:54.331Z",
    "type": "completion"
   },
   {
    "id": "8d20fc952c514ac794c11b8fbd4b0fd7",
    "time": "2021-01-25T05:43:54.333Z",
    "type": "completion"
   },
   {
    "id": "8c89a7d41a4944e4b1fd31b2968700f3",
    "time": "2021-01-25T05:43:54.335Z",
    "type": "completion"
   },
   {
    "id": "1078de0405f84f09a236c9b2785cd7de",
    "time": "2021-01-25T05:43:54.535Z",
    "type": "completion"
   },
   {
    "id": "028f21c0a18e4db68bde8556b4a6a7d6",
    "time": "2021-01-25T05:43:54.611Z",
    "type": "completion"
   },
   {
    "id": "e88ac31fef8245fca96a1c36dc142a20",
    "time": "2021-01-25T05:43:54.613Z",
    "type": "completion"
   },
   {
    "id": "c4799f492354455185a9579350df5366",
    "time": "2021-01-25T05:43:54.649Z",
    "type": "completion"
   },
   {
    "id": "1accf5d2230f4872be14d0340efdcb53",
    "time": "2021-01-25T05:43:54.650Z",
    "type": "completion"
   },
   {
    "id": "0962f0e561fd4a0b8c06d8795501abeb",
    "time": "2021-01-25T05:43:54.659Z",
    "type": "completion"
   },
   {
    "id": "588b4fee6b2e4112893d70d2adf9a83d",
    "time": "2021-01-25T05:43:54.660Z",
    "type": "completion"
   },
   {
    "id": "9d55beeb3a0d48698ac13fd8028b4210",
    "time": "2021-01-25T05:43:54.662Z",
    "type": "completion"
   },
   {
    "id": "db71f229c6b04cccab86d35c4d3365b8",
    "time": "2021-01-25T05:43:54.664Z",
    "type": "completion"
   },
   {
    "id": "b757a08cf4ac4f918d23587a1d33b260",
    "time": "2021-01-25T05:43:54.664Z",
    "type": "completion"
   },
   {
    "id": "9585906874134ad3861dc79c0c45eb78",
    "time": "2021-01-25T05:43:54.692Z",
    "type": "completion"
   },
   {
    "id": "2554438f9b824952b7f2c9ad15cd683d",
    "time": "2021-01-25T05:43:54.696Z",
    "type": "completion"
   },
   {
    "id": "12450b664174465882f5bef9144c4487",
    "time": "2021-01-25T05:43:54.696Z",
    "type": "completion"
   },
   {
    "id": "f73d54ec6943420b8d57b05832095adc",
    "time": "2021-01-25T05:43:54.696Z",
    "type": "completion"
   },
   {
    "id": "d2ecf3f1fca64761839070a18b571972",
    "time": "2021-01-25T05:43:54.697Z",
    "type": "completion"
   },
   {
    "id": "b10a3be70f7d4a87af029a2a3472ae2a",
    "time": "2021-01-25T05:43:54.697Z",
    "type": "completion"
   },
   {
    "id": "fde48efa5d4b40d89fbc3ccf899175f8",
    "time": "2021-01-25T05:43:54.697Z",
    "type": "completion"
   },
   {
    "id": "845b024b25ac409880aada1f15cc7d72",
    "time": "2021-01-25T05:43:54.698Z",
    "type": "completion"
   },
   {
    "code": "res_q1['name'].value_counts()",
    "id": "028f21c0a18e4db68bde8556b4a6a7d6",
    "idx": 28,
    "time": "2021-01-25T05:44:01.695Z",
    "type": "execution"
   },
   {
    "id": "028f21c0a18e4db68bde8556b4a6a7d6",
    "time": "2021-01-25T05:44:01.760Z",
    "type": "completion"
   },
   {
    "code": "import pandas as pd\nimport sqlalchemy\nfrom ds100_utils import fetch_and_cache\nfrom pathlib import Path",
    "id": "c4bc4a5b8bfc432b8c5e74fc991e5fa2",
    "idx": 3,
    "time": "2021-01-25T05:44:11.295Z",
    "type": "execution"
   },
   {
    "code": "db_url = 'https://s3.amazonaws.com/berkeley-ds100/fec_nyc.sqlite'\ndb_filename = 'fec_nyc.db'\ndata_dir = Path('data')\nfetch_and_cache(db_url, db_filename, data_dir = data_dir)\ndb_path = data_dir / db_filename",
    "id": "c911802698174c259942f787b4cf3bbb",
    "idx": 7,
    "time": "2021-01-25T05:44:11.297Z",
    "type": "execution"
   },
   {
    "code": "engine = sqlalchemy.create_engine(f\"sqlite:///{db_path}\")\nconnection = engine.connect()",
    "id": "322661a09d684eae97b40313e53e0c83",
    "idx": 9,
    "time": "2021-01-25T05:44:11.300Z",
    "type": "execution"
   },
   {
    "code": "engine.table_names()",
    "id": "b96c3a8ad77640c189c2762cfd688550",
    "idx": 11,
    "time": "2021-01-25T05:44:11.301Z",
    "type": "execution"
   },
   {
    "code": "for exp in connection.execute('SELECT sql FROM sqlite_master;'):\n    print(exp[0])",
    "id": "712afe4c9ac94136b8be5b8acc7764a0",
    "idx": 13,
    "time": "2021-01-25T05:44:11.303Z",
    "type": "execution"
   },
   {
    "code": "query = \"\"\"\nSELECT *\nFROM indiv_sample_nyc\nLIMIT 5\n\"\"\"\npd.read_sql(query, engine)",
    "id": "e7448d088d8d4e369058f23cfb64c3a9",
    "idx": 15,
    "time": "2021-01-25T05:44:11.305Z",
    "type": "execution"
   },
   {
    "code": "query = \"\"\"\nSELECT *\nFROM cand\nLIMIT 5\n\"\"\"\npd.read_sql(query, engine)",
    "id": "89882743cf3b4fac8768e228f6ec5a2c",
    "idx": 17,
    "time": "2021-01-25T05:44:11.306Z",
    "type": "execution"
   },
   {
    "code": "query = \"\"\"\nSELECT *\nFROM comm\nLIMIT 5\n\"\"\"\npd.read_sql(query, engine)",
    "id": "cff4097e11ed44a68f58abf4c26399a5",
    "idx": 19,
    "time": "2021-01-25T05:44:11.308Z",
    "type": "execution"
   },
   {
    "code": "query = \"\"\"\nSELECT cand_id, cand_name\nFROM cand\nWHERE cand_pty_affiliation = 'DEM'\nLIMIT 5\n\"\"\"\npd.read_sql(query,engine)",
    "id": "8d20fc952c514ac794c11b8fbd4b0fd7",
    "idx": 21,
    "time": "2021-01-25T05:44:11.310Z",
    "type": "execution"
   },
   {
    "code": "for exp in connection.execute('SELECT sql FROM sqlite_master WHERE name=\"indiv_sample_nyc\";'):\n    print(exp[0])",
    "id": "8c89a7d41a4944e4b1fd31b2968700f3",
    "idx": 23,
    "time": "2021-01-25T05:44:11.312Z",
    "type": "execution"
   },
   {
    "code": "query1 = \"\"\"\nSELECT \n    cmte_id,\n    transaction_amt,\n    name\nFROM indiv_sample_nyc\nWHERE name LIKE '%TRUMP%' AND name LIKE '%DONALD%'\n\"\"\"\n\nres_q1 = pd.read_sql(query1, engine)\nres_q1",
    "id": "1078de0405f84f09a236c9b2785cd7de",
    "idx": 25,
    "time": "2021-01-25T05:44:11.313Z",
    "type": "execution"
   },
   {
    "code": "res_q1['name'].value_counts()",
    "id": "028f21c0a18e4db68bde8556b4a6a7d6",
    "idx": 28,
    "time": "2021-01-25T05:44:11.315Z",
    "type": "execution"
   },
   {
    "code": "query_q1a = \"\"\"\nSELECT\n    ... \n    ... \n    ...\nFROM indiv_sample_nyc\nWHERE ...\n\"\"\"\n\n# BEGIN SOLUTION NO PROMPT\nquery_q1a = \"\"\"\nSELECT \n    cmte_id,\n    transaction_amt,\n    name\nFROM indiv_sample_nyc\nWHERE name LIKE '%TRUMP%' AND name LIKE '%DONALD%' AND name NOT LIKE '%INC%'\n\"\"\"\n# END SOLUTION\n\nres_q1a = pd.read_sql(query_q1a, engine)\nres_q1a",
    "id": "e88ac31fef8245fca96a1c36dc142a20",
    "idx": 30,
    "time": "2021-01-25T05:44:11.316Z",
    "type": "execution"
   },
   {
    "code": "# TEST\nres_q1a.shape == (142, 3)",
    "id": "c4799f492354455185a9579350df5366",
    "idx": 31,
    "time": "2021-01-25T05:44:11.317Z",
    "type": "execution"
   },
   {
    "code": "# TEST\nsorted(res_q1a['transaction_amt'].unique()) == [224, 514, 1000, 1029, 1216, 1713, 2000, 2426, 2460, 2529, 2531, 2536, 2544, 2574, 2587, 2600, 2620, 2679, 2692, 2693, 2700, 2991, 3063, 3347, 3360, 3371, 3499, 3548, 3706, 3954, 4049, 4127, 4164, 4591, 4931, 4958, 5000, 5297, 5574, 6197, 6250, 6990, 7401, 7519, 7990, 8735, 8896, 9000, 9013, 9106, 9651, 9752, 10000, 10418, 11023, 15000, 23775, 2000000, 10000000]",
    "id": "1accf5d2230f4872be14d0340efdcb53",
    "idx": 32,
    "time": "2021-01-25T05:44:11.318Z",
    "type": "execution"
   },
   {
    "code": "query_q1b = \"\"\"\n...\n\"\"\"\n\n# BEGIN SOLUTION NO PROMPT\nquery_q1b = \"\"\"\nSELECT \n    cmte_id,\n    SUM(transaction_amt) as total_amount,\n    COUNT(*) as num_donations,\n    cmte_nm\nFROM \n        (SELECT *\n        FROM indiv_sample_nyc, comm\n        WHERE indiv_sample_nyc.cmte_id == comm.cmte_id)\nWHERE name LIKE '%TRUMP%' AND name LIKE '%DONALD%' AND name NOT LIKE '%INC%'\nGROUP BY cmte_id\nORDER BY total_amount DESC\n\"\"\"\n# END SOLUTION\n\nres_q1b = pd.read_sql(query_q1b, engine)\nres_q1b",
    "id": "0962f0e561fd4a0b8c06d8795501abeb",
    "idx": 35,
    "time": "2021-01-25T05:44:11.320Z",
    "type": "execution"
   },
   {
    "code": "# TEST\nres_q1b.shape",
    "id": "588b4fee6b2e4112893d70d2adf9a83d",
    "idx": 36,
    "time": "2021-01-25T05:44:11.321Z",
    "type": "execution"
   },
   {
    "code": "# TEST\nprint(sorted(res_q1b['total_amount']))",
    "id": "9d55beeb3a0d48698ac13fd8028b4210",
    "idx": 37,
    "time": "2021-01-25T05:44:11.322Z",
    "type": "execution"
   },
   {
    "code": "# TEST\nprint(sorted(res_q1b['num_donations']))",
    "id": "db71f229c6b04cccab86d35c4d3365b8",
    "idx": 38,
    "time": "2021-01-25T05:44:11.323Z",
    "type": "execution"
   },
   {
    "code": "# TEST\nprint(sorted(res_q1b['cmte_nm']))",
    "id": "b757a08cf4ac4f918d23587a1d33b260",
    "idx": 39,
    "time": "2021-01-25T05:44:11.325Z",
    "type": "execution"
   },
   {
    "code": "query_q2a = \"\"\"\nSELECT ..., ...\nFROM cand c1 ... JOIN comm c2 ON ...\n...\n...\n\"\"\"\n\n# BEGIN SOLUTION NO PROMPT\nquery_q2a = \"\"\"\nSELECT c1.cand_name, c2.cmte_nm\nFROM cand c1 INNER JOIN comm c2 ON c1.cand_id = c2.cand_id\nORDER BY c1.cand_name DESC\nLIMIT 5\n\"\"\"\n# END SOLUTION\n\nres_q2a = pd.read_sql(query_q2a, engine)\nres_q2a",
    "id": "9585906874134ad3861dc79c0c45eb78",
    "idx": 42,
    "time": "2021-01-25T05:44:11.326Z",
    "type": "execution"
   },
   {
    "code": "# TEST\nres_q2a.shape == (5, 2)",
    "id": "2554438f9b824952b7f2c9ad15cd683d",
    "idx": 43,
    "time": "2021-01-25T05:44:11.327Z",
    "type": "execution"
   },
   {
    "code": "# TEST\nall(res_q2a == res_q2a.sort_values('cand_name', ascending=False))",
    "id": "12450b664174465882f5bef9144c4487",
    "idx": 44,
    "time": "2021-01-25T05:44:11.329Z",
    "type": "execution"
   },
   {
    "code": "# TEST\nsorted(res_q2a['cmte_nm'].unique()) == ['CITIZENS TO ELECT DANIEL P ZUTLER FOR PRESIDENT', 'CONSTITUTIONAL COMMITTEE', 'JOE ZUCCOLO FOR CONGRESS', 'ZUKOWSKI FOR CONGRESS', 'ZUMWALT FOR CONGRESS']",
    "id": "f73d54ec6943420b8d57b05832095adc",
    "idx": 45,
    "time": "2021-01-25T05:44:11.330Z",
    "type": "execution"
   },
   {
    "code": "query_q2b = \"\"\"\nSELECT ..., ...\nFROM cand c1 ... JOIN comm c2 ON ...\n...\n...\n\"\"\"\n\n# BEGIN SOLUTION NO PROMPT\nquery_q2b = \"\"\"\nSELECT c1.cand_name, c2.cmte_nm\nFROM cand c1 LEFT OUTER JOIN comm c2 ON c1.cand_id = c2.cand_id\nORDER BY c1.cand_name DESC\nLIMIT 5\n\"\"\"\n# END SOLUTION\n\nres_q2b = pd.read_sql(query_q2b, engine)\nres_q2b",
    "id": "d2ecf3f1fca64761839070a18b571972",
    "idx": 47,
    "time": "2021-01-25T05:44:11.331Z",
    "type": "execution"
   },
   {
    "code": "# TEST\nres_q2b.shape == (5, 2)",
    "id": "b10a3be70f7d4a87af029a2a3472ae2a",
    "idx": 48,
    "time": "2021-01-25T05:44:11.332Z",
    "type": "execution"
   },
   {
    "code": "# TEST\nall(res_q2b == res_q2b.sort_values('cand_name', ascending=False))",
    "id": "fde48efa5d4b40d89fbc3ccf899175f8",
    "idx": 49,
    "time": "2021-01-25T05:44:11.333Z",
    "type": "execution"
   },
   {
    "code": "# TEST\nsorted(map(str, res_q2b['cmte_nm'].unique())) == ['CITIZENS TO ELECT DANIEL P ZUTLER FOR PRESIDENT', 'JOE ZUCCOLO FOR CONGRESS', 'None', 'ZUKOWSKI FOR CONGRESS', 'ZUMWALT FOR CONGRESS']",
    "id": "845b024b25ac409880aada1f15cc7d72",
    "idx": 50,
    "time": "2021-01-25T05:44:11.335Z",
    "type": "execution"
   },
   {
    "id": "c4bc4a5b8bfc432b8c5e74fc991e5fa2",
    "time": "2021-01-25T05:44:11.799Z",
    "type": "completion"
   },
   {
    "id": "c911802698174c259942f787b4cf3bbb",
    "time": "2021-01-25T05:44:11.801Z",
    "type": "completion"
   },
   {
    "id": "322661a09d684eae97b40313e53e0c83",
    "time": "2021-01-25T05:44:11.839Z",
    "type": "completion"
   },
   {
    "id": "b96c3a8ad77640c189c2762cfd688550",
    "time": "2021-01-25T05:44:11.842Z",
    "type": "completion"
   },
   {
    "id": "712afe4c9ac94136b8be5b8acc7764a0",
    "time": "2021-01-25T05:44:11.863Z",
    "type": "completion"
   },
   {
    "id": "e7448d088d8d4e369058f23cfb64c3a9",
    "time": "2021-01-25T05:44:11.899Z",
    "type": "completion"
   },
   {
    "id": "89882743cf3b4fac8768e228f6ec5a2c",
    "time": "2021-01-25T05:44:11.934Z",
    "type": "completion"
   },
   {
    "id": "cff4097e11ed44a68f58abf4c26399a5",
    "time": "2021-01-25T05:44:11.963Z",
    "type": "completion"
   },
   {
    "id": "8d20fc952c514ac794c11b8fbd4b0fd7",
    "time": "2021-01-25T05:44:11.969Z",
    "type": "completion"
   },
   {
    "id": "8c89a7d41a4944e4b1fd31b2968700f3",
    "time": "2021-01-25T05:44:12.017Z",
    "type": "completion"
   },
   {
    "id": "1078de0405f84f09a236c9b2785cd7de",
    "time": "2021-01-25T05:44:12.228Z",
    "type": "completion"
   },
   {
    "id": "028f21c0a18e4db68bde8556b4a6a7d6",
    "time": "2021-01-25T05:44:12.232Z",
    "type": "completion"
   },
   {
    "id": "e88ac31fef8245fca96a1c36dc142a20",
    "time": "2021-01-25T05:44:12.537Z",
    "type": "completion"
   },
   {
    "id": "c4799f492354455185a9579350df5366",
    "time": "2021-01-25T05:44:12.539Z",
    "type": "completion"
   },
   {
    "id": "1accf5d2230f4872be14d0340efdcb53",
    "time": "2021-01-25T05:44:12.579Z",
    "type": "completion"
   },
   {
    "id": "0962f0e561fd4a0b8c06d8795501abeb",
    "time": "2021-01-25T05:44:12.692Z",
    "type": "completion"
   },
   {
    "id": "588b4fee6b2e4112893d70d2adf9a83d",
    "time": "2021-01-25T05:44:12.700Z",
    "type": "completion"
   },
   {
    "id": "9d55beeb3a0d48698ac13fd8028b4210",
    "time": "2021-01-25T05:44:12.721Z",
    "type": "completion"
   },
   {
    "id": "db71f229c6b04cccab86d35c4d3365b8",
    "time": "2021-01-25T05:44:12.726Z",
    "type": "completion"
   },
   {
    "id": "b757a08cf4ac4f918d23587a1d33b260",
    "time": "2021-01-25T05:44:12.730Z",
    "type": "completion"
   },
   {
    "id": "9585906874134ad3861dc79c0c45eb78",
    "time": "2021-01-25T05:44:12.789Z",
    "type": "completion"
   },
   {
    "id": "2554438f9b824952b7f2c9ad15cd683d",
    "time": "2021-01-25T05:44:12.791Z",
    "type": "completion"
   },
   {
    "id": "12450b664174465882f5bef9144c4487",
    "time": "2021-01-25T05:44:12.793Z",
    "type": "completion"
   },
   {
    "id": "f73d54ec6943420b8d57b05832095adc",
    "time": "2021-01-25T05:44:12.816Z",
    "type": "completion"
   },
   {
    "id": "d2ecf3f1fca64761839070a18b571972",
    "time": "2021-01-25T05:44:12.857Z",
    "type": "completion"
   },
   {
    "id": "b10a3be70f7d4a87af029a2a3472ae2a",
    "time": "2021-01-25T05:44:12.861Z",
    "type": "completion"
   },
   {
    "id": "fde48efa5d4b40d89fbc3ccf899175f8",
    "time": "2021-01-25T05:44:12.863Z",
    "type": "completion"
   },
   {
    "id": "845b024b25ac409880aada1f15cc7d72",
    "time": "2021-01-25T05:44:12.882Z",
    "type": "completion"
   },
   {
    "code": "query_q1b = \"\"\"\n...\n\"\"\"\n\n# BEGIN SOLUTION NO PROMPT\nquery_q1b = \"\"\"\nSELECT \n    cmte_id,\n    SUM(transaction_amt) as total_amount,\n    COUNT(*) as num_donations,\n    cmte_nm\nFROM \n        (SELECT *\n        FROM indiv_sample_nyc, comm\n        WHERE indiv_sample_nyc.cmte_id == comm.cmte_id)\nWHERE name LIKE '%TRUMP%' AND name LIKE '%DONALD%' AND name NOT LIKE '%INC%'\nGROUP BY cmte_id\nORDER BY total_amount DESC\n\"\"\"\n# END SOLUTION\n\nres_q1b = pd.read_sql(query_q1b, engine)\nres_q1b",
    "id": "0962f0e561fd4a0b8c06d8795501abeb",
    "idx": 35,
    "time": "2021-01-25T05:45:13.374Z",
    "type": "execution"
   },
   {
    "id": "0962f0e561fd4a0b8c06d8795501abeb",
    "time": "2021-01-25T05:45:13.772Z",
    "type": "completion"
   },
   {
    "code": "# TEST\nres_q1b.shape",
    "id": "588b4fee6b2e4112893d70d2adf9a83d",
    "idx": 36,
    "time": "2021-01-25T05:45:15.559Z",
    "type": "execution"
   },
   {
    "id": "588b4fee6b2e4112893d70d2adf9a83d",
    "time": "2021-01-25T05:45:15.616Z",
    "type": "completion"
   },
   {
    "code": "# TEST\nprint(sorted(res_q1b['total_amount']))",
    "id": "9d55beeb3a0d48698ac13fd8028b4210",
    "idx": 37,
    "time": "2021-01-25T05:45:15.963Z",
    "type": "execution"
   },
   {
    "id": "9d55beeb3a0d48698ac13fd8028b4210",
    "time": "2021-01-25T05:45:16.020Z",
    "type": "completion"
   },
   {
    "code": "# TEST\nprint(sorted(res_q1b['num_donations']))",
    "id": "db71f229c6b04cccab86d35c4d3365b8",
    "idx": 38,
    "time": "2021-01-25T05:45:16.303Z",
    "type": "execution"
   },
   {
    "id": "db71f229c6b04cccab86d35c4d3365b8",
    "time": "2021-01-25T05:45:16.361Z",
    "type": "completion"
   },
   {
    "code": "# TEST\nprint(sorted(res_q1b['cmte_nm']))",
    "id": "b757a08cf4ac4f918d23587a1d33b260",
    "idx": 39,
    "time": "2021-01-25T05:45:16.671Z",
    "type": "execution"
   },
   {
    "id": "b757a08cf4ac4f918d23587a1d33b260",
    "time": "2021-01-25T05:45:16.728Z",
    "type": "completion"
   },
   {
    "code": "query_q2b = \"\"\"\nSELECT ..., ...\nFROM cand c1 ... JOIN comm c2 ON ...\n...\n...\n\"\"\"\n\n# BEGIN SOLUTION NO PROMPT\nquery_q2b = \"\"\"\nSELECT c1.cand_name, c2.cmte_nm\nFROM cand c1 LEFT OUTER JOIN comm c2 ON c1.cand_id = c2.cand_id\nORDER BY c1.cand_name DESC\nLIMIT 5\n\"\"\"\n# END SOLUTION\n\nres_q2b = pd.read_sql(query_q2b, engine)\nres_q2b",
    "id": "d2ecf3f1fca64761839070a18b571972",
    "idx": 47,
    "time": "2021-01-25T05:46:03.797Z",
    "type": "execution"
   },
   {
    "id": "d2ecf3f1fca64761839070a18b571972",
    "time": "2021-01-25T05:46:03.947Z",
    "type": "completion"
   },
   {
    "code": "# TEST\nres_q2b.shape == (5, 2)",
    "id": "b10a3be70f7d4a87af029a2a3472ae2a",
    "idx": 48,
    "time": "2021-01-25T05:46:05.559Z",
    "type": "execution"
   },
   {
    "id": "b10a3be70f7d4a87af029a2a3472ae2a",
    "time": "2021-01-25T05:46:05.617Z",
    "type": "completion"
   },
   {
    "code": "# TEST\nall(res_q2b == res_q2b.sort_values('cand_name', ascending=False))",
    "id": "fde48efa5d4b40d89fbc3ccf899175f8",
    "idx": 49,
    "time": "2021-01-25T05:46:05.927Z",
    "type": "execution"
   },
   {
    "id": "fde48efa5d4b40d89fbc3ccf899175f8",
    "time": "2021-01-25T05:46:05.985Z",
    "type": "completion"
   },
   {
    "code": "# TEST\nsorted(map(str, res_q2b['cmte_nm'].unique())) == ['CITIZENS TO ELECT DANIEL P ZUTLER FOR PRESIDENT', 'JOE ZUCCOLO FOR CONGRESS', 'None', 'ZUKOWSKI FOR CONGRESS', 'ZUMWALT FOR CONGRESS']",
    "id": "845b024b25ac409880aada1f15cc7d72",
    "idx": 50,
    "time": "2021-01-25T05:46:06.267Z",
    "type": "execution"
   },
   {
    "id": "845b024b25ac409880aada1f15cc7d72",
    "time": "2021-01-25T05:46:06.324Z",
    "type": "completion"
   },
   {
    "code": "import pandas as pd\nimport sqlalchemy\nfrom ds100_utils import fetch_and_cache\nfrom pathlib import Path",
    "id": "c4bc4a5b8bfc432b8c5e74fc991e5fa2",
    "idx": 3,
    "time": "2021-01-25T05:46:45.138Z",
    "type": "execution"
   },
   {
    "code": "db_url = 'https://s3.amazonaws.com/berkeley-ds100/fec_nyc.sqlite'\ndb_filename = 'fec_nyc.db'\ndata_dir = Path('data')\nfetch_and_cache(db_url, db_filename, data_dir = data_dir)\ndb_path = data_dir / db_filename",
    "id": "c911802698174c259942f787b4cf3bbb",
    "idx": 6,
    "time": "2021-01-25T05:46:45.143Z",
    "type": "execution"
   },
   {
    "code": "engine = sqlalchemy.create_engine(f\"sqlite:///{db_path}\")\nconnection = engine.connect()",
    "id": "322661a09d684eae97b40313e53e0c83",
    "idx": 8,
    "time": "2021-01-25T05:46:45.145Z",
    "type": "execution"
   },
   {
    "code": "engine.table_names()",
    "id": "b96c3a8ad77640c189c2762cfd688550",
    "idx": 10,
    "time": "2021-01-25T05:46:45.146Z",
    "type": "execution"
   },
   {
    "code": "for exp in connection.execute('SELECT sql FROM sqlite_master;'):\n    print(exp[0])",
    "id": "712afe4c9ac94136b8be5b8acc7764a0",
    "idx": 12,
    "time": "2021-01-25T05:46:45.148Z",
    "type": "execution"
   },
   {
    "code": "query = \"\"\"\nSELECT *\nFROM indiv_sample_nyc\nLIMIT 5\n\"\"\"\npd.read_sql(query, engine)",
    "id": "e7448d088d8d4e369058f23cfb64c3a9",
    "idx": 14,
    "time": "2021-01-25T05:46:45.150Z",
    "type": "execution"
   },
   {
    "code": "query = \"\"\"\nSELECT *\nFROM cand\nLIMIT 5\n\"\"\"\npd.read_sql(query, engine)",
    "id": "89882743cf3b4fac8768e228f6ec5a2c",
    "idx": 16,
    "time": "2021-01-25T05:46:45.153Z",
    "type": "execution"
   },
   {
    "code": "query = \"\"\"\nSELECT *\nFROM comm\nLIMIT 5\n\"\"\"\npd.read_sql(query, engine)",
    "id": "cff4097e11ed44a68f58abf4c26399a5",
    "idx": 18,
    "time": "2021-01-25T05:46:45.155Z",
    "type": "execution"
   },
   {
    "code": "query = \"\"\"\nSELECT cand_id, cand_name\nFROM cand\nWHERE cand_pty_affiliation = 'DEM'\nLIMIT 5\n\"\"\"\npd.read_sql(query,engine)",
    "id": "8d20fc952c514ac794c11b8fbd4b0fd7",
    "idx": 20,
    "time": "2021-01-25T05:46:45.156Z",
    "type": "execution"
   },
   {
    "code": "for exp in connection.execute('SELECT sql FROM sqlite_master WHERE name=\"indiv_sample_nyc\";'):\n    print(exp[0])",
    "id": "8c89a7d41a4944e4b1fd31b2968700f3",
    "idx": 22,
    "time": "2021-01-25T05:46:45.158Z",
    "type": "execution"
   },
   {
    "code": "query1 = \"\"\"\nSELECT \n    cmte_id,\n    transaction_amt,\n    name\nFROM indiv_sample_nyc\nWHERE name LIKE '%TRUMP%' AND name LIKE '%DONALD%'\n\"\"\"\n\nres_q1 = pd.read_sql(query1, engine)\nres_q1",
    "id": "1078de0405f84f09a236c9b2785cd7de",
    "idx": 24,
    "time": "2021-01-25T05:46:45.159Z",
    "type": "execution"
   },
   {
    "code": "res_q1['name'].value_counts()",
    "id": "028f21c0a18e4db68bde8556b4a6a7d6",
    "idx": 27,
    "time": "2021-01-25T05:46:45.161Z",
    "type": "execution"
   },
   {
    "code": "query_q1a = \"\"\"\nSELECT\n    ... \n    ... \n    ...\nFROM indiv_sample_nyc\nWHERE ...\n\"\"\"\n\n# BEGIN SOLUTION NO PROMPT\nquery_q1a = \"\"\"\nSELECT \n    cmte_id,\n    transaction_amt,\n    name\nFROM indiv_sample_nyc\nWHERE name LIKE '%TRUMP%' AND name LIKE '%DONALD%' AND name NOT LIKE '%INC%'\n\"\"\"\n# END SOLUTION\n\nres_q1a = pd.read_sql(query_q1a, engine)\nres_q1a",
    "id": "e88ac31fef8245fca96a1c36dc142a20",
    "idx": 29,
    "time": "2021-01-25T05:46:45.162Z",
    "type": "execution"
   },
   {
    "code": "# TEST\nres_q1a.shape == (142, 3)",
    "id": "c4799f492354455185a9579350df5366",
    "idx": 30,
    "time": "2021-01-25T05:46:45.163Z",
    "type": "execution"
   },
   {
    "code": "# TEST\nsorted(res_q1a['transaction_amt'].unique()) == [224, 514, 1000, 1029, 1216, 1713, 2000, 2426, 2460, 2529, 2531, 2536, 2544, 2574, 2587, 2600, 2620, 2679, 2692, 2693, 2700, 2991, 3063, 3347, 3360, 3371, 3499, 3548, 3706, 3954, 4049, 4127, 4164, 4591, 4931, 4958, 5000, 5297, 5574, 6197, 6250, 6990, 7401, 7519, 7990, 8735, 8896, 9000, 9013, 9106, 9651, 9752, 10000, 10418, 11023, 15000, 23775, 2000000, 10000000]",
    "id": "1accf5d2230f4872be14d0340efdcb53",
    "idx": 31,
    "time": "2021-01-25T05:46:45.164Z",
    "type": "execution"
   },
   {
    "code": "query_q1b = \"\"\"\n...\n\"\"\"\n\n# BEGIN SOLUTION NO PROMPT\nquery_q1b = \"\"\"\nSELECT \n    cmte_id,\n    SUM(transaction_amt) as total_amount,\n    COUNT(*) as num_donations,\n    cmte_nm\nFROM \n        (SELECT *\n        FROM indiv_sample_nyc, comm\n        WHERE indiv_sample_nyc.cmte_id == comm.cmte_id)\nWHERE name LIKE '%TRUMP%' AND name LIKE '%DONALD%' AND name NOT LIKE '%INC%'\nGROUP BY cmte_id\nORDER BY total_amount DESC\n\"\"\"\n# END SOLUTION\n\nres_q1b = pd.read_sql(query_q1b, engine)\nres_q1b",
    "id": "0962f0e561fd4a0b8c06d8795501abeb",
    "idx": 34,
    "time": "2021-01-25T05:46:45.166Z",
    "type": "execution"
   },
   {
    "code": "# TEST\nres_q1b.shape",
    "id": "588b4fee6b2e4112893d70d2adf9a83d",
    "idx": 35,
    "time": "2021-01-25T05:46:45.168Z",
    "type": "execution"
   },
   {
    "code": "# TEST\nprint(sorted(res_q1b['total_amount']))",
    "id": "9d55beeb3a0d48698ac13fd8028b4210",
    "idx": 36,
    "time": "2021-01-25T05:46:45.169Z",
    "type": "execution"
   },
   {
    "code": "# TEST\nprint(sorted(res_q1b['num_donations']))",
    "id": "db71f229c6b04cccab86d35c4d3365b8",
    "idx": 37,
    "time": "2021-01-25T05:46:45.170Z",
    "type": "execution"
   },
   {
    "code": "# TEST\nprint(sorted(res_q1b['cmte_nm']))",
    "id": "b757a08cf4ac4f918d23587a1d33b260",
    "idx": 38,
    "time": "2021-01-25T05:46:45.171Z",
    "type": "execution"
   },
   {
    "code": "query_q2a = \"\"\"\nSELECT ..., ...\nFROM cand c1 ... JOIN comm c2 ON ...\n...\n...\n\"\"\"\n\n# BEGIN SOLUTION NO PROMPT\nquery_q2a = \"\"\"\nSELECT c1.cand_name, c2.cmte_nm\nFROM cand c1 INNER JOIN comm c2 ON c1.cand_id = c2.cand_id\nORDER BY c1.cand_name DESC\nLIMIT 5\n\"\"\"\n# END SOLUTION\n\nres_q2a = pd.read_sql(query_q2a, engine)\nres_q2a",
    "id": "9585906874134ad3861dc79c0c45eb78",
    "idx": 41,
    "time": "2021-01-25T05:46:45.173Z",
    "type": "execution"
   },
   {
    "code": "# TEST\nres_q2a.shape == (5, 2)",
    "id": "2554438f9b824952b7f2c9ad15cd683d",
    "idx": 42,
    "time": "2021-01-25T05:46:45.174Z",
    "type": "execution"
   },
   {
    "code": "# TEST\nall(res_q2a == res_q2a.sort_values('cand_name', ascending=False))",
    "id": "12450b664174465882f5bef9144c4487",
    "idx": 43,
    "time": "2021-01-25T05:46:45.175Z",
    "type": "execution"
   },
   {
    "code": "# TEST\nsorted(res_q2a['cmte_nm'].unique()) == ['CITIZENS TO ELECT DANIEL P ZUTLER FOR PRESIDENT', 'CONSTITUTIONAL COMMITTEE', 'JOE ZUCCOLO FOR CONGRESS', 'ZUKOWSKI FOR CONGRESS', 'ZUMWALT FOR CONGRESS']",
    "id": "f73d54ec6943420b8d57b05832095adc",
    "idx": 44,
    "time": "2021-01-25T05:46:45.176Z",
    "type": "execution"
   },
   {
    "code": "query_q2b = \"\"\"\nSELECT ..., ...\nFROM cand c1 ... JOIN comm c2 ON ...\n...\n...\n\"\"\"\n\n# BEGIN SOLUTION NO PROMPT\nquery_q2b = \"\"\"\nSELECT c1.cand_name, c2.cmte_nm\nFROM cand c1 LEFT OUTER JOIN comm c2 ON c1.cand_id = c2.cand_id\nORDER BY c1.cand_name DESC\nLIMIT 5\n\"\"\"\n# END SOLUTION\n\nres_q2b = pd.read_sql(query_q2b, engine)\nres_q2b",
    "id": "d2ecf3f1fca64761839070a18b571972",
    "idx": 46,
    "time": "2021-01-25T05:46:45.178Z",
    "type": "execution"
   },
   {
    "code": "# TEST\nres_q2b.shape == (5, 2)",
    "id": "b10a3be70f7d4a87af029a2a3472ae2a",
    "idx": 47,
    "time": "2021-01-25T05:46:45.179Z",
    "type": "execution"
   },
   {
    "code": "# TEST\nall(res_q2b == res_q2b.sort_values('cand_name', ascending = False))",
    "id": "fde48efa5d4b40d89fbc3ccf899175f8",
    "idx": 48,
    "time": "2021-01-25T05:46:45.180Z",
    "type": "execution"
   },
   {
    "code": "# TEST\nsorted(map(str, res_q2b['cmte_nm'].unique())) == ['CITIZENS TO ELECT DANIEL P ZUTLER FOR PRESIDENT', 'JOE ZUCCOLO FOR CONGRESS', 'None', 'ZUKOWSKI FOR CONGRESS', 'ZUMWALT FOR CONGRESS']",
    "id": "845b024b25ac409880aada1f15cc7d72",
    "idx": 49,
    "time": "2021-01-25T05:46:45.183Z",
    "type": "execution"
   },
   {
    "id": "c4bc4a5b8bfc432b8c5e74fc991e5fa2",
    "time": "2021-01-25T05:46:45.655Z",
    "type": "completion"
   },
   {
    "id": "c911802698174c259942f787b4cf3bbb",
    "time": "2021-01-25T05:46:45.660Z",
    "type": "completion"
   },
   {
    "id": "322661a09d684eae97b40313e53e0c83",
    "time": "2021-01-25T05:46:45.702Z",
    "type": "completion"
   },
   {
    "id": "b96c3a8ad77640c189c2762cfd688550",
    "time": "2021-01-25T05:46:45.706Z",
    "type": "completion"
   },
   {
    "id": "712afe4c9ac94136b8be5b8acc7764a0",
    "time": "2021-01-25T05:46:45.709Z",
    "type": "completion"
   },
   {
    "id": "e7448d088d8d4e369058f23cfb64c3a9",
    "time": "2021-01-25T05:46:45.750Z",
    "type": "completion"
   },
   {
    "id": "89882743cf3b4fac8768e228f6ec5a2c",
    "time": "2021-01-25T05:46:45.783Z",
    "type": "completion"
   },
   {
    "id": "cff4097e11ed44a68f58abf4c26399a5",
    "time": "2021-01-25T05:46:45.814Z",
    "type": "completion"
   },
   {
    "id": "8d20fc952c514ac794c11b8fbd4b0fd7",
    "time": "2021-01-25T05:46:45.844Z",
    "type": "completion"
   },
   {
    "id": "8c89a7d41a4944e4b1fd31b2968700f3",
    "time": "2021-01-25T05:46:45.845Z",
    "type": "completion"
   },
   {
    "id": "1078de0405f84f09a236c9b2785cd7de",
    "time": "2021-01-25T05:46:46.085Z",
    "type": "completion"
   },
   {
    "id": "028f21c0a18e4db68bde8556b4a6a7d6",
    "time": "2021-01-25T05:46:46.095Z",
    "type": "completion"
   },
   {
    "id": "e88ac31fef8245fca96a1c36dc142a20",
    "time": "2021-01-25T05:46:46.300Z",
    "type": "completion"
   },
   {
    "id": "c4799f492354455185a9579350df5366",
    "time": "2021-01-25T05:46:46.302Z",
    "type": "completion"
   },
   {
    "id": "1accf5d2230f4872be14d0340efdcb53",
    "time": "2021-01-25T05:46:46.324Z",
    "type": "completion"
   },
   {
    "id": "0962f0e561fd4a0b8c06d8795501abeb",
    "time": "2021-01-25T05:46:46.627Z",
    "type": "completion"
   },
   {
    "id": "588b4fee6b2e4112893d70d2adf9a83d",
    "time": "2021-01-25T05:46:46.650Z",
    "type": "completion"
   },
   {
    "id": "9d55beeb3a0d48698ac13fd8028b4210",
    "time": "2021-01-25T05:46:46.674Z",
    "type": "completion"
   },
   {
    "id": "db71f229c6b04cccab86d35c4d3365b8",
    "time": "2021-01-25T05:46:46.675Z",
    "type": "completion"
   },
   {
    "id": "b757a08cf4ac4f918d23587a1d33b260",
    "time": "2021-01-25T05:46:46.679Z",
    "type": "completion"
   },
   {
    "id": "9585906874134ad3861dc79c0c45eb78",
    "time": "2021-01-25T05:46:46.682Z",
    "type": "completion"
   },
   {
    "id": "2554438f9b824952b7f2c9ad15cd683d",
    "time": "2021-01-25T05:46:46.685Z",
    "type": "completion"
   },
   {
    "id": "12450b664174465882f5bef9144c4487",
    "time": "2021-01-25T05:46:46.714Z",
    "type": "completion"
   },
   {
    "id": "f73d54ec6943420b8d57b05832095adc",
    "time": "2021-01-25T05:46:46.715Z",
    "type": "completion"
   },
   {
    "id": "d2ecf3f1fca64761839070a18b571972",
    "time": "2021-01-25T05:46:46.739Z",
    "type": "completion"
   },
   {
    "id": "b10a3be70f7d4a87af029a2a3472ae2a",
    "time": "2021-01-25T05:46:46.741Z",
    "type": "completion"
   },
   {
    "id": "fde48efa5d4b40d89fbc3ccf899175f8",
    "time": "2021-01-25T05:46:46.771Z",
    "type": "completion"
   },
   {
    "id": "845b024b25ac409880aada1f15cc7d72",
    "time": "2021-01-25T05:46:46.772Z",
    "type": "completion"
   },
   {
    "code": "import pandas as pd\nimport sqlalchemy\nfrom ds100_utils import fetch_and_cache\nfrom pathlib import Path",
    "id": "218355e1a5a941b3997290154279c868",
    "idx": 3,
    "time": "2021-01-28T01:03:12.054Z",
    "type": "execution"
   },
   {
    "code": "db_url = 'https://s3.amazonaws.com/berkeley-ds100/fec_nyc.sqlite'\ndb_filename = 'fec_nyc.db'\ndata_dir = Path('data')\nfetch_and_cache(db_url, db_filename, data_dir = data_dir)\ndb_path = data_dir / db_filename",
    "id": "173f198b669d4a81a142488eb9a24416",
    "idx": 6,
    "time": "2021-01-28T01:03:12.064Z",
    "type": "execution"
   },
   {
    "code": "engine = sqlalchemy.create_engine(f\"sqlite:///{db_path}\")\nconnection = engine.connect()",
    "id": "553faf9ca2ac4f369b94765032d61db3",
    "idx": 8,
    "time": "2021-01-28T01:03:12.068Z",
    "type": "execution"
   },
   {
    "code": "engine.table_names()",
    "id": "888153de89994b37a18cc31bfcc93c28",
    "idx": 10,
    "time": "2021-01-28T01:03:12.072Z",
    "type": "execution"
   },
   {
    "code": "for exp in connection.execute('SELECT sql FROM sqlite_master;'):\n    print(exp[0])",
    "id": "6fbe5293b20d4dfba89ea8caca37b385",
    "idx": 12,
    "time": "2021-01-28T01:03:12.082Z",
    "type": "execution"
   },
   {
    "code": "query = \"\"\"\nSELECT *\nFROM indiv_sample_nyc\nLIMIT 5\n\"\"\"\npd.read_sql(query, engine)",
    "id": "47362b0563d74d7fb4e9280000438c33",
    "idx": 14,
    "time": "2021-01-28T01:03:12.086Z",
    "type": "execution"
   },
   {
    "code": "query = \"\"\"\nSELECT *\nFROM cand\nLIMIT 5\n\"\"\"\npd.read_sql(query, engine)",
    "id": "8c669681005d419ba327e2e4f3b92609",
    "idx": 16,
    "time": "2021-01-28T01:03:12.089Z",
    "type": "execution"
   },
   {
    "code": "query = \"\"\"\nSELECT *\nFROM comm\nLIMIT 5\n\"\"\"\npd.read_sql(query, engine)",
    "id": "fe9a1439728a494d926a23e278546798",
    "idx": 18,
    "time": "2021-01-28T01:03:12.093Z",
    "type": "execution"
   },
   {
    "code": "query = \"\"\"\nSELECT cand_id, cand_name\nFROM cand\nWHERE cand_pty_affiliation = 'DEM'\nLIMIT 5\n\"\"\"\npd.read_sql(query,engine)",
    "id": "b2c27f4df7f84a87839acddb15ce9a90",
    "idx": 20,
    "time": "2021-01-28T01:03:12.096Z",
    "type": "execution"
   },
   {
    "code": "for exp in connection.execute('SELECT sql FROM sqlite_master WHERE name=\"indiv_sample_nyc\";'):\n    print(exp[0])",
    "id": "77c9045ec0fb4aa480321f78a9a608a2",
    "idx": 22,
    "time": "2021-01-28T01:03:12.099Z",
    "type": "execution"
   },
   {
    "code": "query1 = \"\"\"\nSELECT \n    cmte_id,\n    transaction_amt,\n    name\nFROM indiv_sample_nyc\nWHERE name LIKE '%TRUMP%' AND name LIKE '%DONALD%'\n\"\"\"\n\nres_q1 = pd.read_sql(query1, engine)\nres_q1",
    "id": "c801cdc1643c402d8444dd682b527cd8",
    "idx": 24,
    "time": "2021-01-28T01:03:12.102Z",
    "type": "execution"
   },
   {
    "code": "res_q1['name'].value_counts()",
    "id": "73a34d08d7cd4785968a74d1618b794f",
    "idx": 27,
    "time": "2021-01-28T01:03:12.105Z",
    "type": "execution"
   },
   {
    "code": "query_q1a = \"\"\"\nSELECT\n    ... \n    ... \n    ...\nFROM indiv_sample_nyc\nWHERE ...\n\"\"\"\n\n# BEGIN SOLUTION NO PROMPT\nquery_q1a = \"\"\"\nSELECT \n    cmte_id,\n    transaction_amt,\n    name\nFROM indiv_sample_nyc\nWHERE name LIKE '%TRUMP%' AND name LIKE '%DONALD%' AND name NOT LIKE '%INC%'\n\"\"\"\n# END SOLUTION\n\nres_q1a = pd.read_sql(query_q1a, engine)\nres_q1a",
    "id": "41828ffd02ba479684349e476520384b",
    "idx": 29,
    "time": "2021-01-28T01:03:12.127Z",
    "type": "execution"
   },
   {
    "code": "# TEST\nres_q1a.shape == (142, 3)",
    "id": "9540c7425efa410a915ef39111a66ead",
    "idx": 30,
    "time": "2021-01-28T01:03:12.129Z",
    "type": "execution"
   },
   {
    "code": "# TEST\nsorted(res_q1a['transaction_amt'].unique()) == [224, 514, 1000, 1029, 1216, 1713, 2000, 2426, 2460, 2529, 2531, 2536, 2544, 2574, 2587, 2600, 2620, 2679, 2692, 2693, 2700, 2991, 3063, 3347, 3360, 3371, 3499, 3548, 3706, 3954, 4049, 4127, 4164, 4591, 4931, 4958, 5000, 5297, 5574, 6197, 6250, 6990, 7401, 7519, 7990, 8735, 8896, 9000, 9013, 9106, 9651, 9752, 10000, 10418, 11023, 15000, 23775, 2000000, 10000000]",
    "id": "4dcecce06f00486c8135a074ddaa8d7a",
    "idx": 31,
    "time": "2021-01-28T01:03:12.134Z",
    "type": "execution"
   },
   {
    "code": "query_q1b = \"\"\"\n...\n\"\"\"\n\n# BEGIN SOLUTION NO PROMPT\nquery_q1b = \"\"\"\nSELECT \n    cmte_id,\n    SUM(transaction_amt) as total_amount,\n    COUNT(*) as num_donations,\n    cmte_nm\nFROM \n        (SELECT *\n        FROM indiv_sample_nyc, comm\n        WHERE indiv_sample_nyc.cmte_id == comm.cmte_id)\nWHERE name LIKE '%TRUMP%' AND name LIKE '%DONALD%' AND name NOT LIKE '%INC%'\nGROUP BY cmte_id\nORDER BY total_amount DESC\n\"\"\"\n# END SOLUTION\n\nres_q1b = pd.read_sql(query_q1b, engine)\nres_q1b",
    "id": "b0c45a76deba4ced8234edf351edc9e4",
    "idx": 34,
    "time": "2021-01-28T01:03:12.136Z",
    "type": "execution"
   },
   {
    "code": "# TEST\nres_q1b.shape",
    "id": "819dfbdac7fb4618bc9be0d1c5b706b2",
    "idx": 35,
    "time": "2021-01-28T01:03:12.139Z",
    "type": "execution"
   },
   {
    "code": "# TEST\nprint(sorted(res_q1b['total_amount']))",
    "id": "8e16da733c8544fca6c15352948f6add",
    "idx": 36,
    "time": "2021-01-28T01:03:12.147Z",
    "type": "execution"
   },
   {
    "code": "# TEST\nprint(sorted(res_q1b['num_donations']))",
    "id": "8ecde3456c6544cd8d768299cfbcd493",
    "idx": 37,
    "time": "2021-01-28T01:03:12.149Z",
    "type": "execution"
   },
   {
    "code": "# TEST\nprint(sorted(res_q1b['cmte_nm']))",
    "id": "9ed7271d97f24b8386fcb5be88bc2c4b",
    "idx": 38,
    "time": "2021-01-28T01:03:12.151Z",
    "type": "execution"
   },
   {
    "code": "query_q2a = \"\"\"\nSELECT ..., ...\nFROM cand c1 ... JOIN comm c2 ON ...\n...\n...\n\"\"\"\n\n# BEGIN SOLUTION NO PROMPT\nquery_q2a = \"\"\"\nSELECT c1.cand_name, c2.cmte_nm\nFROM cand c1 INNER JOIN comm c2 ON c1.cand_id = c2.cand_id\nORDER BY c1.cand_name DESC\nLIMIT 5\n\"\"\"\n# END SOLUTION\n\nres_q2a = pd.read_sql(query_q2a, engine)\nres_q2a",
    "id": "c51548257a2048e48d08f03e802d80eb",
    "idx": 41,
    "time": "2021-01-28T01:03:12.161Z",
    "type": "execution"
   },
   {
    "code": "# TEST\nres_q2a.shape == (5, 2)",
    "id": "e278c7d7e1204b0388600c258e83eb5a",
    "idx": 42,
    "time": "2021-01-28T01:03:12.164Z",
    "type": "execution"
   },
   {
    "code": "# TEST\nall(res_q2a == res_q2a.sort_values('cand_name', ascending=False))",
    "id": "382d6259714a414383754f4dfddff07e",
    "idx": 43,
    "time": "2021-01-28T01:03:12.166Z",
    "type": "execution"
   },
   {
    "code": "# TEST\nsorted(res_q2a['cmte_nm'].unique()) == ['CITIZENS TO ELECT DANIEL P ZUTLER FOR PRESIDENT', 'CONSTITUTIONAL COMMITTEE', 'JOE ZUCCOLO FOR CONGRESS', 'ZUKOWSKI FOR CONGRESS', 'ZUMWALT FOR CONGRESS']",
    "id": "a501e3a6e02b4989b750775317f0b12a",
    "idx": 44,
    "time": "2021-01-28T01:03:12.169Z",
    "type": "execution"
   },
   {
    "code": "query_q2b = \"\"\"\nSELECT ..., ...\nFROM cand c1 ... JOIN comm c2 ON ...\n...\n...\n\"\"\"\n\n# BEGIN SOLUTION NO PROMPT\nquery_q2b = \"\"\"\nSELECT c1.cand_name, c2.cmte_nm\nFROM cand c1 LEFT OUTER JOIN comm c2 ON c1.cand_id = c2.cand_id\nORDER BY c1.cand_name DESC\nLIMIT 5\n\"\"\"\n# END SOLUTION\n\nres_q2b = pd.read_sql(query_q2b, engine)\nres_q2b",
    "id": "2324d2b9fa2e4a4b8ab9e6926d823ca0",
    "idx": 46,
    "time": "2021-01-28T01:03:12.172Z",
    "type": "execution"
   },
   {
    "code": "# TEST\nres_q2b.shape == (5, 2)",
    "id": "3a8ca4157d5b4969875e9c06b4249917",
    "idx": 47,
    "time": "2021-01-28T01:03:12.182Z",
    "type": "execution"
   },
   {
    "code": "# TEST\nall(res_q2b == res_q2b.sort_values('cand_name', ascending = False))",
    "id": "1ec81fd5a4444b619587ba8a9b9306da",
    "idx": 48,
    "time": "2021-01-28T01:03:12.185Z",
    "type": "execution"
   },
   {
    "code": "# TEST\nsorted(map(str, res_q2b['cmte_nm'].unique())) == ['CITIZENS TO ELECT DANIEL P ZUTLER FOR PRESIDENT', 'JOE ZUCCOLO FOR CONGRESS', 'None', 'ZUKOWSKI FOR CONGRESS', 'ZUMWALT FOR CONGRESS']",
    "id": "5070a673aa954360989f1004b69a99b6",
    "idx": 49,
    "time": "2021-01-28T01:03:12.187Z",
    "type": "execution"
   },
   {
    "id": "218355e1a5a941b3997290154279c868",
    "time": "2021-01-28T01:03:12.733Z",
    "type": "completion"
   },
   {
    "id": "173f198b669d4a81a142488eb9a24416",
    "time": "2021-01-28T01:03:12.739Z",
    "type": "completion"
   },
   {
    "id": "553faf9ca2ac4f369b94765032d61db3",
    "time": "2021-01-28T01:03:12.790Z",
    "type": "completion"
   },
   {
    "id": "888153de89994b37a18cc31bfcc93c28",
    "time": "2021-01-28T01:03:12.808Z",
    "type": "completion"
   },
   {
    "id": "6fbe5293b20d4dfba89ea8caca37b385",
    "time": "2021-01-28T01:03:12.828Z",
    "type": "completion"
   },
   {
    "id": "47362b0563d74d7fb4e9280000438c33",
    "time": "2021-01-28T01:03:12.903Z",
    "type": "completion"
   },
   {
    "id": "8c669681005d419ba327e2e4f3b92609",
    "time": "2021-01-28T01:03:12.977Z",
    "type": "completion"
   },
   {
    "id": "fe9a1439728a494d926a23e278546798",
    "time": "2021-01-28T01:03:13.094Z",
    "type": "completion"
   },
   {
    "id": "b2c27f4df7f84a87839acddb15ce9a90",
    "time": "2021-01-28T01:03:13.138Z",
    "type": "completion"
   },
   {
    "id": "77c9045ec0fb4aa480321f78a9a608a2",
    "time": "2021-01-28T01:03:13.145Z",
    "type": "completion"
   },
   {
    "id": "c801cdc1643c402d8444dd682b527cd8",
    "time": "2021-01-28T01:03:14.229Z",
    "type": "completion"
   },
   {
    "id": "73a34d08d7cd4785968a74d1618b794f",
    "time": "2021-01-28T01:03:14.330Z",
    "type": "completion"
   },
   {
    "id": "41828ffd02ba479684349e476520384b",
    "time": "2021-01-28T01:03:14.401Z",
    "type": "completion"
   },
   {
    "id": "9540c7425efa410a915ef39111a66ead",
    "time": "2021-01-28T01:03:14.433Z",
    "type": "completion"
   },
   {
    "id": "4dcecce06f00486c8135a074ddaa8d7a",
    "time": "2021-01-28T01:03:14.449Z",
    "type": "completion"
   },
   {
    "id": "b0c45a76deba4ced8234edf351edc9e4",
    "time": "2021-01-28T01:03:14.455Z",
    "type": "completion"
   },
   {
    "id": "819dfbdac7fb4618bc9be0d1c5b706b2",
    "time": "2021-01-28T01:03:14.487Z",
    "type": "completion"
   },
   {
    "id": "8e16da733c8544fca6c15352948f6add",
    "time": "2021-01-28T01:03:14.531Z",
    "type": "completion"
   },
   {
    "id": "8ecde3456c6544cd8d768299cfbcd493",
    "time": "2021-01-28T01:03:14.562Z",
    "type": "completion"
   },
   {
    "id": "9ed7271d97f24b8386fcb5be88bc2c4b",
    "time": "2021-01-28T01:03:14.565Z",
    "type": "completion"
   },
   {
    "id": "c51548257a2048e48d08f03e802d80eb",
    "time": "2021-01-28T01:03:14.611Z",
    "type": "completion"
   },
   {
    "id": "e278c7d7e1204b0388600c258e83eb5a",
    "time": "2021-01-28T01:03:14.617Z",
    "type": "completion"
   },
   {
    "id": "382d6259714a414383754f4dfddff07e",
    "time": "2021-01-28T01:03:14.625Z",
    "type": "completion"
   },
   {
    "id": "a501e3a6e02b4989b750775317f0b12a",
    "time": "2021-01-28T01:03:14.630Z",
    "type": "completion"
   },
   {
    "id": "2324d2b9fa2e4a4b8ab9e6926d823ca0",
    "time": "2021-01-28T01:03:14.639Z",
    "type": "completion"
   },
   {
    "id": "3a8ca4157d5b4969875e9c06b4249917",
    "time": "2021-01-28T01:03:14.653Z",
    "type": "completion"
   },
   {
    "id": "1ec81fd5a4444b619587ba8a9b9306da",
    "time": "2021-01-28T01:03:14.655Z",
    "type": "completion"
   },
   {
    "id": "5070a673aa954360989f1004b69a99b6",
    "time": "2021-01-28T01:03:14.670Z",
    "type": "completion"
   },
   {
    "code": "import pandas as pd\nimport sqlalchemy\nfrom ds100_utils import fetch_and_cache\nfrom pathlib import Path",
    "id": "1ce09992ef214abfb58ea5942b156987",
    "idx": 3,
    "time": "2021-01-28T01:47:04.227Z",
    "type": "execution"
   },
   {
    "code": "db_url = 'https://s3.amazonaws.com/berkeley-ds100/fec_nyc.sqlite'\ndb_filename = 'fec_nyc.db'\ndata_dir = Path('data')\nfetch_and_cache(db_url, db_filename, data_dir = data_dir)\ndb_path = data_dir / db_filename",
    "id": "9e118a6b2aa0489985c14fdfbedd27d8",
    "idx": 6,
    "time": "2021-01-28T01:47:04.235Z",
    "type": "execution"
   },
   {
    "code": "engine = sqlalchemy.create_engine(f\"sqlite:///{db_path}\")\nconnection = engine.connect()",
    "id": "f14010edc5474303be5702d5927dcb0f",
    "idx": 8,
    "time": "2021-01-28T01:47:04.237Z",
    "type": "execution"
   },
   {
    "code": "engine.table_names()",
    "id": "c4fc7cd320e9435896a7760e64c7bec3",
    "idx": 10,
    "time": "2021-01-28T01:47:04.239Z",
    "type": "execution"
   },
   {
    "code": "for exp in connection.execute('SELECT sql FROM sqlite_master;'):\n    print(exp[0])",
    "id": "95feec065ee0491680cc289ff4699712",
    "idx": 12,
    "time": "2021-01-28T01:47:04.243Z",
    "type": "execution"
   },
   {
    "code": "query = \"\"\"\nSELECT *\nFROM indiv_sample_nyc\nLIMIT 5\n\"\"\"\npd.read_sql(query, engine)",
    "id": "641de41066fd40fbb51abf231fda9877",
    "idx": 14,
    "time": "2021-01-28T01:47:04.247Z",
    "type": "execution"
   },
   {
    "code": "query = \"\"\"\nSELECT *\nFROM cand\nLIMIT 5\n\"\"\"\npd.read_sql(query, engine)",
    "id": "d8c328fc2da34fda9243b25252d09116",
    "idx": 16,
    "time": "2021-01-28T01:47:04.249Z",
    "type": "execution"
   },
   {
    "code": "query = \"\"\"\nSELECT *\nFROM comm\nLIMIT 5\n\"\"\"\npd.read_sql(query, engine)",
    "id": "560b75bccc0c44a8b33a377132c547a2",
    "idx": 18,
    "time": "2021-01-28T01:47:04.256Z",
    "type": "execution"
   },
   {
    "code": "query = \"\"\"\nSELECT cand_id, cand_name\nFROM cand\nWHERE cand_pty_affiliation = 'DEM'\nLIMIT 5\n\"\"\"\npd.read_sql(query,engine)",
    "id": "512f593f67374cd991ed8e6c130379b8",
    "idx": 20,
    "time": "2021-01-28T01:47:04.260Z",
    "type": "execution"
   },
   {
    "code": "for exp in connection.execute('SELECT sql FROM sqlite_master WHERE name=\"indiv_sample_nyc\";'):\n    print(exp[0])",
    "id": "fdf84aa43e0b42618d656ba9627b7594",
    "idx": 22,
    "time": "2021-01-28T01:47:04.262Z",
    "type": "execution"
   },
   {
    "code": "query1 = \"\"\"\nSELECT \n    cmte_id,\n    transaction_amt,\n    name\nFROM indiv_sample_nyc\nWHERE name LIKE '%TRUMP%' AND name LIKE '%DONALD%'\n\"\"\"\n\nres_q1 = pd.read_sql(query1, engine)\nres_q1",
    "id": "ec7a6e224b154c7084904270889d0c91",
    "idx": 24,
    "time": "2021-01-28T01:47:04.265Z",
    "type": "execution"
   },
   {
    "code": "res_q1['name'].value_counts()",
    "id": "31ff40925bb644309fbab1523f66491e",
    "idx": 27,
    "time": "2021-01-28T01:47:04.268Z",
    "type": "execution"
   },
   {
    "code": "query_q1a = \"\"\"\nSELECT\n    ... \n    ... \n    ...\nFROM indiv_sample_nyc\nWHERE ...\n\"\"\"\n\n# BEGIN SOLUTION NO PROMPT\nquery_q1a = \"\"\"\nSELECT \n    cmte_id,\n    transaction_amt,\n    name\nFROM indiv_sample_nyc\nWHERE name LIKE '%TRUMP%' AND name LIKE '%DONALD%' AND name NOT LIKE '%INC%'\n\"\"\"\n# END SOLUTION\n\nres_q1a = pd.read_sql(query_q1a, engine)\nres_q1a",
    "id": "727dd928921849468ea937f2f0ecc59d",
    "idx": 29,
    "time": "2021-01-28T01:47:04.270Z",
    "type": "execution"
   },
   {
    "code": "# TEST\nres_q1a.shape == (142, 3)",
    "id": "c14b5d7b9aad4a85a15f90fbf8b91f57",
    "idx": 30,
    "time": "2021-01-28T01:47:04.271Z",
    "type": "execution"
   },
   {
    "code": "# TEST\nsorted(res_q1a['transaction_amt'].unique()) == [224, 514, 1000, 1029, 1216, 1713, 2000, 2426, 2460, 2529, 2531, 2536, 2544, 2574, 2587, 2600, 2620, 2679, 2692, 2693, 2700, 2991, 3063, 3347, 3360, 3371, 3499, 3548, 3706, 3954, 4049, 4127, 4164, 4591, 4931, 4958, 5000, 5297, 5574, 6197, 6250, 6990, 7401, 7519, 7990, 8735, 8896, 9000, 9013, 9106, 9651, 9752, 10000, 10418, 11023, 15000, 23775, 2000000, 10000000]",
    "id": "4e2c47ba89344af89582dc995a2da920",
    "idx": 31,
    "time": "2021-01-28T01:47:04.275Z",
    "type": "execution"
   },
   {
    "code": "query_q1b = \"\"\"\n...\n\"\"\"\n\n# BEGIN SOLUTION NO PROMPT\nquery_q1b = \"\"\"\nSELECT \n    cmte_id,\n    SUM(transaction_amt) as total_amount,\n    COUNT(*) as num_donations,\n    cmte_nm\nFROM \n        (SELECT *\n        FROM indiv_sample_nyc, comm\n        WHERE indiv_sample_nyc.cmte_id == comm.cmte_id)\nWHERE name LIKE '%TRUMP%' AND name LIKE '%DONALD%' AND name NOT LIKE '%INC%'\nGROUP BY cmte_id\nORDER BY total_amount DESC\n\"\"\"\n# END SOLUTION\n\nres_q1b = pd.read_sql(query_q1b, engine)\nres_q1b",
    "id": "c918159c803044a583a4229ed37aa8a2",
    "idx": 34,
    "time": "2021-01-28T01:47:04.282Z",
    "type": "execution"
   },
   {
    "code": "# TEST\nres_q1b.shape",
    "id": "eccb9aaf600a49d4bf4c090246ea6bf1",
    "idx": 35,
    "time": "2021-01-28T01:47:04.285Z",
    "type": "execution"
   },
   {
    "code": "# TEST\nprint(sorted(res_q1b['total_amount']))",
    "id": "62be5f228b884fb489827d63b415f150",
    "idx": 36,
    "time": "2021-01-28T01:47:04.287Z",
    "type": "execution"
   },
   {
    "code": "# TEST\nprint(sorted(res_q1b['num_donations']))",
    "id": "f8e643b2a1fd4549b270721ee8758dba",
    "idx": 37,
    "time": "2021-01-28T01:47:04.289Z",
    "type": "execution"
   },
   {
    "code": "# TEST\nprint(sorted(res_q1b['cmte_nm']))",
    "id": "cfb2f6b99b614e1781e1122c3075ee1f",
    "idx": 38,
    "time": "2021-01-28T01:47:04.290Z",
    "type": "execution"
   },
   {
    "code": "query_q2a = \"\"\"\nSELECT ..., ...\nFROM cand c1 ... JOIN comm c2 ON ...\n...\n...\n\"\"\"\n\n# BEGIN SOLUTION NO PROMPT\nquery_q2a = \"\"\"\nSELECT c1.cand_name, c2.cmte_nm\nFROM cand c1 INNER JOIN comm c2 ON c1.cand_id = c2.cand_id\nORDER BY c1.cand_name DESC\nLIMIT 5\n\"\"\"\n# END SOLUTION\n\nres_q2a = pd.read_sql(query_q2a, engine)\nres_q2a",
    "id": "4c25cd3d7b004a2482c74bbc718b320f",
    "idx": 41,
    "time": "2021-01-28T01:47:04.293Z",
    "type": "execution"
   },
   {
    "code": "# TEST\nres_q2a.shape == (5, 2)",
    "id": "71cd4a0761c24e629df4f42f6e9a02ac",
    "idx": 42,
    "time": "2021-01-28T01:47:04.296Z",
    "type": "execution"
   },
   {
    "code": "# TEST\nall(res_q2a == res_q2a.sort_values('cand_name', ascending=False))",
    "id": "87cef72252db404c8d37c7cd152369af",
    "idx": 43,
    "time": "2021-01-28T01:47:04.298Z",
    "type": "execution"
   },
   {
    "code": "# TEST\nsorted(res_q2a['cmte_nm'].unique()) == ['CITIZENS TO ELECT DANIEL P ZUTLER FOR PRESIDENT', 'CONSTITUTIONAL COMMITTEE', 'JOE ZUCCOLO FOR CONGRESS', 'ZUKOWSKI FOR CONGRESS', 'ZUMWALT FOR CONGRESS']",
    "id": "c9c3b4ab10e543ae8124c38209600e35",
    "idx": 44,
    "time": "2021-01-28T01:47:04.300Z",
    "type": "execution"
   },
   {
    "code": "query_q2b = \"\"\"\nSELECT ..., ...\nFROM cand c1 ... JOIN comm c2 ON ...\n...\n...\n\"\"\"\n\n# BEGIN SOLUTION NO PROMPT\nquery_q2b = \"\"\"\nSELECT c1.cand_name, c2.cmte_nm\nFROM cand c1 LEFT OUTER JOIN comm c2 ON c1.cand_id = c2.cand_id\nORDER BY c1.cand_name DESC\nLIMIT 5\n\"\"\"\n# END SOLUTION\n\nres_q2b = pd.read_sql(query_q2b, engine)\nres_q2b",
    "id": "f7c3fdf77154482880b5cb9b80ab562f",
    "idx": 46,
    "time": "2021-01-28T01:47:04.301Z",
    "type": "execution"
   },
   {
    "code": "# TEST\nres_q2b.shape == (5, 2)",
    "id": "1c5f3b40880545b585ded150758f0d65",
    "idx": 47,
    "time": "2021-01-28T01:47:04.303Z",
    "type": "execution"
   },
   {
    "code": "# TEST\nall(res_q2b == res_q2b.sort_values('cand_name', ascending = False))",
    "id": "e8fda65aa2cd4a43b0a8d95690da7cd2",
    "idx": 48,
    "time": "2021-01-28T01:47:04.304Z",
    "type": "execution"
   },
   {
    "code": "# TEST\nsorted(map(str, res_q2b['cmte_nm'].unique())) == ['CITIZENS TO ELECT DANIEL P ZUTLER FOR PRESIDENT', 'JOE ZUCCOLO FOR CONGRESS', 'None', 'ZUKOWSKI FOR CONGRESS', 'ZUMWALT FOR CONGRESS']",
    "id": "c93d8c8645d0421ebaaa02fdcb7f4142",
    "idx": 49,
    "time": "2021-01-28T01:47:04.306Z",
    "type": "execution"
   },
   {
    "id": "1ce09992ef214abfb58ea5942b156987",
    "time": "2021-01-28T01:47:04.806Z",
    "type": "completion"
   },
   {
    "id": "9e118a6b2aa0489985c14fdfbedd27d8",
    "time": "2021-01-28T01:47:04.882Z",
    "type": "completion"
   },
   {
    "id": "f14010edc5474303be5702d5927dcb0f",
    "time": "2021-01-28T01:47:04.891Z",
    "type": "completion"
   },
   {
    "id": "c4fc7cd320e9435896a7760e64c7bec3",
    "time": "2021-01-28T01:47:04.899Z",
    "type": "completion"
   },
   {
    "id": "95feec065ee0491680cc289ff4699712",
    "time": "2021-01-28T01:47:04.904Z",
    "type": "completion"
   },
   {
    "id": "641de41066fd40fbb51abf231fda9877",
    "time": "2021-01-28T01:47:05.105Z",
    "type": "completion"
   },
   {
    "id": "d8c328fc2da34fda9243b25252d09116",
    "time": "2021-01-28T01:47:05.134Z",
    "type": "completion"
   },
   {
    "id": "560b75bccc0c44a8b33a377132c547a2",
    "time": "2021-01-28T01:47:05.158Z",
    "type": "completion"
   },
   {
    "id": "512f593f67374cd991ed8e6c130379b8",
    "time": "2021-01-28T01:47:05.169Z",
    "type": "completion"
   },
   {
    "id": "fdf84aa43e0b42618d656ba9627b7594",
    "time": "2021-01-28T01:47:05.305Z",
    "type": "completion"
   },
   {
    "id": "ec7a6e224b154c7084904270889d0c91",
    "time": "2021-01-28T01:47:05.340Z",
    "type": "completion"
   },
   {
    "id": "31ff40925bb644309fbab1523f66491e",
    "time": "2021-01-28T01:47:05.346Z",
    "type": "completion"
   },
   {
    "id": "727dd928921849468ea937f2f0ecc59d",
    "time": "2021-01-28T01:47:05.557Z",
    "type": "completion"
   },
   {
    "id": "c14b5d7b9aad4a85a15f90fbf8b91f57",
    "time": "2021-01-28T01:47:05.560Z",
    "type": "completion"
   },
   {
    "id": "4e2c47ba89344af89582dc995a2da920",
    "time": "2021-01-28T01:47:05.626Z",
    "type": "completion"
   },
   {
    "id": "c918159c803044a583a4229ed37aa8a2",
    "time": "2021-01-28T01:47:05.840Z",
    "type": "completion"
   },
   {
    "id": "eccb9aaf600a49d4bf4c090246ea6bf1",
    "time": "2021-01-28T01:47:05.859Z",
    "type": "completion"
   },
   {
    "id": "62be5f228b884fb489827d63b415f150",
    "time": "2021-01-28T01:47:05.864Z",
    "type": "completion"
   },
   {
    "id": "f8e643b2a1fd4549b270721ee8758dba",
    "time": "2021-01-28T01:47:05.867Z",
    "type": "completion"
   },
   {
    "id": "cfb2f6b99b614e1781e1122c3075ee1f",
    "time": "2021-01-28T01:47:05.898Z",
    "type": "completion"
   },
   {
    "id": "4c25cd3d7b004a2482c74bbc718b320f",
    "time": "2021-01-28T01:47:05.968Z",
    "type": "completion"
   },
   {
    "id": "71cd4a0761c24e629df4f42f6e9a02ac",
    "time": "2021-01-28T01:47:05.978Z",
    "type": "completion"
   },
   {
    "id": "87cef72252db404c8d37c7cd152369af",
    "time": "2021-01-28T01:47:05.986Z",
    "type": "completion"
   },
   {
    "id": "c9c3b4ab10e543ae8124c38209600e35",
    "time": "2021-01-28T01:47:06.025Z",
    "type": "completion"
   },
   {
    "id": "f7c3fdf77154482880b5cb9b80ab562f",
    "time": "2021-01-28T01:47:06.036Z",
    "type": "completion"
   },
   {
    "id": "1c5f3b40880545b585ded150758f0d65",
    "time": "2021-01-28T01:47:06.040Z",
    "type": "completion"
   },
   {
    "id": "e8fda65aa2cd4a43b0a8d95690da7cd2",
    "time": "2021-01-28T01:47:06.055Z",
    "type": "completion"
   },
   {
    "id": "c93d8c8645d0421ebaaa02fdcb7f4142",
    "time": "2021-01-28T01:47:06.105Z",
    "type": "completion"
   },
   {
    "code": "from IPython.display import YouTubeVideo\nYouTubeVideo(\"bAP9dxCdyrc\")",
    "id": "0aae34db0a5149f78f1429f7bf6ed0d3",
    "idx": 4,
    "time": "2021-01-28T07:13:20.171Z",
    "type": "execution"
   },
   {
    "id": "0aae34db0a5149f78f1429f7bf6ed0d3",
    "time": "2021-01-28T07:13:21.604Z",
    "type": "completion"
   },
   {
    "code": "# Initialize Otter\nimport otter\ngrader = otter.Notebook(\"lab02.ipynb\")",
    "id": "df8b63123c11461c99ec095e93b3add5",
    "idx": 0,
    "time": "2021-02-02T22:57:17.651Z",
    "type": "execution"
   },
   {
    "code": "# Initialize Otter\nimport otter\ngrader = otter.Notebook(\"lab02.ipynb\")",
    "id": "b472f6cb538748ea89b5b5fffc3a730c",
    "idx": 0,
    "time": "2021-02-02T22:57:49.893Z",
    "type": "execution"
   },
   {
    "code": "# Initialize Otter\nimport otter\ngrader = otter.Notebook(\"lab02.ipynb\")",
    "id": "54a680c47c85492696a211efdd3bed6b",
    "idx": 0,
    "time": "2021-02-02T22:59:16.393Z",
    "type": "execution"
   },
   {
    "id": "54a680c47c85492696a211efdd3bed6b",
    "time": "2021-02-02T22:59:16.456Z",
    "type": "completion"
   },
   {
    "code": "from IPython.display import YouTubeVideo\nYouTubeVideo(\"bAP9dxCdyrc\")",
    "id": "823588faebec49ca8a0e16cf1e530308",
    "idx": 4,
    "time": "2021-02-02T22:59:18.079Z",
    "type": "execution"
   },
   {
    "id": "823588faebec49ca8a0e16cf1e530308",
    "time": "2021-02-02T22:59:18.215Z",
    "type": "completion"
   },
   {
    "code": "import pandas as pd\nimport sqlalchemy\nfrom ds100_utils import fetch_and_cache\nfrom pathlib import Path",
    "id": "110664e1ce3c49e8842b1723bf5fe008",
    "idx": 5,
    "time": "2021-02-02T22:59:18.798Z",
    "type": "execution"
   },
   {
    "id": "110664e1ce3c49e8842b1723bf5fe008",
    "time": "2021-02-02T22:59:18.856Z",
    "type": "completion"
   },
   {
    "code": "db_url = 'https://s3.amazonaws.com/berkeley-ds100/fec_nyc.sqlite'\ndb_filename = 'fec_nyc.db'\ndata_dir = Path('data')\nfetch_and_cache(db_url, db_filename, data_dir = data_dir)\ndb_path = data_dir / db_filename",
    "id": "94fd60672eb24df0a81a9c3cde00c22a",
    "idx": 8,
    "time": "2021-02-02T22:59:20.975Z",
    "type": "execution"
   },
   {
    "id": "94fd60672eb24df0a81a9c3cde00c22a",
    "time": "2021-02-02T22:59:23.415Z",
    "type": "completion"
   },
   {
    "code": "engine = sqlalchemy.create_engine(f\"sqlite:///{db_path}\")\nconnection = engine.connect()",
    "id": "aea661fac1924c27995173b677edeb3f",
    "idx": 10,
    "time": "2021-02-02T22:59:25.351Z",
    "type": "execution"
   },
   {
    "id": "aea661fac1924c27995173b677edeb3f",
    "time": "2021-02-02T22:59:25.461Z",
    "type": "completion"
   },
   {
    "code": "engine.table_names()",
    "id": "d707bf0a0935439b802bd3942da8be90",
    "idx": 12,
    "time": "2021-02-02T22:59:28.215Z",
    "type": "execution"
   },
   {
    "id": "d707bf0a0935439b802bd3942da8be90",
    "time": "2021-02-02T22:59:28.284Z",
    "type": "completion"
   },
   {
    "code": "for exp in connection.execute('SELECT sql FROM sqlite_master;'):\n    print(exp[0])",
    "id": "f8793be6b3fa4faabf4dec2e9dd620f9",
    "idx": 14,
    "time": "2021-02-02T22:59:43.528Z",
    "type": "execution"
   },
   {
    "id": "f8793be6b3fa4faabf4dec2e9dd620f9",
    "time": "2021-02-02T22:59:43.605Z",
    "type": "completion"
   },
   {
    "code": "query = \"\"\"\nSELECT *\nFROM indiv_sample_nyc\nLIMIT 5\n\"\"\"\npd.read_sql(query, engine)",
    "id": "cc54edab1a73485e833b3810e14a80be",
    "idx": 16,
    "time": "2021-02-02T22:59:53.823Z",
    "type": "execution"
   },
   {
    "id": "cc54edab1a73485e833b3810e14a80be",
    "time": "2021-02-02T22:59:53.920Z",
    "type": "completion"
   },
   {
    "code": "query = \"\"\"\nSELECT *\nFROM cand\nLIMIT 5\n\"\"\"\npd.read_sql(query, engine)",
    "id": "6f586fe61aab469b9fc423efd9048405",
    "idx": 18,
    "time": "2021-02-02T22:59:57.069Z",
    "type": "execution"
   },
   {
    "id": "6f586fe61aab469b9fc423efd9048405",
    "time": "2021-02-02T22:59:57.173Z",
    "type": "completion"
   },
   {
    "code": "query = \"\"\"\nSELECT *\nFROM comm\nLIMIT 5\n\"\"\"\npd.read_sql(query, engine)",
    "id": "ad3fd0d690a640518abb625bbd6949a2",
    "idx": 20,
    "time": "2021-02-02T22:59:59.157Z",
    "type": "execution"
   },
   {
    "id": "ad3fd0d690a640518abb625bbd6949a2",
    "time": "2021-02-02T22:59:59.260Z",
    "type": "completion"
   },
   {
    "code": "query = \"\"\"\nSELECT cand_id, cand_name\nFROM cand\nWHERE cand_pty_affiliation = 'DEM'\nLIMIT 5\n\"\"\"\npd.read_sql(query,engine)",
    "id": "6a85f19371e74ce5811b4622765d683b",
    "idx": 22,
    "time": "2021-02-02T23:00:01.013Z",
    "type": "execution"
   },
   {
    "id": "6a85f19371e74ce5811b4622765d683b",
    "time": "2021-02-02T23:00:01.093Z",
    "type": "completion"
   },
   {
    "code": "res_q1['name'].value_counts()",
    "id": "b88937e4fbe04157abede895319cb58a",
    "idx": 29,
    "time": "2021-02-02T23:11:24.401Z",
    "type": "execution"
   },
   {
    "id": "b88937e4fbe04157abede895319cb58a",
    "time": "2021-02-02T23:11:24.619Z",
    "type": "completion"
   },
   {
    "code": "query1 = \"\"\"\nSELECT \n    cmte_id,\n    transaction_amt,\n    name\nFROM indiv_sample_nyc\nWHERE name LIKE '%TRUMP%' AND name LIKE '%DONALD%'\n\"\"\"\n\nres_q1 = pd.read_sql(query1, engine)\nres_q1",
    "id": "1adb5cf0abb040078eebceffa36969e5",
    "idx": 26,
    "time": "2021-02-02T23:11:27.893Z",
    "type": "execution"
   },
   {
    "id": "1adb5cf0abb040078eebceffa36969e5",
    "time": "2021-02-02T23:11:28.559Z",
    "type": "completion"
   },
   {
    "code": "res_q1['name'].value_counts()",
    "id": "b88937e4fbe04157abede895319cb58a",
    "idx": 29,
    "time": "2021-02-02T23:11:30.568Z",
    "type": "execution"
   },
   {
    "id": "b88937e4fbe04157abede895319cb58a",
    "time": "2021-02-02T23:11:30.628Z",
    "type": "completion"
   },
   {
    "code": "query_q1a = \"\"\"\nSELECT \n    cmte_id,\n    transaction_amt,\n    name\nFROM indiv_sample_nyc\nWHERE name LIKE '%TRUMP%' AND name LIKE '%DONALD%'\nAND name NOT LIKE 'FOR PRESIDENT INC'\n\"\"\"\n\n\nres_q1a = pd.read_sql(query_q1a, engine)\nres_q1a",
    "id": "be31e1d617cc44df8067cb92435cc581",
    "idx": 31,
    "time": "2021-02-02T23:11:40.272Z",
    "type": "execution"
   },
   {
    "id": "be31e1d617cc44df8067cb92435cc581",
    "time": "2021-02-02T23:11:40.822Z",
    "type": "completion"
   },
   {
    "code": "query_q1a = \"\"\"\nSELECT \n    cmte_id,\n    transaction_amt,\n    name\nFROM indiv_sample_nyc\nWHERE name LIKE '%TRUMP%' AND name LIKE '%DONALD%'\nAND name NOT LIKE '%DONALD J TRUMP FOR PRESIDENT INC%'\n\"\"\"\n\n\nres_q1a = pd.read_sql(query_q1a, engine)\nres_q1a",
    "id": "be31e1d617cc44df8067cb92435cc581",
    "idx": 31,
    "time": "2021-02-02T23:11:58.360Z",
    "type": "execution"
   },
   {
    "id": "be31e1d617cc44df8067cb92435cc581",
    "time": "2021-02-02T23:11:58.820Z",
    "type": "completion"
   },
   {
    "code": "grader.check(\"q1a\")",
    "id": "551a35b002674c7fba29afe45744fff7",
    "idx": 32,
    "time": "2021-02-02T23:12:01.015Z",
    "type": "execution"
   },
   {
    "id": "551a35b002674c7fba29afe45744fff7",
    "time": "2021-02-02T23:12:01.106Z",
    "type": "completion"
   },
   {
    "code": "query_q1b = \"\"\"\nSELECT\n    comm.cmte_id,\n    SUM(transaction_amt) AS total_amount,\n    COUNT(*) AS num_donations,\n    cmte_nm\nFROM indiv_sample_nyc, comm\nWHERE comm.cmte_id = indiv_sample_nyc.cmte_id\nAND name LIKE '%TRUMP%' AND name LIKE '%DONALD%'\nAND name NOT LIKE '%DONALD J TRUMP FOR PRESIDENT INC%'\nGROUP BY comm.cmte_id\nORDER_BY total_amount DESC\n\"\"\"\n\n\nres_q1b = pd.read_sql(query_q1b, engine)\nres_q1b",
    "id": "943eb65ce7db45dd8e59b8503c2e798e",
    "idx": 35,
    "time": "2021-02-02T23:28:54.781Z",
    "type": "execution"
   },
   {
    "id": "943eb65ce7db45dd8e59b8503c2e798e",
    "time": "2021-02-02T23:28:54.962Z",
    "type": "completion"
   },
   {
    "code": "query_q1b = \"\"\"\nSELECT\n    comm.cmte_id,\n    SUM(transaction_amt) AS total_amount,\n    COUNT(*) AS num_donations,\n    cmte_nm\nFROM indiv_sample_nyc, comm\nWHERE comm.cmte_id = indiv_sample_nyc.cmte_id\nAND name LIKE '%TRUMP%' AND name LIKE '%DONALD%'\nAND name NOT LIKE '%DONALD J TRUMP FOR PRESIDENT INC%'\nGROUP BY comm.cmte_id\nORDER BY total_amount DESC\n\"\"\"\n\n\nres_q1b = pd.read_sql(query_q1b, engine)\nres_q1b",
    "id": "943eb65ce7db45dd8e59b8503c2e798e",
    "idx": 35,
    "time": "2021-02-02T23:29:02.281Z",
    "type": "execution"
   },
   {
    "id": "943eb65ce7db45dd8e59b8503c2e798e",
    "time": "2021-02-02T23:29:02.869Z",
    "type": "completion"
   },
   {
    "code": "grader.check(\"q1b\")",
    "id": "a5433da149a84339ae9ac8f11353f581",
    "idx": 36,
    "time": "2021-02-02T23:29:03.566Z",
    "type": "execution"
   },
   {
    "id": "a5433da149a84339ae9ac8f11353f581",
    "time": "2021-02-02T23:29:03.636Z",
    "type": "completion"
   },
   {
    "code": "query_q2a = \"\"\"\nSELECT cand_name, cmte_nm\nFROM cand c1 INNER JOIN comm c2 ON c1.cand_id = c2.cand_id\nORDER BY cand_name DESC\nLIMIT 5\n\"\"\"\n\n\nres_q2a = pd.read_sql(query_q2a, engine)\nres_q2a",
    "id": "a3a67829531649c7a337ccd12e726abc",
    "idx": 39,
    "time": "2021-02-02T23:33:10.377Z",
    "type": "execution"
   },
   {
    "id": "a3a67829531649c7a337ccd12e726abc",
    "time": "2021-02-02T23:33:10.532Z",
    "type": "completion"
   },
   {
    "code": "grader.check(\"q2a\")",
    "id": "8e7676d5fdb74f30893f287862fc91fc",
    "idx": 40,
    "time": "2021-02-02T23:33:12.623Z",
    "type": "execution"
   },
   {
    "id": "8e7676d5fdb74f30893f287862fc91fc",
    "time": "2021-02-02T23:33:12.790Z",
    "type": "completion"
   },
   {
    "code": "query_q2b = \"\"\"\nSELECT cand_name, cmte_nm\nFROM cand c1 LEFT JOIN comm c2 ON c1.cand_id = c2.cand_id\nORDER BY cand_name DESC\nLIMIT 5\n\"\"\"\n\n\nres_q2b = pd.read_sql(query_q2b, engine)\nres_q2b",
    "id": "181a861d858941528a6301e1d613187c",
    "idx": 42,
    "time": "2021-02-02T23:35:27.555Z",
    "type": "execution"
   },
   {
    "id": "181a861d858941528a6301e1d613187c",
    "time": "2021-02-02T23:35:27.696Z",
    "type": "completion"
   },
   {
    "code": "grader.check(\"q2b\")",
    "id": "beb0555a7fcc41c4b06f300fde859fff",
    "idx": 43,
    "time": "2021-02-02T23:35:28.164Z",
    "type": "execution"
   },
   {
    "id": "beb0555a7fcc41c4b06f300fde859fff",
    "time": "2021-02-02T23:35:28.237Z",
    "type": "completion"
   },
   {
    "code": "grader.check_all()",
    "id": "413f074077f74273a333a6cfd6eb1811",
    "idx": 45,
    "time": "2021-02-02T23:35:30.130Z",
    "type": "execution"
   },
   {
    "id": "413f074077f74273a333a6cfd6eb1811",
    "time": "2021-02-02T23:35:30.257Z",
    "type": "completion"
   },
   {
    "code": "# Save your notebook first, then run this cell to export your submission.\ngrader.export(pdf=False)",
    "id": "c7e042668ddd4b96891bed7fc9ec1852",
    "idx": 47,
    "time": "2021-02-02T23:35:31.675Z",
    "type": "execution"
   }
  ],
  "kernelspec": {
   "display_name": "Python 3",
   "language": "python",
   "name": "python3"
  },
  "language_info": {
   "codemirror_mode": {
    "name": "ipython",
    "version": 3
   },
   "file_extension": ".py",
   "mimetype": "text/x-python",
   "name": "python",
   "nbconvert_exporter": "python",
   "pygments_lexer": "ipython3",
   "version": "3.8.6"
  }
 },
 "nbformat": 4,
 "nbformat_minor": 4
}
